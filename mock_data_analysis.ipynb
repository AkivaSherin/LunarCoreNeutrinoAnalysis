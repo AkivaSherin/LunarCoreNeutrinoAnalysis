{
 "cells": [
  {
   "metadata": {},
   "cell_type": "markdown",
   "source": [
    "This is an important file!\n",
    "\n",
    "This is the file where most of my recent work has occurred. I work on producing mock data and then analyzing it by making all sorts of plots.\n",
    "\n",
    "I have code to make and safe make and save muon-neutrino pdfs (right now I am ignoring electron flavor).\n",
    "\n",
    "Then there's code to make mock data and find test statistics/best fit hypothesis.\n",
    "\n",
    "Then lastly I have code to make contour and scatter plots. I have two types of contour plots, one is \"classic\" and places a contour around the desired confidence interval. Then, my second (and I think more useful plot) is called \"heatmap\" and places multiple contours as well as displaying a heatmap of confidences. Both these plots could use some fixing up but they're hopefully correct in the information they display.\n",
    "\n",
    "The scatter plot code may be broken I have not had the chance to thoroughly test it."
   ],
   "id": "84234242a34cd861"
  },
  {
   "metadata": {
    "ExecuteTime": {
     "end_time": "2025-05-22T21:57:18.539192Z",
     "start_time": "2025-05-22T21:57:17.822288Z"
    }
   },
   "cell_type": "code",
   "source": [
    "import matplotlib.pyplot as plt\n",
    "import numpy as np\n",
    "from scipy.interpolate import interp1d\n",
    "%run neutrino_travel_to_earth_simulation.ipynb\n",
    "%run new_detections_oom.ipynb\n",
    "import pickle\n",
    "from scipy.interpolate import griddata"
   ],
   "id": "e587e268886e80c4",
   "outputs": [],
   "execution_count": 5
  },
  {
   "metadata": {
    "ExecuteTime": {
     "end_time": "2025-05-22T21:57:18.542643Z",
     "start_time": "2025-05-22T21:57:18.540159Z"
    }
   },
   "cell_type": "code",
   "source": [
    "#creats a pdf of expected lunar neutrinos of muon-flavor detected between 1 and 10 GeVs\n",
    "#is in terms of log/Gevs\n",
    "#core_radius input is in km\n",
    "\n",
    "def make_muon_detections_pdf(core_mantle_density_ratio, core_radius):\n",
    "    log_energies = np.linspace(0, 0.999, 100)\n",
    "    detection_rate = []\n",
    "    for log_energy in log_energies:\n",
    "        neutrinos_detected_ignoring_oscillation = get_diff_interactions(log_energy) #this is per log GeV\n",
    "        actual_muons_detected = neutrinos_detected_ignoring_oscillation * monte_carlo_uniform_core(10 ** log_energy, core_mantle_density_ratio, core_radius)[1] # factors in expected flavor ratio\n",
    "        detection_rate.append(actual_muons_detected)\n",
    "        \n",
    "    detections_interp = interp1d(log_energies, detection_rate, kind='linear')\n",
    "      \n",
    "        \n",
    "    #normalizing the pdf    \n",
    "    total_detections = quad(detections_interp, 0, 0.999, limit=1000)[0]\n",
    "    def pdf(log_e):\n",
    "        return detections_interp(log_e) / total_detections \n",
    "    \n",
    "    pdf_interp = interp1d(log_energies, pdf(log_energies), kind='linear') #we have to re-interpolate so that we can save our spline\n",
    "    \n",
    "    return pdf_interp\n"
   ],
   "id": "initial_id",
   "outputs": [],
   "execution_count": 6
  },
  {
   "metadata": {
    "ExecuteTime": {
     "end_time": "2025-05-22T21:57:18.544501Z",
     "start_time": "2025-05-22T21:57:18.543301Z"
    }
   },
   "cell_type": "code",
   "source": "",
   "id": "d3b5167bbcb53636",
   "outputs": [],
   "execution_count": 6
  },
  {
   "metadata": {
    "ExecuteTime": {
     "end_time": "2025-05-22T21:57:18.557462Z",
     "start_time": "2025-05-22T21:57:18.545603Z"
    }
   },
   "cell_type": "code",
   "source": [
    "#This is Prof. Hyde's code for making/saving PDFs, repurposed for muon detection pdfs\n",
    "\n",
    "\n",
    "#import modify_epdfs\n",
    "#rom modify_epdfs import epdf_new\n",
    "\n",
    "\n",
    "#######################################\n",
    "# epdf save/recall code\n",
    "#######################################\n",
    "\n",
    "## Import my modified energy pdfs, define function to find and \n",
    "## load appropriate pdf, generate and save new one if needed.\n",
    "\n",
    "# import any previous energy pdf splines I've made.\n",
    "# If file doesn't exist, create it and populate it with starter pdfs\n",
    "\n",
    "\n",
    "try:\n",
    "    with open('muon-pdf-splines-catalog.pkl', 'rb') as f:\n",
    "        muon_pdf_splines_catalog = pickle.load(f)\n",
    "except:\n",
    "    muon_pdf_splines_catalog = dict()\n",
    "    starter_muon_pdf = make_muon_detections_pdf(1, 330)\n",
    "    muon_pdf_splines_catalog['core_mantle_density_ratio'] = [1]\n",
    "    muon_pdf_splines_catalog['core_radius'] = [330]\n",
    "    muon_pdf_splines_catalog['spline'] = [starter_muon_pdf]\n",
    "    with open('muon-pdf-splines-catalog.pkl', 'wb') as f:\n",
    "            pickle.dump(muon_pdf_splines_catalog, f)\n"
   ],
   "id": "2748468564fc5de0",
   "outputs": [],
   "execution_count": 7
  },
  {
   "metadata": {
    "ExecuteTime": {
     "end_time": "2025-05-22T21:57:18.560796Z",
     "start_time": "2025-05-22T21:57:18.557960Z"
    }
   },
   "cell_type": "code",
   "source": [
    "#more of prof hyde's code that I repurposed\n",
    "\n",
    "# Retrieve appropriate muon pdf spline, or if it's not in the\n",
    "# catalog, evaluate and add it\n",
    "\n",
    "def muon_pdf_spline(find_core_mantle_density_ratio,find_core_radius):\n",
    "    index_val = len(muon_pdf_splines_catalog['core_mantle_density_ratio'])\n",
    "    found = False\n",
    "    for i in range(0,index_val):\n",
    "        # round to 4th decimal place - avoid unnecessary replication of splines\n",
    "        # due to rounding error in late decimal places\n",
    "        c1 = (np.round(muon_pdf_splines_catalog['core_mantle_density_ratio'][i],2) == np.round(find_core_mantle_density_ratio,2))\n",
    "        c2 = (np.round(muon_pdf_splines_catalog['core_radius'][i],0) == np.round(find_core_radius,0))\n",
    "        if c1 and c2:\n",
    "            found_spline = muon_pdf_splines_catalog['spline'][i]\n",
    "            found = True\n",
    "    \n",
    "    if found == False:\n",
    "        # generate new spline...\n",
    "        print(r'Generating new energy pdf spline: core-mantle density ratio =',np.round(find_core_mantle_density_ratio,2),r'core radius =',np.round(find_core_radius,0))\n",
    "        this_spline = make_muon_detections_pdf(find_core_mantle_density_ratio, find_core_radius)\n",
    "        # ... and add to catalog...\n",
    "        muon_pdf_splines_catalog['spline'].append(this_spline)\n",
    "        muon_pdf_splines_catalog['core_mantle_density_ratio'].append(np.round(find_core_mantle_density_ratio,2))\n",
    "        muon_pdf_splines_catalog['core_radius'].append(np.round(find_core_radius,0))\n",
    "        found_spline = this_spline\n",
    "        # ... and save to file\n",
    "        with open('muon-pdf-splines-catalog.pkl', 'wb') as f:\n",
    "            pickle.dump(muon_pdf_splines_catalog, f)\n",
    "            \n",
    "    return found_spline\n",
    "\n",
    "# Wrapper for energy pdf splines: calling this function evaluates\n",
    "# the signal energy pdf value for each point in sample\n",
    "\n",
    "def eval_muon_pdf(sample,core_mantle_density_ratio,core_radius):\n",
    "    muon_pdf = muon_pdf_spline(core_mantle_density_ratio,core_radius)\n",
    "    muon_pdf_on_sample = muon_pdf(sample)\n",
    "    return muon_pdf_on_sample\n"
   ],
   "id": "fa2744133a46dc5",
   "outputs": [],
   "execution_count": 8
  },
  {
   "metadata": {
    "ExecuteTime": {
     "end_time": "2025-05-22T21:57:18.563869Z",
     "start_time": "2025-05-22T21:57:18.561383Z"
    }
   },
   "cell_type": "code",
   "source": [
    "#example of making pdfs\n",
    "\n",
    "\"\"\"new_pdf1 = make_muon_detections_pdf(1, 100)\n",
    "new_pdf2 = make_muon_detections_pdf(2, 400)\n",
    "new_pdf3 = make_muon_detections_pdf(10, 500)\n",
    "\n",
    "log_energies = np.linspace(0, 0.999, 1000)\n",
    "plt.plot(log_energies, new_pdf1(log_energies), label='ratio = 1, radius=100km')\n",
    "plt.plot(log_energies, new_pdf2(log_energies), label='ratio = 2, radius=400km')\n",
    "plt.plot(log_energies, new_pdf3(log_energies), label='ratio = 10, radius=500km')\n",
    "plt.legend(loc='best')\n",
    "plt.xlabel('Log Energy (log10 GeV)')\n",
    "plt.ylabel('Probability')\n",
    "plt.title('Muon Detection PDF')\n",
    "plt.title('Muon Detection PDF')\n",
    "plt.savefig(\"muon_detection_pdfs_100_energies.png\")\"\"\"\n"
   ],
   "id": "35ab9b734fd9379f",
   "outputs": [
    {
     "data": {
      "text/plain": [
       "'new_pdf1 = make_muon_detections_pdf(1, 100)\\nnew_pdf2 = make_muon_detections_pdf(2, 400)\\nnew_pdf3 = make_muon_detections_pdf(10, 500)\\n\\nlog_energies = np.linspace(0, 0.999, 1000)\\nplt.plot(log_energies, new_pdf1(log_energies), label=\\'ratio = 1, radius=100km\\')\\nplt.plot(log_energies, new_pdf2(log_energies), label=\\'ratio = 2, radius=400km\\')\\nplt.plot(log_energies, new_pdf3(log_energies), label=\\'ratio = 10, radius=500km\\')\\nplt.legend(loc=\\'best\\')\\nplt.xlabel(\\'Log Energy (log10 GeV)\\')\\nplt.ylabel(\\'Probability\\')\\nplt.title(\\'Muon Detection PDF\\')\\nplt.title(\\'Muon Detection PDF\\')\\nplt.savefig(\"muon_detection_pdfs_100_energies.png\")'"
      ]
     },
     "execution_count": 9,
     "metadata": {},
     "output_type": "execute_result"
    }
   ],
   "execution_count": 9
  },
  {
   "metadata": {
    "ExecuteTime": {
     "end_time": "2025-05-22T21:57:18.566215Z",
     "start_time": "2025-05-22T21:57:18.564420Z"
    }
   },
   "cell_type": "code",
   "source": [
    "#creates mock muon neutrino detection data\n",
    "#returns a list of log neutrino energies\n",
    "def make_mock_data(core_mantle_density_ratio, core_radius, num_neutrinos):\n",
    "    pdf = muon_pdf_spline(core_mantle_density_ratio, core_radius) #make_muon_detections_pdf(core_mantle_density_ratio, core_radius)\n",
    "    \n",
    "    log_energies = []\n",
    "    while len(log_energies) < num_neutrinos:\n",
    "        random_log_energy = random.uniform(0, 0.999)\n",
    "        random_probability = random.uniform(0, 3)\n",
    "    \n",
    "        if (random_probability < pdf(random_log_energy)):\n",
    "            log_energies.append(random_log_energy)\n",
    "    \n",
    "    return log_energies"
   ],
   "id": "2b08857c215dbf52",
   "outputs": [],
   "execution_count": 10
  },
  {
   "metadata": {
    "ExecuteTime": {
     "end_time": "2025-05-22T21:57:18.569125Z",
     "start_time": "2025-05-22T21:57:18.566949Z"
    }
   },
   "cell_type": "code",
   "source": [
    "#turns mock data into a histogram and plots it\n",
    "#input is a list of log neutrino energies\n",
    "def turn_mock_data_into_hist(mock_data):\n",
    "    num_bins = 100\n",
    "    log_neutrino_energy_bins = np.linspace(0, 1, num_bins + 1)\n",
    "    neutrino_energy_histogram = np.zeros(num_bins)\n",
    "    \n",
    "    for log_energy in mock_data:\n",
    "        bin_index = np.digitize(log_energy, log_neutrino_energy_bins) - 1\n",
    "        if 0 <= bin_index < num_bins:\n",
    "            neutrino_energy_histogram[bin_index] += 1\n",
    "            \n",
    "    bin_centers = (log_neutrino_energy_bins[:-1] + log_neutrino_energy_bins[1:]) / 2\n",
    "\n",
    "    # Plot the histogram\n",
    "    plt.figure(figsize=(10, 6))\n",
    "    plt.bar(bin_centers, neutrino_energy_histogram, width=bin_centers[1] - bin_centers[0], edgecolor='k', alpha=0.7)\n",
    "    plt.xlabel('Log Neutrino Energy')\n",
    "    plt.ylabel('Frequency')\n",
    "    plt.title('Neutrino Energy Histogram')\n",
    "    plt.grid(True)"
   ],
   "id": "56cb467f2b62a0ab",
   "outputs": [],
   "execution_count": 11
  },
  {
   "metadata": {
    "ExecuteTime": {
     "end_time": "2025-05-22T21:57:18.571501Z",
     "start_time": "2025-05-22T21:57:18.569806Z"
    }
   },
   "cell_type": "code",
   "source": [
    "#finds log likelihood of data for a given model (density ratio and radius) using muon neutrino pdfs\n",
    "#data is a list of log neutrino energies\n",
    "def find_log_likelihood(core_mantle_density_ratio, core_radius, data):\n",
    "    muon_pdf = muon_pdf_spline(core_mantle_density_ratio, core_radius)\n",
    "    log_likelihood = 0\n",
    "    for i in range(len(data)):\n",
    "        log_likelihood += np.log10(muon_pdf(data[i]))\n",
    "    \n",
    "    return log_likelihood"
   ],
   "id": "602f65dcd8d52c10",
   "outputs": [],
   "execution_count": 12
  },
  {
   "metadata": {
    "ExecuteTime": {
     "end_time": "2025-05-22T21:57:18.575161Z",
     "start_time": "2025-05-22T21:57:18.573300Z"
    }
   },
   "cell_type": "code",
   "source": [
    "#this function finds the test statistic for a given model (density ratio and radius) and data set\n",
    "#test statistic is defined as lambda = 2 log([likelihood of test hypothesis] / [likelihood of null hypothesis])\n",
    "#null hypothesis is radius = 330 km, core-mantle density ratio = 1.77 (core density is thus 6.15 g/cm^2)\n",
    "#data is a list of log neutrino energies\n",
    "\n",
    "def find_test_statistic(core_mantle_density_ratio_test_hypothesis, core_radius_test_hypothesis, data):\n",
    "    test_hypothesis_log_likelihood = find_log_likelihood(core_mantle_density_ratio_test_hypothesis, core_radius_test_hypothesis, data)\n",
    "    null_hypothesis_log_likelihood = find_log_likelihood(1.77, 330, data)\n",
    "    \n",
    "    test_statistic = 2 * (test_hypothesis_log_likelihood - null_hypothesis_log_likelihood)\n",
    "    return test_statistic"
   ],
   "id": "6552da8b3813f210",
   "outputs": [],
   "execution_count": 13
  },
  {
   "metadata": {
    "ExecuteTime": {
     "end_time": "2025-05-22T21:57:18.577701Z",
     "start_time": "2025-05-22T21:57:18.575572Z"
    }
   },
   "cell_type": "code",
   "source": [
    "#takes in a list of log detected neutrino energies \n",
    "# then returns the best fit density ratio and radius by maximizing test statistic across a range of parameters\n",
    "#data is a list of log neutrino energies\n",
    "def find_best_fit_parameters(data):\n",
    "    core_mantle_density_ratios = np.linspace(0, 30, 10)\n",
    "    core_radii = np.linspace(0, 500, 10) #in km\n",
    "    \n",
    "    first_test = True # whether or not we have tested a pair of parameters yet\n",
    "    best_fit_test_statistic = 0\n",
    "    best_fit_density_ratio = 0\n",
    "    best_fit_radius = 0\n",
    "    \n",
    "    for core_mantle_density_ratio in core_mantle_density_ratios:\n",
    "        for core_radius in core_radii:\n",
    "            if first_test: #if first set of parameters, they are automatically the best\n",
    "                best_fit_density_ratio = core_mantle_density_ratio\n",
    "                best_fit_radius = core_radius\n",
    "                best_fit_test_statistic = find_test_statistic(core_mantle_density_ratio, core_radius, data)\n",
    "                first_test = False\n",
    "            else:\n",
    "                new_test_statistic = find_test_statistic(core_mantle_density_ratio, core_radius, data)\n",
    "                if (new_test_statistic > best_fit_test_statistic):\n",
    "                    best_fit_density_ratio = core_mantle_density_ratio\n",
    "                    best_fit_radius = core_radius\n",
    "    \n",
    "    return best_fit_density_ratio, best_fit_radius, best_fit_test_statistic"
   ],
   "id": "26df75c374acbf1c",
   "outputs": [],
   "execution_count": 14
  },
  {
   "metadata": {
    "ExecuteTime": {
     "end_time": "2025-05-22T21:57:18.580059Z",
     "start_time": "2025-05-22T21:57:18.578187Z"
    }
   },
   "cell_type": "code",
   "source": [
    "#create many null hypothesis mock data sets for find_confidence_interval function\n",
    "#returns a list of mock data sets of log neutrino energies\n",
    "def make_mock_data_sets(density_ratio, radius, num_mock_data_sets, neutrinos_per_set):\n",
    "    data_sets = []\n",
    "    \n",
    "    for i in range(num_mock_data_sets):\n",
    "        data_sets.append(make_mock_data(density_ratio, radius, neutrinos_per_set)) #our null hypothesis is 1.77 density ratio, 330 km core radius\n",
    "        \n",
    "    return data_sets"
   ],
   "id": "d20f4e529c19510a",
   "outputs": [],
   "execution_count": 15
  },
  {
   "metadata": {
    "ExecuteTime": {
     "end_time": "2025-05-22T21:57:18.582374Z",
     "start_time": "2025-05-22T21:57:18.580593Z"
    }
   },
   "cell_type": "code",
   "source": [
    "#given a hypothesis's test statistic, finds and returns how significant that result is (the p value)\n",
    "#i.e. how often would the null hypothesis data set produce such a high test statistic\n",
    "def find_significance(hypothesis_test_statistic, num_mock_data_sets, neutrinos_per_data_set):    \n",
    "    null_hypothesis_data_sets = make_mock_data_sets(1.77, 330, num_mock_data_sets, neutrinos_per_data_set)\n",
    "    \n",
    "    num_significant_data_sets = 0.0 #this is to keep track of the number of mock data sets with a higher test statistic than our test hypothesis\n",
    "    \n",
    "    for data_set in null_hypothesis_data_sets:\n",
    "        best_fit_test_statistic = find_best_fit_parameters(data_set)[2]\n",
    "        if best_fit_test_statistic > hypothesis_test_statistic: #does this data set produce a higher test statistic?\n",
    "            num_significant_data_sets += 1\n",
    "            \n",
    "    return num_significant_data_sets / num_mock_data_sets        "
   ],
   "id": "7a4faca669f11271",
   "outputs": [],
   "execution_count": 16
  },
  {
   "metadata": {
    "ExecuteTime": {
     "end_time": "2025-05-22T21:57:18.584780Z",
     "start_time": "2025-05-22T21:57:18.582810Z"
    }
   },
   "cell_type": "code",
   "source": [
    "#given a test hypothesis ratio and radius, calculates the minimum test statistic to consider for a given confidence interval \n",
    "\n",
    "def find_confidence_interval_minimum_test_statistic(percent, test_hypothesis_density_ratio, test_hypothesis_radius, num_mock_data_sets, neutrinos_per_data_set):\n",
    "    test_hypothesis_data_sets = make_mock_data_sets(test_hypothesis_density_ratio, test_hypothesis_radius, num_mock_data_sets, neutrinos_per_data_set)\n",
    "    \n",
    "    best_fit_density_ratios = []\n",
    "    best_fit_radii = []\n",
    "    best_fit_test_statistics = []\n",
    "    \n",
    "    for data_set in test_hypothesis_data_sets:\n",
    "        new_density_ratio, new_radius, new_test_statistic = find_best_fit_parameters(data_set) # am i finding test statistic correctly???\n",
    "        best_fit_density_ratios.append(new_density_ratio)\n",
    "        best_fit_radii.append(new_radius)\n",
    "        best_fit_test_statistics.append(new_test_statistic)\n",
    "    \n",
    "    minimum_test_statistic = np.percentile(best_fit_test_statistics, 100 - percent)\n",
    "    \n",
    "    return minimum_test_statistic"
   ],
   "id": "739759c82b34e7f6",
   "outputs": [],
   "execution_count": 17
  },
  {
   "metadata": {
    "ExecuteTime": {
     "end_time": "2025-05-22T21:57:18.587805Z",
     "start_time": "2025-05-22T21:57:18.585288Z"
    }
   },
   "cell_type": "code",
   "source": [
    "#sets up data for the function make_confidence_interval_contour_plot, so that we can make a contour plot \n",
    "#real ratio and real radius are what we imagine are the real ratio and radius of the moon (to see whether we could notice it\n",
    "# NOT to be used for heatmap_confidence intervals\n",
    "def make_confidence_interval_data(percent_confidence, real_ratio, real_radius, num_neutrinos):\n",
    "    real_data = make_mock_data(real_ratio, real_radius, num_neutrinos)\n",
    "    core_mantle_density_ratios = np.linspace(0, 30, 10)\n",
    "    core_radii = np.linspace(0, 500, 10) #in km\n",
    "        \n",
    "    ratio_radius_test_statistic_tuples = []\n",
    "    \n",
    "    for core_mantle_density_ratio in core_mantle_density_ratios:\n",
    "        for core_radius in core_radii:                \n",
    "            new_test_statistic = find_test_statistic(core_mantle_density_ratio, core_radius, real_data)\n",
    "            ratio_radius_test_statistic_tuples.append((core_mantle_density_ratio, core_radius, new_test_statistic))\n",
    "            \n",
    "    tuple_ratios, tuple_radii, tuple_test_statistics = zip(*ratio_radius_test_statistic_tuples)\n",
    "    \n",
    "    \n",
    "    best_fit_density_ratio, best_fit_radius, best_fit_test_statistic = find_best_fit_parameters(real_data)\n",
    "    \n",
    "    minimum_test_statistic = find_confidence_interval_minimum_test_statistic(percent_confidence,best_fit_density_ratio, best_fit_radius, num_neutrinos, 10)\n",
    "    \n",
    "    thirty_percent_conf_minimum_test_statistic = find_confidence_interval_minimum_test_statistic(30, best_fit_density_ratio,\n",
    "                                                                             best_fit_radius, num_neutrinos, 10) \n",
    "    \n",
    "    sixty_percent_conf_minimum_test_statistic = find_confidence_interval_minimum_test_statistic(60, best_fit_density_ratio,\n",
    "                                                                             best_fit_radius, num_neutrinos, 10)\n",
    "    \n",
    "    ninety_percent_conf_minimum_test_statistic = find_confidence_interval_minimum_test_statistic(90, best_fit_density_ratio,\n",
    "                                                                             best_fit_radius, num_neutrinos, 10)\n",
    "    \n",
    "\n",
    "    \n",
    "    return tuple_ratios, tuple_radii, tuple_test_statistics, minimum_test_statistic, thirty_percent_conf_minimum_test_statistic, sixty_percent_conf_minimum_test_statistic, ninety_percent_conf_minimum_test_statistic"
   ],
   "id": "16d769459f74cf2e",
   "outputs": [],
   "execution_count": 18
  },
  {
   "metadata": {
    "ExecuteTime": {
     "end_time": "2025-05-22T21:57:18.590940Z",
     "start_time": "2025-05-22T21:57:18.588469Z"
    }
   },
   "cell_type": "code",
   "source": [
    "#sets up data for the function make_heatmap_confidence_interval_contour_plot, so that we can make a contour plot \n",
    "#real ratio and real radius are what we imagine are the real ratio and radius of the moon (to see whether we could notice it_\n",
    "#automatically sets contours at 30 60 and 90 percent confidence\n",
    "def make_heatmap_confidence_interval_data(real_ratio, real_radius, num_neutrinos):\n",
    "    real_data = make_mock_data(real_ratio, real_radius, num_neutrinos)\n",
    "    core_mantle_density_ratios = np.linspace(0, 30, 10)\n",
    "    core_radii = np.linspace(0, 500, 10) #in km\n",
    "        \n",
    "    ratio_radius_test_statistic_tuples = [] #list of tuples with corresponding ratio, radius and test statistic\n",
    "    \n",
    "    for core_mantle_density_ratio in core_mantle_density_ratios:\n",
    "        for core_radius in core_radii:                \n",
    "            new_test_statistic = find_test_statistic(core_mantle_density_ratio, core_radius, real_data)\n",
    "            ratio_radius_test_statistic_tuples.append((core_mantle_density_ratio, core_radius, new_test_statistic))\n",
    "            \n",
    "    tuple_ratios, tuple_radii, tuple_test_statistics = zip(*ratio_radius_test_statistic_tuples)\n",
    "    \n",
    "    \n",
    "    best_fit_density_ratio, best_fit_radius, best_fit_test_statistic = find_best_fit_parameters(real_data)\n",
    "        \n",
    "    thirty_percent_conf_minimum_test_statistic = find_confidence_interval_minimum_test_statistic(30, best_fit_density_ratio,\n",
    "                                                                             best_fit_radius, num_neutrinos, 10) \n",
    "    \n",
    "    sixty_percent_conf_minimum_test_statistic = find_confidence_interval_minimum_test_statistic(60, best_fit_density_ratio,\n",
    "                                                                             best_fit_radius, num_neutrinos, 10)\n",
    "    \n",
    "    ninety_percent_conf_minimum_test_statistic = find_confidence_interval_minimum_test_statistic(90, best_fit_density_ratio,\n",
    "                                                                             best_fit_radius, num_neutrinos, 10)\n",
    "    \n",
    "\n",
    "    \n",
    "    return tuple_ratios, tuple_radii, tuple_test_statistics, thirty_percent_conf_minimum_test_statistic, sixty_percent_conf_minimum_test_statistic, ninety_percent_conf_minimum_test_statistic"
   ],
   "id": "77c346071a27686b",
   "outputs": [],
   "execution_count": 19
  },
  {
   "metadata": {
    "ExecuteTime": {
     "end_time": "2025-05-22T21:57:18.596726Z",
     "start_time": "2025-05-22T21:57:18.591566Z"
    }
   },
   "cell_type": "code",
   "source": [
    "#this function plots creates a contour plot using the data made by \"make_confidence_interval_data\"\n",
    "#ratios, radii, test statistics are lists where the n'th entry give a trio of ratio, radius, and corresponding test statistic\n",
    "#minimum test statistic is the minimum test statistic for the coordinate to be included in our confidence interval\n",
    "#percent confidence, real ratio, real radius, and num_neutrinos are just info to be displayed in graph\n",
    "def make_confidence_interval_contour_plot(ratios, radii, test_statistics, minimum_test_statistic, percent_confidence, real_ratio, real_radius, num_neutrinos):\n",
    "    \n",
    "    ratio_points = np.linspace(min(ratios), max(ratios), 100)\n",
    "    radius_points = np.linspace(min(radii), max(radii), 100)\n",
    "    ratio_grid, radii_grid = np.meshgrid(ratio_points, radius_points)\n",
    "    \n",
    "    test_statistics_grid = griddata((ratios, radii), test_statistics, (ratio_grid, radii_grid), method='linear')\n",
    "\n",
    "    plt.figure(figsize=(8,6))\n",
    "\n",
    "    \n",
    "    contour = plt.contourf(ratio_grid, radii_grid, test_statistics_grid , levels=[-100, minimum_test_statistic, 100], colors=['red', 'blue'], alpha=0.7)\n",
    "\n",
    "    #make a colorbar\n",
    "    cbar = plt.colorbar(contour)\n",
    "    \n",
    "    # Then set tick labels\n",
    "    cbar.set_ticks([-30, 30])\n",
    "    cbar.set_ticklabels([\n",
    "        r\"$\\lambda \\leq$ \" + str(np.round(minimum_test_statistic, 4)),\n",
    "        r\"$\\lambda >$ \" + str(np.round(minimum_test_statistic, 4))\n",
    "    ])\n",
    "    \n",
    "    #finding best fit parameters\n",
    "    max_test_statistic_index = test_statistics.index(max(test_statistics))\n",
    "    best_fit_ratio = ratios[max_test_statistic_index]\n",
    "    best_fit_radius = radii[max_test_statistic_index]\n",
    "    \n",
    "    plt.scatter(best_fit_ratio, best_fit_radius, marker='x', color='black', s=100)\n",
    "    plt.annotate('Best Fit Value', \n",
    "             (best_fit_ratio, best_fit_radius), \n",
    "             textcoords=\"offset points\",\n",
    "             xytext=(10,10),  # offset for text placement\n",
    "             ha='left',\n",
    "             fontsize=10,\n",
    "             arrowprops=dict(arrowstyle='->', color='black'))\n",
    "    \n",
    "    \n",
    "    plt.scatter(real_ratio, real_radius, color='green', s=100, edgecolor='black', label=\"True Values\")\n",
    "    plt.annotate('\\\"True\\\" Value', \n",
    "             (real_ratio, real_radius), \n",
    "             textcoords=\"offset points\",\n",
    "             xytext=(10,10),  # offset for text placement\n",
    "             ha='left',\n",
    "             fontsize=10,\n",
    "             arrowprops=dict(arrowstyle='->', color='black'))\n",
    "\n",
    "    \n",
    "\n",
    "\n",
    "    # Show the plot\n",
    "    plt.xlabel(r\"$\\rho_{core} / \\rho_{mantle}$(True = \" + str(real_ratio) + \")\")\n",
    "    plt.ylabel(r\"$R_{core}$ (km) \" + \"(True = \" + str(real_radius) + \")\")\n",
    "    plt.title(str(percent_confidence)+\"% Confidence Interval Plot\")\n",
    "    plt.annotate('num neutrinos = ' + str(num_neutrinos) , xy=(1.05, 1.02), xycoords='axes fraction', ha='center')\n",
    "    plt.savefig(\"fixed_confidence_interval_plot_ratio\" + str(real_ratio) + \"_radius\" + str(real_radius) + \"_confidence\" + str(percent_confidence) + \"_neutrinos\" + str(num_neutrinos) + \".png\")\n",
    "    plt.close()"
   ],
   "id": "3bb7ac30b8902391",
   "outputs": [],
   "execution_count": 20
  },
  {
   "metadata": {
    "ExecuteTime": {
     "end_time": "2025-05-22T21:57:18.602749Z",
     "start_time": "2025-05-22T21:57:18.597280Z"
    }
   },
   "cell_type": "code",
   "source": [
    "#makes a confidence interval plot, but instead creates three contours (at 30, 60 and 90 pct confidence)\n",
    "#this is overlayed on a heatmat showing the test statistic of each parameter combination\n",
    "#use the function make_confidence_interval_data() to make the input for this function\n",
    "def make_heatmap_confidence_interval_plot(ratios, radii, test_statistics, thirty_pct_min_stat, sixty_pct_min_stat, ninety_pct_min_stat, real_ratio, real_radius, num_neutrinos):\n",
    "    \n",
    "    #CHANGE FONTSIZE (fontsize=12)\n",
    "    \n",
    "    max_test_statistic = max(test_statistics)\n",
    "    delta_test_statistics = []\n",
    "    \n",
    "    for test_statistic in test_statistics:\n",
    "        delta_test_statistics.append(test_statistic - max_test_statistic)\n",
    "        \n",
    "    # Step 1: Create a 2D grid\n",
    "    ratios = np.array(ratios)\n",
    "    radii = np.array(radii)\n",
    "    delta_stats = np.array(delta_test_statistics)\n",
    "    \n",
    "    # Get unique sorted values\n",
    "    unique_ratios = np.unique(ratios)\n",
    "    unique_radii = np.unique(radii)\n",
    "    \n",
    "    # Create a meshgrid\n",
    "    X, Y = np.meshgrid(unique_ratios, unique_radii)\n",
    "    \n",
    "    # Step 2: Reshape stats into a 2D array Z\n",
    "    Z = np.full(X.shape, np.nan)\n",
    "    for i in range(len(delta_stats)):\n",
    "        x_idx = np.where(unique_ratios == ratios[i])[0][0]\n",
    "        y_idx = np.where(unique_radii == radii[i])[0][0]\n",
    "        Z[y_idx, x_idx] = delta_stats[i]\n",
    "    \n",
    "    # Step 3: Plot heatmap\n",
    "    plt.figure(figsize=(10, 8))\n",
    "    heatmap = plt.pcolormesh(X, Y, Z, shading='auto', cmap='Spectral')\n",
    "    plt.colorbar(heatmap, label=r'$\\Delta_{\\lambda}$')\n",
    "    \n",
    "    # Step 4: Add contours\n",
    "    ratio_points = np.linspace(min(ratios), max(ratios), 100)\n",
    "    radius_points = np.linspace(min(radii), max(radii), 100)\n",
    "    ratio_grid, radii_grid = np.meshgrid(ratio_points, radius_points)\n",
    "    \n",
    "    test_statistics_grid = griddata((ratios, radii), test_statistics, (ratio_grid, radii_grid), method='linear')\n",
    "    \n",
    "    linestyles_dict = {\n",
    "        -100: '--',\n",
    "        ninety_pct_min_stat: '--',\n",
    "        sixty_pct_min_stat: '-.',\n",
    "        thirty_pct_min_stat: ':',\n",
    "        100: '-'\n",
    "    }\n",
    "\n",
    "    \n",
    "    contours = plt.contour(ratio_grid, radii_grid, test_statistics_grid , levels=[-100, ninety_pct_min_stat, sixty_pct_min_stat, thirty_pct_min_stat, 100], colors=['k','k'],\n",
    "                     linestyles=[\"--\", \"--\", \"-.\", \":\", \"--\"])\n",
    "\n",
    "    plt.clabel(contours, inline=True, fontsize=8)\n",
    "    \n",
    "    \n",
    "    #finding best fit parameters\n",
    "    max_test_statistic_index = test_statistics.index(max_test_statistic)\n",
    "    best_fit_ratio = ratios[max_test_statistic_index]\n",
    "    best_fit_radius = radii[max_test_statistic_index]\n",
    "    \n",
    "    plt.scatter(best_fit_ratio, best_fit_radius, marker='x', color='black', s=100)\n",
    "    plt.annotate('Best Fit Value', \n",
    "             (best_fit_ratio, best_fit_radius), \n",
    "             textcoords=\"offset points\",\n",
    "             xytext=(10,10),  # offset for text placement\n",
    "             ha='left',\n",
    "             fontsize=10,\n",
    "             arrowprops=dict(arrowstyle='->', color='black'))\n",
    "    \n",
    "    \n",
    "    plt.scatter(real_ratio, real_radius, color='black', s=100, edgecolor='black', label=\"True Values\")\n",
    "    plt.annotate('\\\"True\\\" Value', \n",
    "             (real_ratio, real_radius), \n",
    "             textcoords=\"offset points\",\n",
    "             xytext=(10,10),  # offset for text placement\n",
    "             ha='left',\n",
    "             fontsize=10,\n",
    "             arrowprops=dict(arrowstyle='->', color='black'))\n",
    "    \n",
    "    from matplotlib.lines import Line2D\n",
    "    \n",
    "    custom_lines = [\n",
    "    Line2D([0], [0], color='black', linestyle=':', label='30% confidence'),\n",
    "    Line2D([0], [0], color='black', linestyle='-.', label='60% confidence'),\n",
    "    Line2D([0], [0], color='black', linestyle='--', label='90% confidence'),\n",
    "    ]\n",
    "\n",
    "    # Add manual legend\n",
    "    plt.legend(handles=custom_lines, loc='best')\n",
    "    \n",
    "    # Final touches\n",
    "    plt.xlabel(r\"$\\rho_{core} / \\rho_{mantle}$(True = \" + str(real_ratio) + \")\")\n",
    "    plt.ylabel(r\"$R_{core}$ (km) \" + \"(True = \" + str(real_radius) + \")\")\n",
    "    plt.title(\"Heatmap Confidence Interval Plot\")\n",
    "    plt.annotate('num neutrinos = ' + str(num_neutrinos) , xy=(1.05, 1.02), xycoords='axes fraction', ha='center')\n",
    "    plt.savefig(\"heatmap_confidence_interval_plot_ratio\" + str(real_ratio) + \"_radius\" + str(real_radius) + \"_neutrinos\" + str(num_neutrinos) + \".png\")\n",
    "    plt.show()"
   ],
   "id": "7c9e51eb9e882538",
   "outputs": [],
   "execution_count": 21
  },
  {
   "metadata": {
    "ExecuteTime": {
     "end_time": "2025-05-22T21:57:18.604646Z",
     "start_time": "2025-05-22T21:57:18.603339Z"
    }
   },
   "cell_type": "code",
   "source": "#",
   "id": "3e177ff5e409e5b2",
   "outputs": [],
   "execution_count": 22
  },
  {
   "metadata": {
    "ExecuteTime": {
     "end_time": "2025-05-22T21:57:18.607848Z",
     "start_time": "2025-05-22T21:57:18.605143Z"
    }
   },
   "cell_type": "code",
   "source": [
    "#for a supposed \"real\" ratio and radius, creates many mock data sets.\n",
    "#then for each of these mock data sets finds the best fit parameters, and plots them\n",
    "def make_best_fit_scatter_plot(real_ratio, real_radius, num_mock_data_sets, neutrinos_per_data_set):\n",
    "    mock_data_sets = make_mock_data_sets(real_ratio, real_radius, num_mock_data_sets, neutrinos_per_data_set)\n",
    "    \n",
    "    for data_set in mock_data_sets:\n",
    "        best_fit_ratio, best_fit_radius, best_fit_test_statistic = find_best_fit_parameters(data_set)\n",
    "        print(\"scattered ratio:\" + str(best_fit_ratio) + \" radius: \" + str(best_fit_radius))\n",
    "        plt.scatter(best_fit_ratio, best_fit_radius, marker='x', color='black', s=100)\n",
    "        \n",
    "    plt.xlabel(r\"$\\rho_{core} / \\rho_{mantle}$(True = \" + str(real_ratio) + \")\")\n",
    "    plt.ylabel(r\"$R_{core}$ (km) \" + \"(True = \" + str(real_radius) + \")\")\n",
    "    plt.annotate('num neutrinos = ' + str(neutrinos_per_data_set) , xy=(1.00, 1.02), xycoords='axes fraction', ha='center')\n",
    "    \n",
    "    plt.scatter(real_ratio, real_radius, color='black', s=100, edgecolor='black', label=\"True Values\")\n",
    "    plt.annotate('\\\"True\\\" Value', \n",
    "             (real_ratio, real_radius), \n",
    "             textcoords=\"offset points\",\n",
    "             xytext=(10,10),  # offset for text placement\n",
    "             ha='left',\n",
    "             fontsize=10,\n",
    "             arrowprops=dict(arrowstyle='->', color='black'))\n",
    "    \n",
    "    \n",
    "    plt.title(\"Best Fit Scatter Plot\")\n",
    "    \n",
    "    plt.savefig(\"best_fit_scatter_plot_ratio\" + str(real_ratio) + \"_radius\" + str(real_radius) + \"_neutrinos\" + str(neutrinos_per_data_set) + \"_sets\" + str(num_mock_data_sets) + \".png\")\n",
    "    plt.close()\n",
    "    "
   ],
   "id": "73e22dae482ac4ab",
   "outputs": [],
   "execution_count": 23
  },
  {
   "metadata": {
    "ExecuteTime": {
     "end_time": "2025-05-22T21:57:18.610026Z",
     "start_time": "2025-05-22T21:57:18.608258Z"
    }
   },
   "cell_type": "code",
   "source": [
    "#makes a lot of scatter plots at once\n",
    "def make_many_scatter_plots():\n",
    "    ratios = [1, 3, 10]\n",
    "    radii = [100, 300, 500]\n",
    "    neutrino_counts = [10, 100, 1000]\n",
    "    \n",
    "    for num_neutrinos in neutrino_counts:\n",
    "        for ratio in ratios:\n",
    "            for radius in radii:\n",
    "                plt.clf()\n",
    "                make_best_fit_scatter_plot(ratio, radius, num_neutrinos, 10)"
   ],
   "id": "bd5ee3533fa397e6",
   "outputs": [],
   "execution_count": 24
  },
  {
   "metadata": {
    "ExecuteTime": {
     "end_time": "2025-05-22T21:58:07.981651Z",
     "start_time": "2025-05-22T21:57:18.610806Z"
    }
   },
   "cell_type": "code",
   "source": "rats, rads, stats, min_stat, thirty_min_stat, sixty_min_stat, ninety_min_stat = make_confidence_interval_data(30, 2, 400, 10)",
   "id": "1e2e91d22f3b54dd",
   "outputs": [
    {
     "name": "stdout",
     "output_type": "stream",
     "text": [
      "Generating new energy pdf spline: core-mantle density ratio = 2 core radius = 400\n"
     ]
    }
   ],
   "execution_count": 25
  },
  {
   "metadata": {
    "ExecuteTime": {
     "end_time": "2025-05-22T21:58:08.497072Z",
     "start_time": "2025-05-22T21:58:07.983447Z"
    }
   },
   "cell_type": "code",
   "source": "make_heatmap_confidence_interval_plot(rats, rads, stats, thirty_min_stat, sixty_min_stat, ninety_min_stat, 2, 100, 10)",
   "id": "4f7e3b1f0aff8b07",
   "outputs": [
    {
     "data": {
      "text/plain": [
       "<Figure size 1000x800 with 2 Axes>"
      ],
      "image/png": "[encoded data removed]"
     },
     "metadata": {},
     "output_type": "display_data"
    }
   ],
   "execution_count": 26
  },
  {
   "metadata": {
    "ExecuteTime": {
     "end_time": "2025-05-22T21:58:08.499728Z",
     "start_time": "2025-05-22T21:58:08.497600Z"
    }
   },
   "cell_type": "code",
   "source": [
    "#code to make multiple confidence interval plots at once for a variety of ratios, radii, and amount of neutrinos detected\n",
    "def make_many_confidence_interval_plots():\n",
    "    real_ratios = [3, 5, 25, 1]\n",
    "    real_radii = [3, 100, 400]\n",
    "    neutrino_counts = [10, 30, 100]\n",
    "    \n",
    "    for ratio in real_ratios:\n",
    "        for radius in real_radii:\n",
    "            for neutrino_count in neutrino_counts:\n",
    "                ratios, radii, test_statistics, thirty_percent_min_stat, sixty_percent_min_stat, ninety_percent_min_stat = make_heatmap_confidence_interval_data(ratio, radius, neutrino_count)\n",
    "                make_heatmap_confidence_interval_plot(ratios, radii, test_statistics, thirty_percent_min_stat, sixty_percent_min_stat, ninety_percent_min_stat, ratio, radius, neutrino_count)"
   ],
   "id": "d5456a98fee73433",
   "outputs": [],
   "execution_count": 27
  }
 ],
 "metadata": {
  "kernelspec": {
   "display_name": "Python 3",
   "language": "python",
   "name": "python3"
  },
  "language_info": {
   "codemirror_mode": {
    "name": "ipython",
    "version": 2
   },
   "file_extension": ".py",
   "mimetype": "text/x-python",
   "name": "python",
   "nbconvert_exporter": "python",
   "pygments_lexer": "ipython2",
   "version": "2.7.6"
  }
 },
 "nbformat": 4,
 "nbformat_minor": 5
}
