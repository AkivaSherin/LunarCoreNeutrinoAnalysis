{
 "cells": [
  {
   "metadata": {},
   "cell_type": "markdown",
   "source": "I don't recall what this code was for but its safe to ignore",
   "id": "b281c4f0d1b9009a"
  },
  {
   "cell_type": "code",
   "id": "initial_id",
   "metadata": {
    "collapsed": true,
    "ExecuteTime": {
     "end_time": "2024-06-20T19:02:37.036142Z",
     "start_time": "2024-06-20T19:02:37.032336Z"
    }
   },
   "source": [
    "import numpy as np\n",
    "import matplotlib.pyplot as plt\n",
    "from scipy.integrate import quad\n",
    "import math\n",
    "from scipy.interpolate import interp1d"
   ],
   "outputs": [],
   "execution_count": 48
  },
  {
   "metadata": {
    "ExecuteTime": {
     "end_time": "2024-06-20T19:02:37.039966Z",
     "start_time": "2024-06-20T19:02:37.037780Z"
    }
   },
   "cell_type": "code",
   "source": [
    "def neu_diff_flux(energy):  # GeVs\n",
    "    return 1.8 * (10 ** -18) * (((energy) / (10 ** 5)) ** (-2.52))  # Single power law formula for diffuse neutrino flux\n",
    "    #/cm^2/s/sr/GeV"
   ],
   "id": "4f394cd6b329d22a",
   "outputs": [],
   "execution_count": 49
  },
  {
   "metadata": {
    "ExecuteTime": {
     "end_time": "2024-06-20T19:02:37.048154Z",
     "start_time": "2024-06-20T19:02:37.041111Z"
    }
   },
   "cell_type": "code",
   "source": [
    "#these are values I got from Web Plot Digitizing a CC cross-section plot\n",
    "20.998018053876827,\n",
    "71.59732457299745,\n",
    "195.63029063568808,\n",
    "666.9767142701296,\n",
    "2617.6906006049767,\n",
    "11125.842153739322,\n",
    "109783.1765184451,\n",
    "2562687.509604299,\n",
    "36940357.82428877,\n",
    "663344496.668366,\n",
    "3504806387.090148,\n",
    "41295060959.3206,\n",
    "422796003979.0706,\n",
    "124436989287.35977,\n",
    "10350845957.459944,\n",
    "1450095398.5416524,\n",
    "153442766.75056547,\n",
    "9634704.158738362,\n",
    "456524.62382801063]\n",
    "xs_values = [5.857020818056673e-11, 1.1497569953977356e-10, 3.853528593710535e-10,\n",
    "             9.770099572992246e-10, 3.1992671377973846e-9, 1.2045035402587812e-8, 4.132012400115343e-8,\n",
    "             1.9179102616724926e-7, 9.111627561154906e-7, 0.0000030538555088334187, 0.000009111627561154906,\n",
    "             0.000017073526474706923, 0.00004132012400115343, 0.00009326033468832218,\n",
    "             0.0000628029144183426,\n",
    "             0.000025353644939701165,\n",
    "             0.000012045035402587836,\n",
    "             0.000005336699231206323,\n",
    "             0.0000017475284000076865,\n",
    "             4.3287612810830616e-7]\n",
    "cc_cross_section = interp1d(xs_energies, xs_values,kind='linear')  #mb"
   ],
   "id": "60c6eb3fb501d906",
   "outputs": [],
   "execution_count": 50
  },
  {
   "metadata": {
    "ExecuteTime": {
     "end_time": "2024-06-20T19:02:37.051429Z",
     "start_time": "2024-06-20T19:02:37.049607Z"
    }
   },
   "cell_type": "code",
   "source": [
    "def diff_neutrino_flux_moon(energy): # energy in gev\n",
    "    super_k_solid_angle = (1) / (384400 ** 2)  #solid angle = A / R^2\n",
    "    return neu_diff_flux(energy) * super_k_solid_angle\n",
    "    #/cm^2/s/GeV"
   ],
   "id": "9d306228452972f",
   "outputs": [],
   "execution_count": 51
  },
  {
   "metadata": {
    "ExecuteTime": {
     "end_time": "2024-06-20T19:02:37.054301Z",
     "start_time": "2024-06-20T19:02:37.052116Z"
    }
   },
   "cell_type": "code",
   "source": [
    "def find_total_diff_interaction_rate(energy): \n",
    "    density = 3.34  # g / cm^3\n",
    "    nucleon_mass = 1.66 * 10 ** -24\n",
    "    nucleon_density = density / nucleon_mass  #nucleons per cm^3\n",
    "    r_moon  = 1.74 * 10 ** 8 # in cm\n",
    "    V_moon = (4.0 / 3) * math.pi * r_moon ** 3 # cm^3\n",
    "    total_nucleons = nucleon_density * V_moon\n",
    "    \n",
    "\n",
    "    xs = cc_cross_section(energy) * (10 ** -27)  #converts mb to cm^2\n",
    "    flux = diff_neutrino_flux_moon(energy)\n",
    "\n",
    "    return total_nucleons * xs * flux  # R = nt sigma flux\n",
    "    #interactions /cm^3/s/GeV"
   ],
   "id": "8ac2de98c8d65ab0",
   "outputs": [],
   "execution_count": 52
  },
  {
   "metadata": {
    "ExecuteTime": {
     "end_time": "2024-06-20T19:02:37.056820Z",
     "start_time": "2024-06-20T19:02:37.054959Z"
    }
   },
   "cell_type": "code",
   "source": [
    "def find_int_over_range(E0, E_Final):\n",
    "    reference_energy = 10 ** 3 # GeVs\n",
    "    integrand = lambda x: find_total_diff_interaction_rate(x * reference_energy)\n",
    "    return quad(integrand, E0 / reference_energy, E_Final / reference_energy)[0] * reference_energy"
   ],
   "id": "c5b9d766a4e33ffc",
   "outputs": [],
   "execution_count": 53
  },
  {
   "metadata": {
    "ExecuteTime": {
     "end_time": "2024-06-20T19:02:37.062190Z",
     "start_time": "2024-06-20T19:02:37.057592Z"
    }
   },
   "cell_type": "code",
   "source": "find_int_over_range(1, 10 ** 9)",
   "id": "9561badd3cdbddd0",
   "outputs": [
    {
     "data": {
      "text/plain": [
       "2.4588598350793425e-09"
      ]
     },
     "execution_count": 54,
     "metadata": {},
     "output_type": "execute_result"
    }
   ],
   "execution_count": 54
  },
  {
   "metadata": {
    "ExecuteTime": {
     "end_time": "2024-06-20T19:02:37.065290Z",
     "start_time": "2024-06-20T19:02:37.063058Z"
    }
   },
   "cell_type": "code",
   "source": [
    "def find_background_neutrino_flux(E0, E_Final):\n",
    "    moon_solid_angle = 10 ** -5 #should be more accurate\n",
    "    iceCube_area = 10 ** 10 #cm^2\n",
    "    integrand = lambda x: neu_diff_flux(reference_energy * x) * moon_solid_angle * iceCube_area\n",
    "    reference_energy = 10 ** 3 # GeVs\n",
    "    return quad(integrand, E0 / reference_energy, E_Final / reference_energy)[0] * reference_energy "
   ],
   "id": "a0900e47f758c979",
   "outputs": [],
   "execution_count": 55
  },
  {
   "metadata": {
    "ExecuteTime": {
     "end_time": "2024-06-20T19:02:37.069226Z",
     "start_time": "2024-06-20T19:02:37.067043Z"
    }
   },
   "cell_type": "code",
   "source": "find_background_neutrino_flux(1, 10 ** 9)",
   "id": "fb4b78b3a9c90348",
   "outputs": [
    {
     "data": {
      "text/plain": [
       "1.3390843156094516e-09"
      ]
     },
     "execution_count": 56,
     "metadata": {},
     "output_type": "execute_result"
    }
   ],
   "execution_count": 56
  },
  {
   "metadata": {
    "ExecuteTime": {
     "end_time": "2024-06-20T19:02:37.071330Z",
     "start_time": "2024-06-20T19:02:37.069915Z"
    }
   },
   "cell_type": "code",
   "source": "",
   "id": "dd21f6ff38f84e90",
   "outputs": [],
   "execution_count": 56
  }
 ],
 "metadata": {
  "kernelspec": {
   "display_name": "Python 3",
   "language": "python",
   "name": "python3"
  },
  "language_info": {
   "codemirror_mode": {
    "name": "ipython",
    "version": 2
   },
   "file_extension": ".py",
   "mimetype": "text/x-python",
   "name": "python",
   "nbconvert_exporter": "python",
   "pygments_lexer": "ipython2",
   "version": "2.7.6"
  }
 },
 "nbformat": 4,
 "nbformat_minor": 5
}
