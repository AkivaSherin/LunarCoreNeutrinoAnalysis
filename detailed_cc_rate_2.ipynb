{
 "cells": [
  {
   "cell_type": "code",
   "id": "initial_id",
   "metadata": {
    "collapsed": true,
    "ExecuteTime": {
     "end_time": "2024-06-18T18:30:09.434705Z",
     "start_time": "2024-06-18T18:30:09.431741Z"
    }
   },
   "source": [
    "import numpy as np\n",
    "import matplotlib.pyplot as plt\n",
    "from scipy.integrate import quad\n",
    "import math\n",
    "from scipy.interpolate import interp1d"
   ],
   "outputs": [],
   "execution_count": 21
  },
  {
   "metadata": {
    "ExecuteTime": {
     "end_time": "2024-06-18T18:30:09.442597Z",
     "start_time": "2024-06-18T18:30:09.440296Z"
    }
   },
   "cell_type": "code",
   "source": [
    "def neu_diff_flux(energy):  # GeVs\n",
    "    return 1.8 * (10 ** -18) * (((energy) / (10 ** 5)) ** (-2.52))  # Single power law formula for diffuse neutrino flux\n",
    "    #/cm^2/s/sr/GeV"
   ],
   "id": "9b725727b5ad2460",
   "outputs": [],
   "execution_count": 22
  },
  {
   "metadata": {
    "ExecuteTime": {
     "end_time": "2024-06-18T18:30:09.451709Z",
     "start_time": "2024-06-18T18:30:09.448931Z"
    }
   },
   "cell_type": "code",
   "source": [
    "#these are values I got from Web Plot Digitizing a CC cross section plot\n",
    "xs_energies =  [9.98080495607805,\n",
    "20.998018053876827,\n",
    "71.59732457299745,\n",
    "195.63029063568808,\n",
    "666.9767142701296,\n",
    "2617.6906006049767,\n",
    "11125.842153739322,\n",
    "109783.1765184451,\n",
    "2562687.509604299,\n",
    "36940357.82428877,\n",
    "663344496.668366,\n",
    "3504806387.090148,\n",
    "41295060959.3206,\n",
    "422796003979.0706,\n",
    "124436989287.35977,\n",
    "10350845957.459944,\n",
    "1450095398.5416524,\n",
    "153442766.75056547,\n",
    "9634704.158738362,\n",
    "456524.62382801063]\n",
    "xs_values = [5.857020818056673e-11, 1.1497569953977356e-10, 3.853528593710535e-10,\n",
    "             9.770099572992246e-10, 3.1992671377973846e-9, 1.2045035402587812e-8, 4.132012400115343e-8,\n",
    "             1.9179102616724926e-7, 9.111627561154906e-7, 0.0000030538555088334187, 0.000009111627561154906,\n",
    "             0.000017073526474706923, 0.00004132012400115343, 0.00009326033468832218,\n",
    "             0.0000628029144183426,\n",
    "             0.000025353644939701165,\n",
    "             0.000012045035402587836,\n",
    "             0.000005336699231206323,\n",
    "             0.0000017475284000076865,\n",
    "             4.3287612810830616e-7]\n",
    "cc_cross_section = interp1d(xs_energies, xs_values,kind='linear')  #mb\n"
   ],
   "id": "b921d7a88ef66af9",
   "outputs": [],
   "execution_count": 23
  },
  {
   "metadata": {
    "ExecuteTime": {
     "end_time": "2024-06-18T18:30:09.463317Z",
     "start_time": "2024-06-18T18:30:09.461167Z"
    }
   },
   "cell_type": "code",
   "source": [
    "def total_diff_neutrino_flux_moon(energy):\n",
    "    moon_solid_angle = 6.4 * 10 ** -5\n",
    "    ice_cube_area = 10 ** 10 # cm^2\n",
    "    return neu_diff_flux(energy) * moon_solid_angle * ice_cube_area \n",
    "    #/cm^2/s\n"
   ],
   "id": "a49361d15ce84e1d",
   "outputs": [],
   "execution_count": 24
  },
  {
   "metadata": {
    "ExecuteTime": {
     "end_time": "2024-06-18T18:30:09.466293Z",
     "start_time": "2024-06-18T18:30:09.464358Z"
    }
   },
   "cell_type": "code",
   "source": [
    "def diff_muon_flux_per_cubic_cm_moon(energy):\n",
    "    density = 3.34 # g / cm^3\n",
    "    nucleon_mass = 1.66 * 10 ** -24\n",
    "    nucleon_density = density / nucleon_mass #nucleons per cm^3\n",
    "    \n",
    "    xs = cc_cross_section(energy) * (10 ** -27)#converts mb to cm^2\n",
    "    \n",
    "    r_moon  = 1.74 * 10 ** 8 # in cm\n",
    "    area_moon = math.pi * r_moon ** 3\n",
    "    \n",
    "    flux = total_diff_neutrino_flux_moon(energy) / area_moon \n",
    "    \n",
    "    return nucleon_density * xs * flux # R = nt sigma flux\n",
    "    #interactions /cm^3/s    "
   ],
   "id": "fa58fb91cbeaf5ad",
   "outputs": [],
   "execution_count": 25
  },
  {
   "metadata": {
    "ExecuteTime": {
     "end_time": "2024-06-18T18:30:09.469095Z",
     "start_time": "2024-06-18T18:30:09.467066Z"
    }
   },
   "cell_type": "code",
   "source": [
    "def find_muon_final_energy(E0, distance_through_moon): #energy in GeV, distance in cm\n",
    "  #constants\n",
    "  zeta = 2.4 * 10**5 # g / cm^2\n",
    "  epsilon = 500 #GeV\n",
    "  moon_density = 3.34 # g / cm^3\n",
    "  column_depth = distance_through_moon * moon_density\n",
    "\n",
    "  E_final = ((E0 + epsilon) * np.exp(- column_depth / zeta)) - epsilon\n",
    "  \n",
    "  if E_final < 0.1:\n",
    "    E_final = 0.1\n",
    "\n",
    "  return E_final"
   ],
   "id": "a02a318307d231b5",
   "outputs": [],
   "execution_count": 26
  },
  {
   "metadata": {
    "ExecuteTime": {
     "end_time": "2024-06-18T18:30:09.477262Z",
     "start_time": "2024-06-18T18:30:09.475398Z"
    }
   },
   "cell_type": "code",
   "source": [
    "def find_muon_initial_energy(E_final, distance_through_moon):\n",
    "    zeta = 2.4 * 10**5 # g / cm^2\n",
    "    epsilon = 500 #GeV\n",
    "    moon_density = 3.34 # g / cm^3\n",
    "    column_depth = distance_through_moon * moon_density\n",
    "    \n",
    "    E_initial = ((E_final + epsilon) * np.exp( column_depth / zeta)) - epsilon\n",
    "    \n",
    "    return E_initial\n"
   ],
   "id": "dc88b00cf97b8dc",
   "outputs": [],
   "execution_count": 27
  },
  {
   "metadata": {
    "ExecuteTime": {
     "end_time": "2024-06-18T18:30:09.479772Z",
     "start_time": "2024-06-18T18:30:09.478181Z"
    }
   },
   "cell_type": "code",
   "source": [
    "#this function finds the flux of signal muons /gev/cm^3/s given a certain moon depth and final energy\n",
    "#it's different frim the other function in that it give it in terms of the initital energy\n",
    "def find_muon_diff_flux_per_cm3_given_E_final(E_final, distance_through_moon):\n",
    "    E_initial = find_muon_initial_energy(E_final, distance_through_moon)\n",
    "    return diff_muon_flux_per_cubic_cm_moon(E_initial) #flux"
   ],
   "id": "3089af8b2a62ce7e",
   "outputs": [],
   "execution_count": 28
  },
  {
   "metadata": {
    "ExecuteTime": {
     "end_time": "2024-06-18T18:30:09.488041Z",
     "start_time": "2024-06-18T18:30:09.486166Z"
    }
   },
   "cell_type": "code",
   "source": [
    "def muon_survival_to_earth_probability(energy): #energy in GeVs\n",
    "    dist_moon_to_earth = 3.8 * 10 ** 8 #m\n",
    "    c = 3 * 10 ** 8 # m/s\n",
    "    mass_muon = 105.7 * 10 ** -3 #GeV\n",
    "    coordinate_time = dist_moon_to_earth / c # s\n",
    "    lifetime = 2.2 * 10 ** -6 # s\n",
    "    \n",
    "    proper_time = (mass_muon / energy) * coordinate_time # s\n",
    "    survival_probability = np.exp(- proper_time / lifetime)\n",
    "    \n",
    "    return survival_probability"
   ],
   "id": "a88a8d02a6c54c3e",
   "outputs": [],
   "execution_count": 29
  },
  {
   "metadata": {
    "ExecuteTime": {
     "end_time": "2024-06-18T18:30:09.499694Z",
     "start_time": "2024-06-18T18:30:09.497635Z"
    }
   },
   "cell_type": "code",
   "source": [
    "def find_total_diff_muon_flux(E_final):\n",
    "    r_moon  = 1.74 * 10 ** 8 # in cm\n",
    "    shell_area = 2 * math.pi * r_moon ** 2 #for now, treating each shell as the surface of a hemisphere\n",
    "    L = 10 ** 5 # cm, characteristic distance to make integration easuer\n",
    "    flux_per_shell = lambda distance: find_muon_diff_flux_per_cm3_given_E_final(E_final, L * distance) * shell_area  * muon_survival_to_earth_probability(E_final)\n",
    "    total_flux = quad(flux_per_shell, 0, 10 ** 5.6 / L)[0] * L\n",
    "    return total_flux"
   ],
   "id": "d7ccb0dc04b7a485",
   "outputs": [],
   "execution_count": 30
  },
  {
   "metadata": {
    "ExecuteTime": {
     "end_time": "2024-06-18T18:30:09.502923Z",
     "start_time": "2024-06-18T18:30:09.500662Z"
    }
   },
   "cell_type": "code",
   "source": "find_total_diff_muon_flux(10 ** 5)",
   "id": "85297d19555dedb8",
   "outputs": [
    {
     "data": {
      "text/plain": [
       "9.340149290968914e-26"
      ]
     },
     "execution_count": 31,
     "metadata": {},
     "output_type": "execute_result"
    }
   ],
   "execution_count": 31
  },
  {
   "metadata": {
    "ExecuteTime": {
     "end_time": "2024-06-18T18:30:09.505387Z",
     "start_time": "2024-06-18T18:30:09.503637Z"
    }
   },
   "cell_type": "code",
   "source": [
    "signal_muon_energies = np.logspace(3, 9, 1000)\n",
    "\n",
    "def make_diff_muon_flux_array(energies):\n",
    "    diff_flux_arr = []\n",
    "    for energy in energies:\n",
    "        diff_flux_arr.append(find_total_diff_muon_flux(energy))\n",
    "    \n",
    "    return diff_flux_arr"
   ],
   "id": "8d5cc2a4f79d7079",
   "outputs": [],
   "execution_count": 32
  },
  {
   "metadata": {
    "ExecuteTime": {
     "end_time": "2024-06-18T18:30:09.871282Z",
     "start_time": "2024-06-18T18:30:09.506327Z"
    }
   },
   "cell_type": "code",
   "source": [
    "plt.plot(signal_muon_energies, make_diff_muon_flux_array(signal_muon_energies),'k')\n",
    "plt.xlabel('Signal Muon Energy (GeV)')\n",
    "plt.ylabel('diff signal muon flux (GeV-1 sec-1)')\n",
    "plt.xscale('log')\n",
    "plt.yscale('log')\n",
    "plt.grid(True)    "
   ],
   "id": "8fe6ed4f4cf82ddf",
   "outputs": [
    {
     "data": {
      "text/plain": [
       "<Figure size 640x480 with 1 Axes>"
      ],
      "image/png": "[encoded data removed]"
     },
     "metadata": {},
     "output_type": "display_data"
    }
   ],
   "execution_count": 33
  },
  {
   "metadata": {
    "ExecuteTime": {
     "end_time": "2024-06-18T18:30:10.047039Z",
     "start_time": "2024-06-18T18:30:09.872750Z"
    }
   },
   "cell_type": "code",
   "source": "interp_diff_muon_flux = interp1d(signal_muon_energies, make_diff_muon_flux_array(signal_muon_energies), kind='cubic')",
   "id": "b5e8b2fcdc7bd04e",
   "outputs": [],
   "execution_count": 34
  },
  {
   "metadata": {
    "ExecuteTime": {
     "end_time": "2024-06-18T18:30:10.049336Z",
     "start_time": "2024-06-18T18:30:10.047677Z"
    }
   },
   "cell_type": "code",
   "source": [
    "def find_muon_flux_over_range(E0, E_final):\n",
    "    characteristic_energy = 10 ** 5 # x = E / characteristic energy, so we can make integration easier\n",
    "    integrand = lambda x: interp_diff_muon_flux(x * characteristic_energy) \n",
    "    return quad(integrand, E0 / characteristic_energy, E_final / characteristic_energy)[0] * characteristic_energy"
   ],
   "id": "7c41b30c78284c27",
   "outputs": [],
   "execution_count": 35
  },
  {
   "metadata": {
    "ExecuteTime": {
     "end_time": "2024-06-18T18:30:10.053260Z",
     "start_time": "2024-06-18T18:30:10.050443Z"
    }
   },
   "cell_type": "code",
   "source": "find_muon_flux_over_range(10**3, 10**9)",
   "id": "cd5dd1e0123240c9",
   "outputs": [
    {
     "data": {
      "text/plain": [
       "4.06212563023815e-21"
      ]
     },
     "execution_count": 36,
     "metadata": {},
     "output_type": "execute_result"
    }
   ],
   "execution_count": 36
  },
  {
   "metadata": {
    "ExecuteTime": {
     "end_time": "2024-06-18T18:30:10.055139Z",
     "start_time": "2024-06-18T18:30:10.053908Z"
    }
   },
   "cell_type": "code",
   "source": "",
   "id": "2cb339dd41e2d622",
   "outputs": [],
   "execution_count": 36
  },
  {
   "metadata": {
    "ExecuteTime": {
     "end_time": "2024-06-18T18:30:10.056765Z",
     "start_time": "2024-06-18T18:30:10.055579Z"
    }
   },
   "cell_type": "code",
   "source": "",
   "id": "e1af70727213f55c",
   "outputs": [],
   "execution_count": 36
  }
 ],
 "metadata": {
  "kernelspec": {
   "display_name": "Python 3",
   "language": "python",
   "name": "python3"
  },
  "language_info": {
   "codemirror_mode": {
    "name": "ipython",
    "version": 2
   },
   "file_extension": ".py",
   "mimetype": "text/x-python",
   "name": "python",
   "nbconvert_exporter": "python",
   "pygments_lexer": "ipython2",
   "version": "2.7.6"
  }
 },
 "nbformat": 4,
 "nbformat_minor": 5
}
