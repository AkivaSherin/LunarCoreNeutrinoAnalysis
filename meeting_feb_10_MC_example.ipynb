{
 "cells": [
  {
   "cell_type": "code",
   "id": "initial_id",
   "metadata": {
    "collapsed": true,
    "ExecuteTime": {
     "end_time": "2025-02-10T17:15:03.709535Z",
     "start_time": "2025-02-10T17:15:03.706283Z"
    }
   },
   "source": [
    "import numpy as np\n",
    "from numpy import random\n",
    "import matplotlib.pyplot as plt"
   ],
   "outputs": [],
   "execution_count": 3
  },
  {
   "metadata": {},
   "cell_type": "markdown",
   "source": "want mock data for particle decay times",
   "id": "2733c3e0b89e1033"
  },
  {
   "metadata": {
    "ExecuteTime": {
     "end_time": "2025-02-10T17:15:44.283402Z",
     "start_time": "2025-02-10T17:15:44.278051Z"
    }
   },
   "cell_type": "code",
   "source": [
    "#example random number between 0 1\n",
    "random.random()"
   ],
   "id": "5058b582aabaa634",
   "outputs": [
    {
     "data": {
      "text/plain": [
       "0.5853274782924859"
      ]
     },
     "execution_count": 4,
     "metadata": {},
     "output_type": "execute_result"
    }
   ],
   "execution_count": 4
  },
  {
   "metadata": {
    "ExecuteTime": {
     "end_time": "2025-02-10T17:17:12.151836Z",
     "start_time": "2025-02-10T17:17:12.149346Z"
    }
   },
   "cell_type": "code",
   "source": [
    "def prob_decay_dist(t, tau):\n",
    "    return np.exp(-t/tau) / tau"
   ],
   "id": "c19398e6004e58bc",
   "outputs": [],
   "execution_count": 5
  },
  {
   "metadata": {
    "ExecuteTime": {
     "end_time": "2025-02-10T17:36:18.992395Z",
     "start_time": "2025-02-10T17:36:18.988919Z"
    }
   },
   "cell_type": "code",
   "source": [
    "def get_random_decay_time(tau, time_range):\n",
    "    finished = False\n",
    "    return_time = -1\n",
    "    while finished == False:\n",
    "        test_time = np.random.random() * time_range\n",
    "        test_probability = np.random.random() * (1 / tau)\n",
    "        test_function_value = prob_decay_dist(test_time, tau)\n",
    "        if test_probability < test_function_value:\n",
    "            return_time = test_time\n",
    "            finished = True\n",
    "    return return_time"
   ],
   "id": "7183115524985295",
   "outputs": [],
   "execution_count": 7
  },
  {
   "metadata": {},
   "cell_type": "code",
   "outputs": [],
   "execution_count": null,
   "source": [
    "def mock_decay_data(tau, N_points, time_range):\n",
    "    test_points = []\n",
    "    i = 0\n",
    "    while i < N_points:\n",
    "        test_points.append(get_random_decay_time(tau, time_range))\n",
    "        i += 1\n",
    "        \n",
    "    return test_points"
   ],
   "id": "de6667f29ac2abe8"
  }
 ],
 "metadata": {
  "kernelspec": {
   "display_name": "Python 3",
   "language": "python",
   "name": "python3"
  },
  "language_info": {
   "codemirror_mode": {
    "name": "ipython",
    "version": 2
   },
   "file_extension": ".py",
   "mimetype": "text/x-python",
   "name": "python",
   "nbconvert_exporter": "python",
   "pygments_lexer": "ipython2",
   "version": "2.7.6"
  }
 },
 "nbformat": 4,
 "nbformat_minor": 5
}
