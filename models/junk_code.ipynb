{
 "cells": [
  {
   "cell_type": "code",
   "id": "initial_id",
   "metadata": {
    "collapsed": true,
    "ExecuteTime": {
     "end_time": "2024-06-18T14:10:28.341478Z",
     "start_time": "2024-06-18T14:10:28.337712Z"
    }
   },
   "source": [
    "\"\"\"def find_diff_flux_for_energy(energy):\n",
    "    R  = 1.74 * 10 ** 8 # in cm\n",
    "    L = 10 ** 5\n",
    "    \n",
    "    integrand = lambda z, r, theta: diff_muon_flux_per_cubic_cm_moon(find_muon_initial_energy(energy, z)) * r\n",
    "    z_lower = lambda theta, r: -math.sqrt(R ** 2 - r)\n",
    "    z_upper = lambda theta, r: L - math.sqrt(R ** 2 - r)\n",
    "    r_lower = 0.0\n",
    "    r_upper = math.sqrt(R ** 2 - 0.25 * L ** 2)\n",
    "    theta_lower = 0\n",
    "    theta_upper = 2 * np.pi\n",
    "    \n",
    "    \n",
    "    return tplquad(integrand, theta_lower, theta_upper, r_lower, r_upper, z_lower, z_upper)\"\"\""
   ],
   "outputs": [
    {
     "data": {
      "text/plain": [
       "'def find_diff_flux_for_energy(energy):\\n    R  = 1.74 * 10 ** 8 # in cm\\n    L = 10 ** 5\\n    \\n    integrand = lambda z, r, theta: diff_muon_flux_per_cubic_cm_moon(find_muon_initial_energy(energy, z)) * r\\n    z_lower = lambda theta, r: -math.sqrt(R ** 2 - r)\\n    z_upper = lambda theta, r: L - math.sqrt(R ** 2 - r)\\n    r_lower = 0.0\\n    r_upper = math.sqrt(R ** 2 - 0.25 * L ** 2)\\n    theta_lower = 0\\n    theta_upper = 2 * np.pi\\n    \\n    \\n    return tplquad(integrand, theta_lower, theta_upper, r_lower, r_upper, z_lower, z_upper)'"
      ]
     },
     "execution_count": 1,
     "metadata": {},
     "output_type": "execute_result"
    }
   ],
   "execution_count": 1
  },
  {
   "metadata": {},
   "cell_type": "code",
   "outputs": [],
   "execution_count": null,
   "source": [
    "\"\"\"  return E_final\n",
    "def make_adjusted_muon_diff_flux_per_cm3_arrs(initial_muon_energies, distance_through_moon):\n",
    "    log_muon_final_energies = [] #these need to be log because we will integrate across them eventually\n",
    "    muon_diff_fluxes = []\n",
    "    for energy in initial_muon_energies:\n",
    "        final_energy = find_muon_final_energy(energy, distance_through_moon)\n",
    "        if final_energy > (10**5): #needs 10^5 GeVs to get to earth, this also has room for improvement!\n",
    "            log_muon_final_energies.append(np.log10(final_energy))\n",
    "            muon_diff_fluxes.append(diff_muon_flux_per_cubic_cm_moon(energy))\n",
    "            \n",
    "    return log_muon_final_energies, muon_diff_fluxes #flux is /cm^3/GeV\n",
    "    \n",
    "    \n",
    "initial_muon_energies = np.logspace(1, 9, 100)\n",
    "\n",
    "log_muon_final_energies, muon_diff_fluxes = make_adjusted_muon_diff_flux_per_cm3_arrs(initial_muon_energies, 10**5)\n",
    "\n",
    "diff_signal_muon_flux_per_area = interp1d(log_muon_final_energies, muon_diff_fluxes)\n",
    "plt.plot(log_muon_final_energies, muon_diff_fluxes,'k')\n",
    "\n",
    "plt.xlabel('log10 Signal Muon Energy (GeV)')\n",
    "plt.ylabel('signal muon flux (cm-3 GeV-1 sec-1)')\n",
    "plt.yscale('log')\n",
    "plt.grid(True)    \n",
    "    \"\"\""
   ],
   "id": "1d14d995b21cfbe4"
  },
  {
   "metadata": {},
   "cell_type": "code",
   "outputs": [],
   "execution_count": null,
   "source": [
    "#simulates oscillation in a uniform moon\n",
    "def neutrino_through_uniform_moon(moon_uniform_density, energy): #density in g/cm^3, energy in GeVs\n",
    "    moon_diameter = 1740 * 2 #km\n",
    "    after_moon = ThreeFlavorProbs(energy,moon_diameter,np.pi/3,moon_uniform_density,get_prob_amplitudes(energy))#[4][-1] \n",
    "    return after_moon"
   ],
   "id": "6a4653d62619a2a8"
  },
  {
   "metadata": {},
   "cell_type": "code",
   "outputs": [],
   "execution_count": null,
   "source": [
    "\"\"\"test3 = ThreeFlavorProbs(0.005,200,np.pi/3,0,[1,0,0,0,0,0]) # E = 0.005 GeV = 5 MeV, L = 200 km, delta_13 = pi/3\n",
    "plt.plot(test3[0],test3[1],label=r'$P_e$')\n",
    "plt.plot(test3[0],test3[2],label=r'$P_{\\mu}$')\n",
    "plt.plot(test3[0],test3[3],label=r'$P_{\\tau}$')\n",
    "plt.legend(loc='best')\n",
    "plt.xlabel('L (km)')\n",
    "plt.ylabel('Probability')\n",
    "plt.annotate(r'$E_{\\nu} = 1$ GeV', xy=(0.5, 1.03), xycoords='axes fraction', ha='center')#, bbox=dict(facecolor='white', alpha=0.8))\n",
    "#plt.savefig(\"nu-oscillation-probabilities-3-flavor\",dpi=300,bbox_inches='tight')\"\"\""
   ],
   "id": "9a25aa8f8e26a375"
  },
  {
   "metadata": {},
   "cell_type": "code",
   "outputs": [],
   "execution_count": null,
   "source": [
    "#energy in GeVs\n",
    "#densities in g/cm^3, [crust, mantle, partial melt layer, fluid outer core, solid inner core]\n",
    "#lengths in km\n",
    "#simulates neutrino oscillation through moon layers of varied densities\n",
    "def neutrino_trough_layered_moon(energy, densities, lengths): \n",
    "    previous_data = []\n",
    "    distance_traveled = 0\n",
    "    for i in range(len(densities)):\n",
    "        if i == 0:\n",
    "            new_travel_data = ThreeFlavorProbs(energy,lengths[i],np.pi/3,densities[i],get_prob_amplitudes(energy))\n",
    "            for j in range(len(new_travel_data)):\n",
    "                previous_data.append(new_travel_data[j])\n",
    "        else:\n",
    "            distance_traveled += lengths[i - 1]\n",
    "            previous_flavor_amplitudes = previous_data[4][-1]\n",
    "            new_travel_data = ThreeFlavorProbs(energy,lengths[i],np.pi/3,densities[i], previous_flavor_amplitudes)\n",
    "            \n",
    "            for k in range(len(new_travel_data[0])):\n",
    "                new_travel_data[0][k] += distance_traveled\n",
    "\n",
    "            for j in range(len(previous_data)):\n",
    "                previous_data[j] = np.concatenate((previous_data[j], new_travel_data[j]))\n",
    "\n",
    "    return previous_data"
   ],
   "id": "255575d8eaa4657"
  },
  {
   "metadata": {},
   "cell_type": "code",
   "outputs": [],
   "execution_count": null,
   "source": [
    "def get_flavor_probabilities_from_core_density(energy, core_density):\n",
    "    moon_transit = neutrino_trough_layered_moon(energy, [2, 3, core_density, 3, 2], [100, 1160, 2* (150 + 90 + 240), 1160, 100])\n",
    "    after_transit_to_earth = neutrino_travel_to_earth(energy, moon_transit)\n",
    "    p_elec = after_transit_to_earth[1][-1]\n",
    "    p_muon = after_transit_to_earth[2][-1]\n",
    "    p_tau = after_transit_to_earth[3][-1]\n",
    "    \n",
    "    return p_elec, p_muon, p_tau"
   ],
   "id": "350e0f23a0299636"
  },
  {
   "metadata": {},
   "cell_type": "code",
   "outputs": [],
   "execution_count": null,
   "source": [
    "def visualize_core_density_vs_probabilities(energy):\n",
    "    densities = np.linspace(0, 50, 50) #range of core densities to test\n",
    "    elec_probabilities = []\n",
    "    muon_probabilities = []\n",
    "    tau_probabilities = []\n",
    "    for density in densities:\n",
    "        new_probabilities = get_flavor_probabilities_from_core_density(energy, density)\n",
    "        elec_probabilities.append(new_probabilities[0])\n",
    "        muon_probabilities.append(new_probabilities[1])\n",
    "        tau_probabilities.append(new_probabilities[2])\n",
    "        \n",
    "    plt.plot(densities,elec_probabilities,label=r'$P_e$', linestyle=':')\n",
    "    plt.plot(densities,muon_probabilities,label=r'$P_{\\mu}$', linestyle='-')\n",
    "    plt.plot(densities,tau_probabilities,label=r'$P_{\\tau}$', linestyle='--')\n",
    "    plt.legend(loc='best')\n",
    "    plt.xlabel('Moon Core Density (g/cm^3)')\n",
    "    plt.ylabel('Flavor Probability')\n",
    "    plt.annotate(r'$E_{\\nu} = 1$ GeV', xy=(0.5, 1.03), xycoords='axes fraction', ha='center')#, fontsize=12)\n",
    "    #plt.savefig(\"core_density_vs_nu_flavor_updated\",dpi=300,bbox_inches='tight')\n",
    "    return"
   ],
   "id": "2e76fe05f6dda17b"
  },
  {
   "metadata": {},
   "cell_type": "code",
   "outputs": [],
   "execution_count": null,
   "source": [
    "\"\"\"\n",
    "def three_flavor_prob_moon_density_ratio(energy, y, z, ratio): #energy in GeVs, y and z in km\n",
    "    r_moon = 1737 #km\n",
    "    x_final = np.sqrt(r_moon**2 - y**2 - z**2)\n",
    "    x0 = -x_final\n",
    "    \n",
    "    x = np.linspace(x0,x_final,1000)\n",
    "    del13 = np.pi/3\n",
    "    solution = odeint(moon_deriv_three_flavor,get_prob_amplitudes(energy),x,args=(energy,del13,y, z, density_function))\n",
    "    ProbNuE = solution[:,0]*solution[:,0] + solution[:,1]*solution[:,1]\n",
    "    ProbNuMu = solution[:,2]*solution[:,2] + solution[:,3]*solution[:,3]\n",
    "    ProbNuTau = solution[:,4]*solution[:,4] + solution[:,5]*solution[:,5]\"\"\""
   ],
   "id": "be10ed9ce801b103"
  },
  {
   "metadata": {},
   "cell_type": "code",
   "outputs": [],
   "execution_count": null,
   "source": [
    "no_mass = ThreeFlavorProbs(1,3000,np.pi/3,0,[1, 0, 0, 0, 0, 0]) # E = 0.005 GeV = 5 MeV, L = 200 km, delta_13 = pi/3\n",
    "mass = ThreeFlavorProbs(1,3000,np.pi/3,3.5,[1, 0, 0, 0, 0, 0])\n",
    "#plt.plot(test3[0],test3[1],label=r'$P_e$')\n",
    "plt.plot(no_mass[0],no_mass[1],label=r'Vacuum', linewidth=2)\n",
    "plt.plot(mass[0],mass[1],label=r'${\\rho}=3.5 g/cm^3$', linewidth=2)\n",
    "\n",
    "#plt.plot(test3[0],test3[3],label=r'$P_{\\tau}$')\n",
    "plt.legend(loc='best')\n",
    "plt.xlabel('L (km)')\n",
    "plt.ylabel('Electron Flavor Probability')\n",
    "plt.annotate(r'$E_{\\nu} = 1$ GeV', xy=(0.5, 1.03), xycoords='axes fraction', ha='center')#, bbox=dict(facecolor='white', alpha=0.8))\n",
    "plt.savefig(\"slideshow_fig_mass_oscillation\",dpi=300,bbox_inches='tight')"
   ],
   "id": "13f971600bcee58b"
  },
  {
   "metadata": {},
   "cell_type": "code",
   "outputs": [],
   "execution_count": null,
   "source": [
    "oscillation_example = ThreeFlavorProbs(0.005,400,np.pi/3,0,[1,0,0,0,0,0]) # E = 0.005 GeV = 5 MeV, L = 200 km, delta_13 = pi/3\n",
    "plt.plot(oscillation_example[0],oscillation_example[1],label=r'$P_e$')\n",
    "plt.plot(oscillation_example[0],oscillation_example[2],label=r'$P_{\\mu}$', color=\"orange\")\n",
    "plt.plot(oscillation_example[0],oscillation_example[3],label=r'$P_{\\tau}$', color=\"green\")\n",
    "plt.legend(loc='best')\n",
    "plt.xlabel('L (km)')\n",
    "plt.ylabel('Probability')\n",
    "plt.annotate(r'$E_{\\nu} = 0.005$ GeV', xy=(0.5, 1.03), xycoords='axes fraction', ha='center')#, bbox=dict(facecolor='white', alpha=0.8))\n",
    "plt.savefig(\"nu-oscillation-example\",dpi=300,bbox_inches='tight')\n"
   ],
   "id": "ca9d549c7c0a0a7e"
  },
  {
   "metadata": {
    "ExecuteTime": {
     "end_time": "2024-07-29T17:25:40.315077Z",
     "start_time": "2024-07-29T17:25:40.303605Z"
    }
   },
   "cell_type": "code",
   "source": [
    "import import_ipynb\n",
    "import lunar_nue_flux_oom"
   ],
   "id": "12462a7b1d3c86c1",
   "outputs": [
    {
     "ename": "ModuleNotFoundError",
     "evalue": "No module named 'lunar_nue_flux_oom'",
     "output_type": "error",
     "traceback": [
      "\u001B[0;31m---------------------------------------------------------------------------\u001B[0m",
      "\u001B[0;31mModuleNotFoundError\u001B[0m                       Traceback (most recent call last)",
      "Cell \u001B[0;32mIn[7], line 2\u001B[0m\n\u001B[1;32m      1\u001B[0m \u001B[38;5;28;01mimport\u001B[39;00m \u001B[38;5;21;01mimport_ipynb\u001B[39;00m\n\u001B[0;32m----> 2\u001B[0m \u001B[38;5;28;01mimport\u001B[39;00m \u001B[38;5;21;01mlunar_nue_flux_oom\u001B[39;00m\n",
      "\u001B[0;31mModuleNotFoundError\u001B[0m: No module named 'lunar_nue_flux_oom'"
     ]
    }
   ],
   "execution_count": 7
  },
  {
   "metadata": {},
   "cell_type": "code",
   "outputs": [],
   "execution_count": null,
   "source": [
    "def deepcore_integrand(energy):\n",
    "    moon_solid_angle = 0.0000648\n",
    "    return (a_eff_elec(energy) * e_flux(energy) + a_eff_muon(energy) * m_flux(energy)) * moon_solid_angle\n"
   ],
   "id": "3d1761ffac37e5cf"
  },
  {
   "metadata": {},
   "cell_type": "code",
   "outputs": [],
   "execution_count": null,
   "source": [
    "\"\"\"energies = np.linspace(1, 10, 100)\n",
    "plt.plot(energies, uniform_core[2](energies), label=r'$\\rho_{core}=3.5$ g/cm$^3$')\n",
    "plt.plot(energies, dense_core[2](energies), label=r'$\\rho_{core}=10$ g/cm$^3$')\n",
    "plt.plot(energies, super_dense_core[2](energies), label=r'$\\rho_{core}=100$ g/cm$^3$')\n",
    "plt.legend(loc='best')\n",
    "#plt.yscale(\"log\")\n",
    "plt.xlabel('Energy (GeV)')\n",
    "#plt.ylabel(r'e * $\\phi_{\\nu_e}$ (m$^{-2}$sr$^{-1}$s$^{-1}$GeV$^{-1}$)')\n",
    "plt.ylabel(r'Expected Flavor Ratio ($\\nu_e:\\nu_{\\mu}) $')\n",
    "plt.annotate(r'$R_{core} = 330$ km', xy=(0.5, 1.03), xycoords='axes fraction',\n",
    "             ha='center')  #, bbox=dict(facecolor='white', alpha=0.8))\n",
    "plt.savefig(\"slideshow_flavor_ratio_by_density\", dpi=300, bbox_inches='tight')\"\"\""
   ],
   "id": "ab668e889521c4cd"
  },
  {
   "metadata": {},
   "cell_type": "code",
   "outputs": [],
   "execution_count": null,
   "source": [
    "\"\"\"energies = np.linspace(1, 10, 100)\n",
    "plt.plot(energies, usual_radius[2](energies), label=r'$R_{core} = 300$ km')\n",
    "plt.plot(energies, bigger_radius[2](energies), label=r'$R_{core} = 400$ km')\n",
    "plt.plot(energies, much_bigger_radius[2](energies), label=r'$R_{core} = 700$ km')\n",
    "plt.legend(loc='best')\n",
    "#plt.yscale(\"log\")\n",
    "plt.xlabel('Energy (GeV)')\n",
    "#plt.ylabel(r'$\\phi_{\\nu_\\mu}$ (m$^{-2}$sr$^{-1}$s$^{-1}$GeV$^{-1}$)')\n",
    "plt.ylabel(r'Expected Flavor Ratio ($\\nu_e:\\nu_{\\mu}) $')\n",
    "plt.annotate(r'$\\rho_{core}=10$ g/cm$^3$', xy=(0.5, 1.03), xycoords='axes fraction',\n",
    "             ha='center')  #, bbox=dict(facecolor='white', alpha=0.8))\n",
    "plt.savefig(\"slideshow_flavor_ratio_by_radius\", dpi=300, bbox_inches='tight')\"\"\""
   ],
   "id": "4899d03de04c5895"
  }
 ],
 "metadata": {
  "kernelspec": {
   "display_name": "Python 3",
   "language": "python",
   "name": "python3"
  },
  "language_info": {
   "codemirror_mode": {
    "name": "ipython",
    "version": 2
   },
   "file_extension": ".py",
   "mimetype": "text/x-python",
   "name": "python",
   "nbconvert_exporter": "python",
   "pygments_lexer": "ipython2",
   "version": "2.7.6"
  }
 },
 "nbformat": 4,
 "nbformat_minor": 5
}
