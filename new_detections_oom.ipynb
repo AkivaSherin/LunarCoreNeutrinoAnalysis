{
 "cells": [
  {
   "metadata": {},
   "cell_type": "markdown",
   "source": "This notebook is where I estimate the number of detections IceCube with Upgrade will get of cosmic ray lunar neutrinos",
   "id": "e660a78e0ad94ec5"
  },
  {
   "cell_type": "code",
   "id": "initial_id",
   "metadata": {
    "collapsed": true,
    "ExecuteTime": {
     "end_time": "2025-04-11T00:55:49.314420Z",
     "start_time": "2025-04-11T00:55:47.730665Z"
    }
   },
   "source": [
    "import random\n",
    "\n",
    "import numpy as np\n",
    "import scipy as sp\n",
    "import matplotlib.pyplot as plt\n",
    "from scipy.integrate import odeint, quad\n",
    "import math\n",
    "import pandas as pd\n",
    "from scipy.interpolate import interp1d"
   ],
   "outputs": [],
   "execution_count": 3
  },
  {
   "metadata": {
    "ExecuteTime": {
     "end_time": "2025-04-11T00:55:46.114739Z",
     "start_time": "2025-04-11T00:55:46.112649Z"
    }
   },
   "cell_type": "code",
   "source": [
    "#This function returns cosmic ray flux per Gaisser\n",
    "#units are /SR/s/M^2/log(Gev)\n",
    "def get_cosmic_ray_flux(log_energy): # / log gev\n",
    "    return 1.7 * (10 ** 4) * ((10 ** log_energy) ** -2.7) * (10 ** log_energy) * np.log(10)"
   ],
   "id": "ef4698919876469b",
   "outputs": [],
   "execution_count": 2
  },
  {
   "metadata": {
    "ExecuteTime": {
     "end_time": "2025-02-05T19:12:27.050077Z",
     "start_time": "2025-02-05T19:12:27.048256Z"
    }
   },
   "cell_type": "code",
   "source": [
    "\"\"\"log_energies = np.linspace(-1, 2, 100)\n",
    "flux_values = [get_cosmic_ray_flux(log_energy) for log_energy in log_energies]\n",
    "\n",
    "plt.plot(log_energies, flux_values)\"\"\""
   ],
   "id": "7f9bfa6fcbcf01ea",
   "outputs": [
    {
     "data": {
      "text/plain": [
       "'log_energies = np.linspace(-1, 2, 100)\\nflux_values = [get_cosmic_ray_flux(log_energy) for log_energy in log_energies]\\n\\nplt.plot(log_energies, flux_values)'"
      ]
     },
     "execution_count": 10,
     "metadata": {},
     "output_type": "execute_result"
    }
   ],
   "execution_count": 10
  },
  {
   "metadata": {
    "ExecuteTime": {
     "end_time": "2025-04-11T00:55:50.734455Z",
     "start_time": "2025-04-11T00:55:50.732122Z"
    }
   },
   "cell_type": "code",
   "source": [
    "#Determines how much energy a cosmic ray \"loses\" when it decays into a neutrino in our atmosphere\n",
    "#current model is gaussian distribution centered around 1 log(GeV) with a standard deviation of 1/4 (log(Cosmic Ray Energy))\n",
    "def decide_energy_loss(log_energy):\n",
    "    energy_loss = np.random.normal(1, abs(log_energy) / 4, 1)[0]\n",
    "    return energy_loss"
   ],
   "id": "21a8b9b7744bcc7f",
   "outputs": [],
   "execution_count": 4
  },
  {
   "metadata": {
    "ExecuteTime": {
     "end_time": "2025-04-15T20:07:38.441395Z",
     "start_time": "2025-04-15T20:07:38.435859Z"
    }
   },
   "cell_type": "code",
   "source": [
    "#Uses a monte carlo simulation to create and a function which takes log neutrino energy as an input and returns differential neutrino flux\n",
    "    #Differential neutrino flux is in units of neutrinos/log(GeV)\n",
    "def make_neutrino_flux_function_using_mc():\n",
    "    #range of cosmic ray energies we care about\n",
    "    log_min_cr_energy = 0\n",
    "    log_max_cr_energy = 2\n",
    "    \n",
    "    #range of possible cosmic ray fluxes \n",
    "    min_flux = get_cosmic_ray_flux(log_min_cr_energy)\n",
    "    max_flux = get_cosmic_ray_flux(log_max_cr_energy)\n",
    "    \n",
    "    #make histogram to store neutrino counts\n",
    "    #energy bins in log(GeV)\n",
    "    log_neutrino_min_energy = log_min_cr_energy - 1.5\n",
    "    log_neutrino_max_energy = log_max_cr_energy - 0.5\n",
    "    num_bins = 100\n",
    "    log_neutrino_energy_bins = np.linspace(log_neutrino_min_energy, log_neutrino_max_energy, num_bins + 1) \n",
    "    neutrino_energy_histogram = np.zeros(num_bins) \n",
    "\n",
    "\n",
    "    for i in range(10 ** 8): #change back to 10 ** 8 \n",
    "        #pick random cosmic ray energy and associated CR flux\n",
    "        log_random_CR_energy = random.uniform(log_min_cr_energy, log_max_cr_energy)\n",
    "        random_flux = random.uniform(min_flux, max_flux)\n",
    "        \n",
    "        if random_flux < get_cosmic_ray_flux(log_random_CR_energy): #decide whether to include cosmic ray (and the neutrino it produces)\n",
    "            log_neutrino_energy = log_random_CR_energy - decide_energy_loss(log_random_CR_energy) #decide what the produced neutrino's energy is\n",
    "            bin_index = np.digitize(log_neutrino_energy, log_neutrino_energy_bins) - 1 \n",
    "            if 0 <= bin_index < num_bins:\n",
    "                neutrino_energy_histogram[bin_index] += 1 #add neutrino to histogram\n",
    "    \n",
    "    bin_centers = (log_neutrino_energy_bins[:-1] + log_neutrino_energy_bins[1:]) / 2\n",
    "\n",
    "    neutrino_count_interp = interp1d(bin_centers, neutrino_energy_histogram, kind='linear') #interpolating neutrino energy histogram\n",
    "    \n",
    "    #We need out how many cosmic rays actually produced neutrinos in this energy range\n",
    "    #So we calculate this, and then adjust our histogram interpolation to have the correct flux magnitude (and not just shape)\n",
    "    #Assumes a 1-1 ratio of cosmic rays to neutrinos\n",
    "    total_count = quad(neutrino_count_interp, log_min_cr_energy - 1.45, log_max_cr_energy - 0.55, limit=1000)[0] #not ideal that this gives integration errors but I think its alright\n",
    "    total_cosmic_rays = quad(get_cosmic_ray_flux, log_min_cr_energy, log_max_cr_energy)[0]\n",
    "    scale_factor = total_cosmic_rays / total_count\n",
    "    def neutrino_flux_interp(log_energy):\n",
    "        return neutrino_count_interp(log_energy) * scale_factor\n",
    "    \n",
    "    return neutrino_flux_interp \n"
   ],
   "id": "75dce040a0e702e0",
   "outputs": [],
   "execution_count": 33
  },
  {
   "metadata": {
    "ExecuteTime": {
     "end_time": "2025-04-15T20:10:01.375499Z",
     "start_time": "2025-04-15T20:07:39.102348Z"
    }
   },
   "cell_type": "code",
   "source": "get_neutrino_flux = make_neutrino_flux_function_using_mc()",
   "id": "64a8dd1096db4dfa",
   "outputs": [
    {
     "name": "stderr",
     "output_type": "stream",
     "text": [
      "/var/folders/dr/tnb6gyns3kl9xhswdbqkpm_00000gn/T/ipykernel_93892/2302902760.py:39: IntegrationWarning: The occurrence of roundoff error is detected, which prevents \n",
      "  the requested tolerance from being achieved.  The error may be \n",
      "  underestimated.\n",
      "  total_count = quad(neutrino_count_interp, log_min_cr_energy - 1.45, log_max_cr_energy - 0.55, limit=1000)[0] #not ideal that this gives integration errors but I think its alright\n"
     ]
    }
   ],
   "execution_count": 34
  },
  {
   "metadata": {
    "ExecuteTime": {
     "end_time": "2025-04-11T00:56:00.345039Z",
     "start_time": "2025-04-11T00:56:00.342004Z"
    }
   },
   "cell_type": "code",
   "source": "quad(get_cosmic_ray_flux, 0, 2)",
   "id": "5c7ee747ea5a00f0",
   "outputs": [
    {
     "data": {
      "text/plain": [
       "(9996.018928294465, 1.1097810368781396e-10)"
      ]
     },
     "execution_count": 7,
     "metadata": {},
     "output_type": "execute_result"
    }
   ],
   "execution_count": 7
  },
  {
   "metadata": {
    "ExecuteTime": {
     "end_time": "2025-04-11T00:56:01.746631Z",
     "start_time": "2025-04-11T00:56:01.500985Z"
    }
   },
   "cell_type": "code",
   "source": "quad(get_neutrino_flux, -1.45, 1.45, limit=1000)",
   "id": "cffb87e82304ff4d",
   "outputs": [
    {
     "name": "stderr",
     "output_type": "stream",
     "text": [
      "/var/folders/dr/tnb6gyns3kl9xhswdbqkpm_00000gn/T/ipykernel_93892/100246254.py:1: IntegrationWarning: The maximum number of subdivisions (1000) has been achieved.\n",
      "  If increasing the limit yields no improvement it is advised to analyze \n",
      "  the integrand in order to determine the difficulties.  If the position of a \n",
      "  local difficulty can be determined (singularity, discontinuity) one will \n",
      "  probably gain from splitting up the interval and calling the integrator \n",
      "  on the subranges.  Perhaps a special-purpose integrator should be used.\n",
      "  quad(get_neutrino_flux, -1.45, 1.45, limit=1000)\n"
     ]
    },
    {
     "data": {
      "text/plain": [
       "(9996.018928294483, 0.13980382790578005)"
      ]
     },
     "execution_count": 8,
     "metadata": {},
     "output_type": "execute_result"
    }
   ],
   "execution_count": 8
  },
  {
   "metadata": {
    "ExecuteTime": {
     "end_time": "2025-04-11T00:56:03.662183Z",
     "start_time": "2025-04-11T00:56:03.473297Z"
    }
   },
   "cell_type": "code",
   "source": [
    "#This is all code I got from IceCube's website\n",
    "#Allows me to get effective of IceCube (with upgrade)\n",
    "\n",
    "# Define path to file (you may need to change this to match your system)\n",
    "input_file = \"neutrino_mc.csv\"\n",
    "\n",
    "# Load the file using pandas\n",
    "input_data = pd.read_csv(input_file)\n",
    "\n",
    "# Defining a few useful thing sbefore we get started...\n",
    "\n",
    "# Define some energy bins (used throughout this notebook)\n",
    "energy_bins_fine = np.logspace(0., 2., num=21)\n",
    "energy_bins_course = np.logspace(0., 2., num=11)\n",
    "\n",
    "# Define masks to identify different neutrino flavors\n",
    "nue_mask = (np.abs(input_data[\"pdg\"]) == 12)\n",
    "numu_mask = (np.abs(input_data[\"pdg\"]) == 14)\n",
    "nutau_mask = (np.abs(input_data[\"pdg\"]) == 16)\n",
    "\n",
    "# It is often desirable to seperate the neutrinos by flavor and interaction.\n",
    "# It is common to consider all Neutral Current (NC) interactions together, as \n",
    "# there is no final state charged lepton with which to discriminate the different \n",
    "# neutrino flavors.\n",
    "# Define masks to identify different flavor/interaction combinations.\n",
    "nc_mask = input_data[\"current_type\"] == 0\n",
    "cc_mask = input_data[\"current_type\"] == 1\n",
    "nue_cc_mask = nue_mask & cc_mask\n",
    "numu_cc_mask = numu_mask & cc_mask\n",
    "nutau_cc_mask = nutau_mask & cc_mask\n",
    "# Choosing nue CC events as an example\n",
    "chosen_mask = numu_cc_mask\n",
    "\n",
    "# Calc effective area\n",
    "effective_area_hist, bin_edges = np.histogram(input_data[\"true_energy\"][chosen_mask], weights=input_data[\"weight\"][chosen_mask], bins=energy_bins_fine )\n",
    "effective_area_hist /= 4. * np.pi # Normalise by solid angle (using the fully sky)\n",
    "effective_area_hist /= np.diff(bin_edges) # Bin widths\n",
    "\n",
    "def get_aeff_upgrade(log_energy): #returns effective are of the updated ice cube in m^2\n",
    "    bin_index = np.searchsorted(bin_edges, 10 ** log_energy, side='right')\n",
    "    return effective_area_hist[bin_index]"
   ],
   "id": "cefd391b2ebd8dbb",
   "outputs": [],
   "execution_count": 9
  },
  {
   "metadata": {
    "ExecuteTime": {
     "end_time": "2025-04-11T00:56:04.542707Z",
     "start_time": "2025-04-11T00:56:04.540028Z"
    }
   },
   "cell_type": "code",
   "source": [
    "#the upgrade aeff graph we get from IceCube is a step function\n",
    "#this returns a smoother interpolation so that graphs don't come out looking strange\n",
    "def make_aeff_upgrade_interp():\n",
    "    log_aeff_energies = np.linspace(-2, 1.9, 30)\n",
    "    aeffs = []\n",
    "    \n",
    "    for log_energy in log_aeff_energies:\n",
    "        aeffs.append(get_aeff_upgrade(log_energy))\n",
    "    \n",
    "    aeff_interpolation = interp1d(log_aeff_energies, aeffs, kind=\"linear\")\n",
    "    return aeff_interpolation"
   ],
   "id": "c61f4477b7cf7a4d",
   "outputs": [],
   "execution_count": 10
  },
  {
   "metadata": {
    "ExecuteTime": {
     "end_time": "2025-04-11T00:56:05.107224Z",
     "start_time": "2025-04-11T00:56:05.104988Z"
    }
   },
   "cell_type": "code",
   "source": "get_aeff_upgrade_interpolated = make_aeff_upgrade_interp()",
   "id": "fbff8acb0e0e3da7",
   "outputs": [],
   "execution_count": 11
  },
  {
   "metadata": {
    "ExecuteTime": {
     "end_time": "2025-04-11T00:56:05.623233Z",
     "start_time": "2025-04-11T00:56:05.620930Z"
    }
   },
   "cell_type": "code",
   "source": [
    "#returns an estimate of differential interactions of cosmic ray neutrinos that pass through the moon and hit iceCube (upgraded)\n",
    "#units are interactions/log(GeV)\n",
    "def get_diff_interactions(log_neu_energy):\n",
    "    r_moon = 1737 * 10 ** 3 #m    \n",
    "    dist_moon_to_earth = 384400 * 10 ** 3 # m \n",
    "    \n",
    "    moon_surface_area = 4 * np.pi * (r_moon ** 2) #m^2\n",
    "    \n",
    "    total_neutrino_flux = get_neutrino_flux(log_neu_energy) * moon_surface_area * 2 * np.pi #total neutrinos coming from moon in all directions\n",
    "\n",
    "    IceCube_flux_fraction = get_aeff_upgrade_interpolated(log_neu_energy) / (4 * np.pi * (dist_moon_to_earth ** 2)) # calculate what fraction total flux emitted would hit iceCube's effective area\n",
    "    \n",
    "    diff_interactions = total_neutrino_flux * IceCube_flux_fraction #calculate the precise number if differential interactions \n",
    "    \n",
    "    return diff_interactions #per log GeV"
   ],
   "id": "ecbdc9cc273c0f13",
   "outputs": [],
   "execution_count": 12
  },
  {
   "metadata": {
    "ExecuteTime": {
     "end_time": "2025-04-11T00:56:06.402897Z",
     "start_time": "2025-04-11T00:56:06.400861Z"
    }
   },
   "cell_type": "code",
   "source": [
    "#returns total expected interactions (from cosmic ray lunar neutrinos with iceCube upgrade) in an energy range\n",
    "def get_total_interactions(log_min_energy, log_max_energy):    \n",
    "    return quad(get_diff_interactions, log_min_energy, log_max_energy, limit=100)[0]"
   ],
   "id": "6d3d22c0737153f6",
   "outputs": [],
   "execution_count": 13
  },
  {
   "metadata": {
    "ExecuteTime": {
     "end_time": "2025-04-11T00:56:07.288494Z",
     "start_time": "2025-04-11T00:56:07.270491Z"
    }
   },
   "cell_type": "code",
   "source": "get_total_interactions(0, 0.99)",
   "id": "9f41dda11fb13835",
   "outputs": [
    {
     "data": {
      "text/plain": [
       "5.574699415438587e-08"
      ]
     },
     "execution_count": 14,
     "metadata": {},
     "output_type": "execute_result"
    }
   ],
   "execution_count": 14
  },
  {
   "metadata": {
    "ExecuteTime": {
     "end_time": "2025-04-11T00:56:19.957243Z",
     "start_time": "2025-04-11T00:56:19.955020Z"
    }
   },
   "cell_type": "code",
   "source": "get_diff_interactions(0.5)",
   "id": "c7403751b1ff7e4f",
   "outputs": [
    {
     "data": {
      "text/plain": [
       "np.float64(2.8133068210834663e-08)"
      ]
     },
     "execution_count": 17,
     "metadata": {},
     "output_type": "execute_result"
    }
   ],
   "execution_count": 17
  },
  {
   "metadata": {
    "ExecuteTime": {
     "end_time": "2025-04-15T20:10:26.097278Z",
     "start_time": "2025-04-15T20:10:26.029792Z"
    }
   },
   "cell_type": "code",
   "source": [
    "log_energies = np.linspace(0, 0.999, 1000)\n",
    "plt.plot(get_diff_interactions(log_energies))"
   ],
   "id": "2a0499b7751bb7f7",
   "outputs": [
    {
     "data": {
      "text/plain": [
       "[<matplotlib.lines.Line2D at 0x331cc7ad0>]"
      ]
     },
     "execution_count": 35,
     "metadata": {},
     "output_type": "execute_result"
    },
    {
     "data": {
      "text/plain": [
       "<Figure size 640x480 with 1 Axes>"
      ],
      "image/png": "[encoded data removed]"
     },
     "metadata": {},
     "output_type": "display_data"
    }
   ],
   "execution_count": 35
  },
  {
   "metadata": {
    "ExecuteTime": {
     "end_time": "2025-04-15T20:02:01.643134Z",
     "start_time": "2025-04-15T20:02:01.641642Z"
    }
   },
   "cell_type": "code",
   "source": "",
   "id": "bb7ad29d51f554a5",
   "outputs": [],
   "execution_count": 25
  },
  {
   "metadata": {},
   "cell_type": "code",
   "outputs": [],
   "execution_count": null,
   "source": "",
   "id": "5c34e4b87b14f42f"
  }
 ],
 "metadata": {
  "kernelspec": {
   "display_name": "Python 3",
   "language": "python",
   "name": "python3"
  },
  "language_info": {
   "codemirror_mode": {
    "name": "ipython",
    "version": 2
   },
   "file_extension": ".py",
   "mimetype": "text/x-python",
   "name": "python",
   "nbconvert_exporter": "python",
   "pygments_lexer": "ipython2",
   "version": "2.7.6"
  }
 },
 "nbformat": 4,
 "nbformat_minor": 5
}
