{
 "cells": [
  {
   "metadata": {},
   "cell_type": "markdown",
   "source": [
    "This is a file from the start of the summer where I considered detecting muons produced by neutrinos interacting with the moon\n",
    "\n",
    "I found that there wasn't a lot a of muons produced this way that we could detect, but might be worth revisiting"
   ],
   "id": "1f4590f954820a72"
  },
  {
   "metadata": {},
   "cell_type": "code",
   "outputs": [],
   "execution_count": 204,
   "source": [
    "import numpy as np\n",
    "import matplotlib.pyplot as plt\n",
    "from scipy.integrate import quad\n",
    "import math\n",
    "from scipy.interpolate import interp1d"
   ],
   "id": "initial_id"
  },
  {
   "metadata": {
    "ExecuteTime": {
     "end_time": "2024-06-18T19:33:45.399706Z",
     "start_time": "2024-06-18T19:33:45.396776Z"
    }
   },
   "cell_type": "code",
   "source": [
    "def neu_diff_flux(energy):  # GeVs\n",
    "    return 1.8 * (10 ** -18) * (((energy) / (10 ** 5)) ** (-2.52))  # Single power law formula for diffuse neutrino flux\n",
    "    #/cm^2/s/sr/GeV"
   ],
   "id": "9b725727b5ad2460",
   "outputs": [],
   "execution_count": 205
  },
  {
   "metadata": {
    "ExecuteTime": {
     "end_time": "2024-06-18T19:33:45.413023Z",
     "start_time": "2024-06-18T19:33:45.402422Z"
    }
   },
   "cell_type": "code",
   "source": [
    "#these are values I got from Web Plot Digitizing a CC cross section plot\n",
    "xs_energies =  [9.98080495607805,\n",
    "20.998018053876827,\n",
    "71.59732457299745,\n",
    "195.63029063568808,\n",
    "666.9767142701296,\n",
    "2617.6906006049767,\n",
    "11125.842153739322,\n",
    "109783.1765184451,\n",
    "2562687.509604299,\n",
    "36940357.82428877,\n",
    "663344496.668366,\n",
    "3504806387.090148,\n",
    "41295060959.3206,\n",
    "422796003979.0706,\n",
    "124436989287.35977,\n",
    "10350845957.459944,\n",
    "1450095398.5416524,\n",
    "153442766.75056547,\n",
    "9634704.158738362,\n",
    "456524.62382801063]\n",
    "xs_values = [5.857020818056673e-11, 1.1497569953977356e-10, 3.853528593710535e-10,\n",
    "             9.770099572992246e-10, 3.1992671377973846e-9, 1.2045035402587812e-8, 4.132012400115343e-8,\n",
    "             1.9179102616724926e-7, 9.111627561154906e-7, 0.0000030538555088334187, 0.000009111627561154906,\n",
    "             0.000017073526474706923, 0.00004132012400115343, 0.00009326033468832218,\n",
    "             0.0000628029144183426,\n",
    "             0.000025353644939701165,\n",
    "             0.000012045035402587836,\n",
    "             0.000005336699231206323,\n",
    "             0.0000017475284000076865,\n",
    "             4.3287612810830616e-7]\n",
    "cc_cross_section = interp1d(xs_energies, xs_values,kind='linear')  #mb\n"
   ],
   "id": "b921d7a88ef66af9",
   "outputs": [],
   "execution_count": 206
  },
  {
   "metadata": {
    "ExecuteTime": {
     "end_time": "2024-06-18T20:02:27.457148Z",
     "start_time": "2024-06-18T20:02:27.449272Z"
    }
   },
   "cell_type": "code",
   "source": [
    "def diff_neutrino_flux_moon(energy):\n",
    "    IceCube_solid_angle = (1) / (384400 ** 2) #solid angle = A / R^2\n",
    "    return neu_diff_flux(energy) * IceCube_solid_angle\n",
    "    #/cm^2/s\n"
   ],
   "id": "a49361d15ce84e1d",
   "outputs": [],
   "execution_count": 220
  },
  {
   "metadata": {
    "ExecuteTime": {
     "end_time": "2024-06-18T19:33:45.436806Z",
     "start_time": "2024-06-18T19:33:45.434772Z"
    }
   },
   "cell_type": "code",
   "source": [
    "def diff_muon_flux_per_cubic_cm_moon(energy):\n",
    "    density = 3.34 # g / cm^3\n",
    "    nucleon_mass = 1.66 * 10 ** -24\n",
    "    nucleon_density = density / nucleon_mass #nucleons per cm^3\n",
    "    \n",
    "    xs = cc_cross_section(energy) * (10 ** -27)#converts mb to cm^2\n",
    "    flux = diff_neutrino_flux_moon(energy)\n",
    "    \n",
    "    return nucleon_density * xs * flux # R = nt sigma flux\n",
    "    #interactions /cm^3/s    "
   ],
   "id": "fa58fb91cbeaf5ad",
   "outputs": [],
   "execution_count": 208
  },
  {
   "metadata": {
    "ExecuteTime": {
     "end_time": "2024-06-18T19:33:45.444134Z",
     "start_time": "2024-06-18T19:33:45.442071Z"
    }
   },
   "cell_type": "code",
   "source": [
    "def find_muon_final_energy(E0, distance_through_moon): #energy in GeV, distance in cm\n",
    "  #constants\n",
    "  zeta = 2.4 * 10**5 # g / cm^2\n",
    "  epsilon = 500 #GeV\n",
    "  moon_density = 3.34 # g / cm^3\n",
    "  column_depth = distance_through_moon * moon_density\n",
    "\n",
    "  E_final = ((E0 + epsilon) * np.exp(- column_depth / zeta)) - epsilon\n",
    "  \n",
    "  if E_final < 0.1:\n",
    "    E_final = 0.1\n",
    "\n",
    "  return E_final"
   ],
   "id": "a02a318307d231b5",
   "outputs": [],
   "execution_count": 209
  },
  {
   "metadata": {
    "ExecuteTime": {
     "end_time": "2024-06-18T19:33:45.446864Z",
     "start_time": "2024-06-18T19:33:45.445145Z"
    }
   },
   "cell_type": "code",
   "source": [
    "def find_muon_initial_energy(E_final, distance_through_moon):\n",
    "    zeta = 2.4 * 10**5 # g / cm^2\n",
    "    epsilon = 500 #GeV\n",
    "    moon_density = 3.34 # g / cm^3\n",
    "    column_depth = distance_through_moon * moon_density\n",
    "    \n",
    "    E_initial = ((E_final + epsilon) * np.exp( column_depth / zeta)) - epsilon\n",
    "    \n",
    "    return E_initial\n"
   ],
   "id": "dc88b00cf97b8dc",
   "outputs": [],
   "execution_count": 210
  },
  {
   "metadata": {
    "ExecuteTime": {
     "end_time": "2024-06-18T19:33:45.449348Z",
     "start_time": "2024-06-18T19:33:45.447712Z"
    }
   },
   "cell_type": "code",
   "source": [
    "#this function finds the flux of signal muons /gev/cm^3/s given a certain moon depth and final energy\n",
    "#it's different from the other function in that it give it in terms of the initital energy\n",
    "def find_muon_diff_flux_per_cm3_given_E_final(E_final, distance_through_moon):\n",
    "    E_initial = find_muon_initial_energy(E_final, distance_through_moon)\n",
    "    return diff_muon_flux_per_cubic_cm_moon(E_initial) #flux"
   ],
   "id": "3089af8b2a62ce7e",
   "outputs": [],
   "execution_count": 211
  },
  {
   "metadata": {
    "ExecuteTime": {
     "end_time": "2024-06-18T19:33:45.452303Z",
     "start_time": "2024-06-18T19:33:45.449957Z"
    }
   },
   "cell_type": "code",
   "source": [
    "def muon_survival_to_earth_probability(energy): #energy in GeVs\n",
    "    dist_moon_to_earth = 3.8 * 10 ** 8 #m\n",
    "    c = 3 * 10 ** 8 # m/s\n",
    "    mass_muon = 105.7 * 10 ** -3 #GeV\n",
    "    coordinate_time = dist_moon_to_earth / c # s\n",
    "    lifetime = 2.2 * 10 ** -6 # s\n",
    "    \n",
    "    proper_time = (mass_muon / energy) * coordinate_time # s\n",
    "    survival_probability = np.exp(- proper_time / lifetime)\n",
    "    \n",
    "    return survival_probability"
   ],
   "id": "a88a8d02a6c54c3e",
   "outputs": [],
   "execution_count": 212
  },
  {
   "metadata": {
    "ExecuteTime": {
     "end_time": "2024-06-18T19:33:45.455143Z",
     "start_time": "2024-06-18T19:33:45.453301Z"
    }
   },
   "cell_type": "code",
   "source": [
    "def find_total_diff_muon_flux(E_final):\n",
    "    r_moon  = 1.74 * 10 ** 8 # in cm\n",
    "    shell_area = 2 * math.pi * r_moon ** 2 #for now, treating each shell as the surface of a hemisphere\n",
    "    L = 10 ** 5 # cm, characteristic distance to make integration easier\n",
    "    flux_per_shell = lambda distance: find_muon_diff_flux_per_cm3_given_E_final(E_final, L * distance) * shell_area  * muon_survival_to_earth_probability(E_final)\n",
    "    total_flux = quad(flux_per_shell, 0, 10 ** 5 / L)[0] * L\n",
    "    return total_flux"
   ],
   "id": "d7ccb0dc04b7a485",
   "outputs": [],
   "execution_count": 213
  },
  {
   "metadata": {
    "ExecuteTime": {
     "end_time": "2024-06-18T19:33:45.459017Z",
     "start_time": "2024-06-18T19:33:45.455687Z"
    }
   },
   "cell_type": "code",
   "source": "find_total_diff_muon_flux(10 ** 5)",
   "id": "85297d19555dedb8",
   "outputs": [
    {
     "data": {
      "text/plain": [
       "3.269148879932004e-15"
      ]
     },
     "execution_count": 214,
     "metadata": {},
     "output_type": "execute_result"
    }
   ],
   "execution_count": 214
  },
  {
   "metadata": {
    "ExecuteTime": {
     "end_time": "2024-06-18T19:33:45.461740Z",
     "start_time": "2024-06-18T19:33:45.459582Z"
    }
   },
   "cell_type": "code",
   "source": [
    "signal_muon_energies = np.logspace(3, 9, 1000)\n",
    "\n",
    "def make_diff_muon_flux_array(energies):\n",
    "    diff_flux_arr = []\n",
    "    for energy in energies:\n",
    "        diff_flux_arr.append(find_total_diff_muon_flux(energy))\n",
    "    \n",
    "    return diff_flux_arr"
   ],
   "id": "8d5cc2a4f79d7079",
   "outputs": [],
   "execution_count": 215
  },
  {
   "metadata": {
    "ExecuteTime": {
     "end_time": "2024-06-18T19:33:45.770958Z",
     "start_time": "2024-06-18T19:33:45.465669Z"
    }
   },
   "cell_type": "code",
   "source": [
    "plt.plot(signal_muon_energies, make_diff_muon_flux_array(signal_muon_energies),'k')\n",
    "plt.xlabel('Signal Muon Energy (GeV)')\n",
    "plt.ylabel('diff signal muon flux (GeV-1 sec-1)')\n",
    "plt.xscale('log')\n",
    "plt.yscale('log')\n",
    "plt.grid(True)    "
   ],
   "id": "8fe6ed4f4cf82ddf",
   "outputs": [
    {
     "data": {
      "text/plain": [
       "<Figure size 640x480 with 1 Axes>"
      ],
      "image/png": "[encoded data removed]"
     },
     "metadata": {},
     "output_type": "display_data"
    }
   ],
   "execution_count": 216
  },
  {
   "metadata": {
    "ExecuteTime": {
     "end_time": "2024-06-18T19:33:45.962210Z",
     "start_time": "2024-06-18T19:33:45.771932Z"
    }
   },
   "cell_type": "code",
   "source": "interp_diff_muon_flux = interp1d(signal_muon_energies, make_diff_muon_flux_array(signal_muon_energies), kind='cubic')",
   "id": "b5e8b2fcdc7bd04e",
   "outputs": [],
   "execution_count": 217
  },
  {
   "metadata": {
    "ExecuteTime": {
     "end_time": "2024-06-18T19:33:45.964816Z",
     "start_time": "2024-06-18T19:33:45.962979Z"
    }
   },
   "cell_type": "code",
   "source": [
    "def find_muon_flux_over_range(E0, E_final):\n",
    "    characteristic_energy = 10 ** 5 # x = E / characteristic energy, so we can make integration easier\n",
    "    integrand = lambda x: interp_diff_muon_flux(x * characteristic_energy) \n",
    "    return quad(integrand, E0 / characteristic_energy, E_final / characteristic_energy)[0] * characteristic_energy"
   ],
   "id": "7c41b30c78284c27",
   "outputs": [],
   "execution_count": 218
  },
  {
   "metadata": {
    "ExecuteTime": {
     "end_time": "2024-06-18T19:33:45.968808Z",
     "start_time": "2024-06-18T19:33:45.965836Z"
    }
   },
   "cell_type": "code",
   "source": "find_muon_flux_over_range(10**3, 10**9)",
   "id": "cd5dd1e0123240c9",
   "outputs": [
    {
     "data": {
      "text/plain": [
       "1.4217859951206995e-10"
      ]
     },
     "execution_count": 219,
     "metadata": {},
     "output_type": "execute_result"
    }
   ],
   "execution_count": 219
  },
  {
   "metadata": {
    "ExecuteTime": {
     "end_time": "2024-06-18T19:33:45.970412Z",
     "start_time": "2024-06-18T19:33:45.969283Z"
    }
   },
   "cell_type": "code",
   "source": "",
   "id": "2cb339dd41e2d622",
   "outputs": [],
   "execution_count": 219
  },
  {
   "metadata": {
    "ExecuteTime": {
     "end_time": "2024-06-18T19:33:45.972035Z",
     "start_time": "2024-06-18T19:33:45.970888Z"
    }
   },
   "cell_type": "code",
   "source": "",
   "id": "e1af70727213f55c",
   "outputs": [],
   "execution_count": 219
  }
 ],
 "metadata": {
  "kernelspec": {
   "display_name": "Python 3",
   "language": "python",
   "name": "python3"
  },
  "language_info": {
   "codemirror_mode": {
    "name": "ipython",
    "version": 2
   },
   "file_extension": ".py",
   "mimetype": "text/x-python",
   "name": "python",
   "nbconvert_exporter": "python",
   "pygments_lexer": "ipython2",
   "version": "2.7.6"
  }
 },
 "nbformat": 4,
 "nbformat_minor": 5
}
