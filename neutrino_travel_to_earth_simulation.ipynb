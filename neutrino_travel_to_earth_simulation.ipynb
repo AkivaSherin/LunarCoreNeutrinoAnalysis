{
 "cells": [
  {
   "metadata": {},
   "cell_type": "markdown",
   "source": "This is my code from over the summer that I've deemed \"useful.\" The main thing it does is simulates neutrinos' oscillation as they travel through the moon and to the earth. There's a lotta overlap between this file and neutrino_oscillations_through_moon.ipynb",
   "id": "1fa9ce9271da131"
  },
  {
   "metadata": {
    "ExecuteTime": {
     "end_time": "2025-02-02T21:05:32.787819Z",
     "start_time": "2025-02-02T21:05:25.879694Z"
    }
   },
   "cell_type": "code",
   "source": [
    "# Import packages\n",
    "import numpy as np\n",
    "import scipy as sp\n",
    "import matplotlib as mpl\n",
    "import matplotlib.pyplot as plt\n",
    "from scipy.integrate import odeint, quad\n",
    "import math\n",
    "from scipy.interpolate import interp1d"
   ],
   "id": "d572a0541214f497",
   "outputs": [],
   "execution_count": 2
  },
  {
   "metadata": {
    "ExecuteTime": {
     "end_time": "2025-02-02T21:05:32.794089Z",
     "start_time": "2025-02-02T21:05:32.789884Z"
    }
   },
   "cell_type": "code",
   "source": [
    "#models neutrino travel to earth using approximation form gaisser textbook\n",
    "def decoherence_travel_earth(e_prob,m_prob,t_prob):\n",
    "    p = ([.55, .25, .2],\n",
    "         [0.25, 0.37, 0.38],\n",
    "         [0.2, 0.38, 0.42])\n",
    "    initial_ratios = ([e_prob,m_prob,t_prob])\n",
    "    product = np.matmul(p, initial_ratios)\n",
    "    return product"
   ],
   "id": "afb6f93640a55113",
   "outputs": [],
   "execution_count": 3
  },
  {
   "metadata": {
    "ExecuteTime": {
     "end_time": "2025-02-02T21:05:32.800040Z",
     "start_time": "2025-02-02T21:05:32.795499Z"
    }
   },
   "cell_type": "code",
   "source": [
    "#this returns a density function that gives lunar density as a function of x, y, z for a given core-mantle density ratio\n",
    "#x y and z are in km, and the center of the moon is 0,0,0\n",
    "def make_density_function_from_ratio(core_mantle_density_ratio, core_radius): #core radius in km\n",
    "    r_moon = 1737  - 10#km\n",
    "    r_moon_cm = r_moon * 10 ** 5\n",
    "    crust_to_core_distance = 1700 * 10 ** 5 # cm\n",
    "    r_core_cm = core_radius * 10 ** 5 # cm\n",
    "    \n",
    "    \n",
    "    m_moon = 7.342 * 10 ** 25 #grams\n",
    "    m_crust = (4/3) * math.pi * (r_moon_cm ** 3 - crust_to_core_distance ** 3)\n",
    "    m_moon_without_crust = m_moon - m_crust\n",
    "    V_core = (4/3) * math.pi * (r_core_cm ** 3)\n",
    "    V_mantle = (4/3) * math.pi * (crust_to_core_distance ** 3 - r_core_cm)\n",
    "    \n",
    "    mantle_density = m_moon_without_crust / (V_core * core_mantle_density_ratio + V_mantle)\n",
    "    core_density = mantle_density * core_mantle_density_ratio\n",
    "        \n",
    "    \n",
    "    def density_function(x, y, z, d_core=core_density, d_mantle=mantle_density):\n",
    "        r = np.sqrt(x**2 + y**2 + z**2)\n",
    "        if r < core_radius: #core\n",
    "            #print(\"core density\" + str(d_core))\n",
    "            return d_core\n",
    "        if r < 1700: #mantle\n",
    "            #print(\"mantle density\" + str(d_mantle))\n",
    "            return d_mantle\n",
    "        else:\n",
    "            return 2.55 # crust density is known pretty accurately\n",
    "        \n",
    "    return density_function"
   ],
   "id": "805153cbea68423e",
   "outputs": [],
   "execution_count": 4
  },
  {
   "metadata": {
    "ExecuteTime": {
     "end_time": "2025-02-02T21:05:32.804104Z",
     "start_time": "2025-02-02T21:05:32.801839Z"
    }
   },
   "cell_type": "code",
   "source": [
    "#convers m to e nue ratio into list of probability amplitudes that we can use in our oscillation code\n",
    "#for now we assume 2 muon : 1 electron ratio\n",
    "def turn_flavor_ratios_into_probability_amplitudes(m_to_e_ratio):\n",
    "    #set initial amplitudes\n",
    "    m_amp = m_to_e_ratio\n",
    "    e_amp = 1\n",
    "    #normalize\n",
    "    initial_magnitude = math.sqrt(m_amp ** 2 + e_amp ** 2)\n",
    "\n",
    "    m_amp = m_amp / initial_magnitude\n",
    "    e_amp = e_amp / initial_magnitude\n",
    "\n",
    "    return [e_amp, 0, m_amp, 0, 0, 0]"
   ],
   "id": "3de65ffaca5a5e61",
   "outputs": [],
   "execution_count": 5
  },
  {
   "metadata": {
    "ExecuteTime": {
     "end_time": "2025-02-02T21:05:32.813759Z",
     "start_time": "2025-02-02T21:05:32.804912Z"
    }
   },
   "cell_type": "code",
   "source": [
    "#this is modified code given to me by Prof. Hyde\n",
    "#simulates neutrino oscillation, but specialized for moon with variable density\n",
    "#y, z are fixed values, while neutrino travels parallel to x-axis\n",
    "# density function takes x, y, z (location relative to center of moon) and returns moon's density in g/cm^3\n",
    "\n",
    "# gives oscillation derivative, but specialized for moon.\n",
    "# x, y, z is location relative to center of moon\n",
    "# density function takes this location and returns a density\n",
    "\n",
    "# Define mass-squared difference (in eV^2) and mixing angle (rad)\n",
    "Th12 = 34.5*np.pi/180\n",
    "Th13 = 8.45*np.pi/180\n",
    "Th23 = 47.7*np.pi/180 # assuming normal mass ordering\n",
    "Dmsq21 = 7.55 * 10**(-5)\n",
    "Dmsq31 = 2.50 * 10**(-3) # assuming normal mass ordering\n",
    "\n",
    "def moon_deriv_three_flavor(amp,x,E_GeV,del13,y,z, density_function):\n",
    "\n",
    "    # Set mass values\n",
    "    mass1 = 0.0\n",
    "    mass2 = Dmsq21\n",
    "    mass3 = Dmsq31\n",
    "\n",
    "    ## Elements of flavor-basis Hamiltonian\n",
    "\n",
    "    # Mixing matrix (unitary change of basis between mass and flavor)\n",
    "    # Sines and Cosines of Mixing Angles\n",
    "    s12 = np.sin(Th12)\n",
    "    c12 = np.cos(Th12)\n",
    "    s23 = np.sin(Th23)\n",
    "    c23 = np.cos(Th23)\n",
    "    s13 = np.sin(Th13)\n",
    "    c13 = np.cos(Th13)\n",
    "\n",
    "    ## Elements of flavor-basis Hamiltonian\n",
    "\n",
    "    # Mixing matrix\n",
    "    U12 = np.array([(c12,s12,0),(-s12,c12,0),(0,0,1)])\n",
    "    U23 = np.array([(1,0,0),(0,c23,s23),(0,-s23,c23)])\n",
    "    U13 = np.array([(c13,0,s13*np.exp(0.-1.j*del13)),(0,1,0),(-s13*np.exp(0.+1.j*del13),0,c13)],dtype=complex)\n",
    "    Uint = np.dot(U13,U12)\n",
    "    U = np.dot(U23,Uint)\n",
    "\n",
    "    UT = np.transpose(U)\n",
    "    Udagger = np.conjugate(UT)\n",
    "\n",
    "    # Mass basis Hamiltonian\n",
    "    Hmass = np.array([(0,0,0),(0,mass2/(2*E_GeV),0),(0,0,mass3/(2*E_GeV))])\n",
    "\n",
    "    # Flavor-basis Hamiltonian, without matter\n",
    "    Hmid = np.dot(Hmass,Udagger)\n",
    "    Hflav0 = np.dot(U,Hmid)\n",
    "\n",
    "    # Full flavor-basis Hamiltonian. V_int represents the contribution to\n",
    "    # potential due to charged-current neutrino-electron interactions.\n",
    "    # Neutral current factors out of V_int and doesn't affect oscillations.\n",
    "    density = density_function(x, y, z)\n",
    "    vcc = density*0.000193\n",
    "    Vee = 1.0\n",
    "    Vint = vcc*np.array([(Vee,0,0),(0,0,0),(0,0,0)],dtype=complex)\n",
    "    Hflav = 5.1*(Hflav0 + Vint) # factor of 5.1 comes from units... see notes\n",
    "\n",
    "    # Input array \"amp\" is four values: the real and imaginary components of\n",
    "    # each flavor amplitude. Note that \"j\" instead of \"i\" is used.\n",
    "    eAmp = amp[0] + 1.j*amp[1]\n",
    "    muAmp = amp[2] + 1.j*amp[3]\n",
    "    tauAmp = amp[4] + 1.j*amp[5]\n",
    "\n",
    "    # This uses the (flavor-basis) Hamiltonian to define the time-evolution\n",
    "    deAmpdx = -1.j*(Hflav[0,0]*eAmp + Hflav[0,1]*muAmp + Hflav[0,2]*tauAmp)\n",
    "    dmuAmpdx = -1.j*(Hflav[1,0]*eAmp + Hflav[1,1]*muAmp + Hflav[1,2]*tauAmp)\n",
    "    dtauAmpdx = -1.j*(Hflav[2,0]*eAmp + Hflav[2,1]*muAmp + Hflav[2,2]*tauAmp)\n",
    "\n",
    "    # Return an array of \"d(Amplitude)/dx\"\n",
    "    dAmpdx = [np.real(deAmpdx),np.imag(deAmpdx),np.real(dmuAmpdx),np.imag(dmuAmpdx),np.real(dtauAmpdx),np.imag(dtauAmpdx)]\n",
    "    return dAmpdx\n",
    "\n",
    "\n",
    "def three_flavor_prob_any_moon_density(energy, y, z, density_function):  #energy in GeVs, y and z in km\n",
    "    r_moon = 1737  #km\n",
    "    x_final = np.sqrt(r_moon ** 2 - y ** 2 - z ** 2)\n",
    "    x0 = -x_final\n",
    "\n",
    "    x = np.linspace(x0, x_final, 1000)\n",
    "    del13 = np.pi / 3\n",
    "    solution = odeint(moon_deriv_three_flavor, turn_flavor_ratios_into_probability_amplitudes(2), x,\n",
    "                      args=(energy, del13, y, z, density_function))\n",
    "    ProbNuE = solution[:, 0] * solution[:, 0] + solution[:, 1] * solution[:, 1]\n",
    "    ProbNuMu = solution[:, 2] * solution[:, 2] + solution[:, 3] * solution[:, 3]\n",
    "    ProbNuTau = solution[:, 4] * solution[:, 4] + solution[:, 5] * solution[:, 5]\n",
    "    return x, ProbNuE, ProbNuMu, ProbNuTau, solution"
   ],
   "id": "1c61eaee507057d5",
   "outputs": [],
   "execution_count": 6
  },
  {
   "metadata": {
    "ExecuteTime": {
     "end_time": "2025-02-02T21:05:32.817580Z",
     "start_time": "2025-02-02T21:05:32.814613Z"
    }
   },
   "cell_type": "code",
   "source": [
    "#then it returns the three flavor probabilities\n",
    "def monte_carlo_uniform_core(energy, core_mantle_density_ratio, core_radius): #energy in GeVs\n",
    "    r_moon = 1737 #km\n",
    "    \n",
    "    density_function = make_density_function_from_ratio(core_mantle_density_ratio, core_radius)\n",
    "    \n",
    "    e_prob = 0\n",
    "    m_prob = 0\n",
    "    t_prob = 0\n",
    "    scale_factor = 0\n",
    "\n",
    "    radii = np.linspace(0,r_moon,50)\n",
    "    for radius in radii:\n",
    "        after_moon = three_flavor_prob_any_moon_density(energy, radius, 0, density_function)\n",
    "        e_prob += after_moon[1][-1] * radius \n",
    "        m_prob += after_moon[2][-1] * radius\n",
    "        t_prob += after_moon[3][-1] * radius\n",
    "        scale_factor+=radius\n",
    "    \n",
    "    #normalize probabilities\n",
    "    e_prob /= scale_factor\n",
    "    m_prob /= scale_factor \n",
    "    t_prob /= scale_factor\n",
    "    \n",
    "    #now need to propogate to earth\n",
    "    at_earth_ratios = decoherence_travel_earth(e_prob, m_prob, t_prob)\n",
    "    return at_earth_ratios"
   ],
   "id": "e147fc8047d86dd6",
   "outputs": [],
   "execution_count": 7
  },
  {
   "metadata": {},
   "cell_type": "code",
   "outputs": [],
   "execution_count": null,
   "source": "",
   "id": "daa12ce83a6d00e0"
  }
 ],
 "metadata": {
  "kernelspec": {
   "display_name": "Python 3",
   "language": "python",
   "name": "python3"
  },
  "language_info": {
   "codemirror_mode": {
    "name": "ipython",
    "version": 2
   },
   "file_extension": ".py",
   "mimetype": "text/x-python",
   "name": "python",
   "nbconvert_exporter": "python",
   "pygments_lexer": "ipython2",
   "version": "2.7.6"
  }
 },
 "nbformat": 4,
 "nbformat_minor": 5
}
