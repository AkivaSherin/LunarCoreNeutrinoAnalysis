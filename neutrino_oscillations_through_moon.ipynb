{
 "nbformat": 4,
 "nbformat_minor": 0,
 "metadata": {
  "colab": {
   "provenance": []
  },
  "kernelspec": {
   "name": "python3",
   "display_name": "Python 3 (ipykernel)",
   "language": "python"
  },
  "language_info": {
   "name": "python"
  }
 },
 "cells": [
  {
   "metadata": {},
   "cell_type": "markdown",
   "source": "This file is most of the stuff I worked on over the summer, and has a lot of code (most which I've realized is irrelevant) for simulating neutrino oscillation from the surface of the moon to the earth. See \"neutrino_travel_to_earth_simulation.ipynb\" for the most important stuff"
  },
  {
   "cell_type": "code",
   "metadata": {
    "id": "DiA5ndK3G2se",
    "ExecuteTime": {
     "end_time": "2025-02-05T18:35:03.079194Z",
     "start_time": "2025-02-05T18:35:02.180832Z"
    }
   },
   "source": [
    "# Import packages\n",
    "import numpy as np\n",
    "import scipy as sp\n",
    "import matplotlib as mpl\n",
    "import matplotlib.pyplot as plt\n",
    "from scipy.integrate import odeint, quad\n",
    "import math\n",
    "from scipy.interpolate import interp1d\n",
    "\n",
    "# Set parameters to make plots look a little nicer\n",
    "font = {'size' : 15}\n",
    "mpl.rc('xtick', labelsize=12)\n",
    "mpl.rc('ytick', labelsize=12)\n",
    "mpl.rc('font', **font)"
   ],
   "outputs": [],
   "execution_count": 4
  },
  {
   "metadata": {
    "ExecuteTime": {
     "end_time": "2024-11-11T17:08:16.280039Z",
     "start_time": "2024-11-11T17:08:16.265758Z"
    }
   },
   "cell_type": "code",
   "source": [
    "#Code from Prof Hyde to find neutrino flavor ratios after oscillating\n",
    "\n",
    "# Define mass-squared difference (in eV^2) and mixing angle (rad)\n",
    "Th12 = 34.5*np.pi/180\n",
    "Th13 = 8.45*np.pi/180\n",
    "Th23 = 47.7*np.pi/180 # assuming normal mass ordering\n",
    "Dmsq21 = 7.55 * 10**(-5)\n",
    "Dmsq31 = 2.50 * 10**(-3) # assuming normal mass ordering\n",
    "\n",
    "\n",
    "# Return derivative: time (length)-evolution of flavor amplitudes\n",
    "#density in g / cm^3\n",
    "def nuDerivVacuum3Flav(amp,x,E_GeV,del13,density): \n",
    "\n",
    "    # Set mass values\n",
    "    mass1 = 0.0\n",
    "    mass2 = Dmsq21\n",
    "    mass3 = Dmsq31\n",
    "\n",
    "    ## Elements of flavor-basis Hamiltonian\n",
    "\n",
    "    # Mixing matrix (unitary change of basis between mass and flavor)\n",
    "    # Sines and Cosines of Mixing Angles\n",
    "    s12 = np.sin(Th12)\n",
    "    c12 = np.cos(Th12)\n",
    "    s23 = np.sin(Th23)\n",
    "    c23 = np.cos(Th23)\n",
    "    s13 = np.sin(Th13)\n",
    "    c13 = np.cos(Th13)\n",
    "\n",
    "    ## Elements of flavor-basis Hamiltonian\n",
    "\n",
    "    # Mixing matrix\n",
    "    U12 = np.array([(c12,s12,0),(-s12,c12,0),(0,0,1)])\n",
    "    U23 = np.array([(1,0,0),(0,c23,s23),(0,-s23,c23)])\n",
    "    U13 = np.array([(c13,0,s13*np.exp(0.-1.j*del13)),(0,1,0),(-s13*np.exp(0.+1.j*del13),0,c13)],dtype=complex)\n",
    "    Uint = np.dot(U13,U12)\n",
    "    U = np.dot(U23,Uint)\n",
    "\n",
    "    UT = np.transpose(U)\n",
    "    Udagger = np.conjugate(UT)\n",
    "\n",
    "    # Mass basis Hamiltonian\n",
    "    Hmass = np.array([(0,0,0),(0,mass2/(2*E_GeV),0),(0,0,mass3/(2*E_GeV))])\n",
    "\n",
    "    # Flavor-basis Hamiltonian, without matter\n",
    "    Hmid = np.dot(Hmass,Udagger)\n",
    "    Hflav0 = np.dot(U,Hmid)\n",
    "\n",
    "    # Full flavor-basis Hamiltonian. V_int represents the contribution to\n",
    "    # potential due to charged-current neutrino-electron interactions.\n",
    "    # Neutral current factors out of V_int and doesn't affect oscillations.\n",
    "    vcc = density*0.000193\n",
    "    Vee = 1.0\n",
    "    Vint = vcc*np.array([(Vee,0,0),(0,0,0),(0,0,0)],dtype=complex)\n",
    "    Hflav = 5.1*(Hflav0 + Vint) # factor of 5.1 comes from units... see notes\n",
    "\n",
    "    # Input array \"amp\" is four values: the real and imaginary components of\n",
    "    # each flavor amplitude. Note that \"j\" instead of \"i\" is used.\n",
    "    eAmp = amp[0] + 1.j*amp[1]\n",
    "    muAmp = amp[2] + 1.j*amp[3]\n",
    "    tauAmp = amp[4] + 1.j*amp[5]\n",
    "\n",
    "    # This uses the (flavor-basis) Hamiltonian to define the time-evolution\n",
    "    deAmpdx = -1.j*(Hflav[0,0]*eAmp + Hflav[0,1]*muAmp + Hflav[0,2]*tauAmp)\n",
    "    dmuAmpdx = -1.j*(Hflav[1,0]*eAmp + Hflav[1,1]*muAmp + Hflav[1,2]*tauAmp)\n",
    "    dtauAmpdx = -1.j*(Hflav[2,0]*eAmp + Hflav[2,1]*muAmp + Hflav[2,2]*tauAmp)\n",
    "\n",
    "    # Return an array of \"d(Amplitude)/dx\"\n",
    "    dAmpdx = [np.real(deAmpdx),np.imag(deAmpdx),np.real(dmuAmpdx),np.imag(dmuAmpdx),np.real(dtauAmpdx),np.imag(dtauAmpdx)]\n",
    "    return dAmpdx\n",
    "\n",
    "# Return solution for flavor probability as a function of distance.\n",
    "# Initial state is a 4-component vector of initial flavor amplitudes (real + imag.)\n",
    "def ThreeFlavorProbs(E_GeV,L_km,del13,density,initial_state):\n",
    "  x = np.linspace(0.0,L_km,1000)\n",
    "  solution = odeint(nuDerivVacuum3Flav,initial_state,x,args=(E_GeV,del13,density))\n",
    "  ProbNuE = solution[:,0]*solution[:,0] + solution[:,1]*solution[:,1]\n",
    "  ProbNuMu = solution[:,2]*solution[:,2] + solution[:,3]*solution[:,3]\n",
    "  ProbNuTau = solution[:,4]*solution[:,4] + solution[:,5]*solution[:,5]\n",
    "  return x,ProbNuE,ProbNuMu,ProbNuTau,solution\n",
    "\n"
   ],
   "outputs": [],
   "execution_count": 3
  },
  {
   "metadata": {
    "ExecuteTime": {
     "end_time": "2024-11-11T17:08:16.293486Z",
     "start_time": "2024-11-11T17:08:16.291732Z"
    }
   },
   "cell_type": "code",
   "source": [
    "#returns the ratio of muon neutrinos to electron neutrinos produced in earths atmosphere\n",
    "#we assume this is the same for the moon\n",
    "#for just 2 muon : 1 electron, but i'm leaving this function intact in case we change our midns\n",
    "def get_initial_flavor_ratios(energy): #GeVs\n",
    "    return 2 "
   ],
   "outputs": [],
   "execution_count": 6
  },
  {
   "metadata": {
    "ExecuteTime": {
     "end_time": "2024-11-11T17:08:16.296210Z",
     "start_time": "2024-11-11T17:08:16.294261Z"
    }
   },
   "cell_type": "code",
   "source": [
    "#convers m to e nue ratio into list of probability amplitudes that we can use in our oscillation code\n",
    "def turn_flavor_ratios_into_probability_amplitudes(m_to_e_ratio):\n",
    "    #set initial amplitudes\n",
    "    m_amp = m_to_e_ratio\n",
    "    e_amp = 1\n",
    "    #normalize\n",
    "    initial_magnitude = math.sqrt(m_amp ** 2 + e_amp ** 2)\n",
    "    \n",
    "    m_amp = m_amp / initial_magnitude\n",
    "    e_amp = e_amp / initial_magnitude\n",
    "    \n",
    "    return [e_amp,0,m_amp,0,0,0]\n",
    "    "
   ],
   "outputs": [],
   "execution_count": 7
  },
  {
   "metadata": {
    "ExecuteTime": {
     "end_time": "2024-11-11T17:08:16.298462Z",
     "start_time": "2024-11-11T17:08:16.296938Z"
    }
   },
   "cell_type": "code",
   "source": [
    "#returns probability amplitudes of initial neutrino flux for a given energy\n",
    "def get_prob_amplitudes(energy):\n",
    "    ratios = get_initial_flavor_ratios(energy)\n",
    "    return turn_flavor_ratios_into_probability_amplitudes(ratios)"
   ],
   "outputs": [],
   "execution_count": 8
  },
  {
   "metadata": {},
   "cell_type": "markdown",
   "source": ""
  },
  {
   "metadata": {
    "ExecuteTime": {
     "end_time": "2024-11-11T17:08:16.301911Z",
     "start_time": "2024-11-11T17:08:16.299248Z"
    }
   },
   "cell_type": "code",
   "source": [
    "#the decoherence_travel_earth function is far faster so use that instead\n",
    "\n",
    "#simulates neutrino oscillation as neutrino travels from moon to earth\n",
    "#returns a list of similar to the output of ThreeFlavorProbs (x,ProbNuE,ProbNuMu,ProbNuTau,solution)\n",
    "def neutrino_travel_to_earth(energy, three_flavor_prob_output):\n",
    "    previous_travel_data = []\n",
    "    for i in range(len(three_flavor_prob_output)):\n",
    "        previous_travel_data.append(three_flavor_prob_output[i])    \n",
    "    \n",
    "    flavor_amplitudes = previous_travel_data[4][-1]\n",
    "    #print(previous_travel_data[1][0])\n",
    "    distance_to_earth = 384000\n",
    "    after_travel_to_earth = ThreeFlavorProbs(energy,distance_to_earth,np.pi/3,0,flavor_amplitudes)\n",
    "        \n",
    "    for i in range(len(after_travel_to_earth[0])):\n",
    "        after_travel_to_earth[0][i] += previous_travel_data[0][-1]\n",
    "    \n",
    "    total_journey = []\n",
    "    for i in range(len(previous_travel_data)):\n",
    "        concatenated_data = np.concatenate([previous_travel_data[i], after_travel_to_earth[i]])\n",
    "        total_journey.append(concatenated_data)\n",
    "    return total_journey"
   ],
   "outputs": [],
   "execution_count": 9
  },
  {
   "metadata": {
    "ExecuteTime": {
     "end_time": "2024-11-11T17:08:16.304955Z",
     "start_time": "2024-11-11T17:08:16.302587Z"
    }
   },
   "cell_type": "code",
   "source": [
    "#greates a graph of flavor probabilities as a function of distance\n",
    "def visualize_oscillation(three_flavor_prob_output):\n",
    "    plt.plot(three_flavor_prob_output[0], three_flavor_prob_output[1], label=r'$P_e$')   \n",
    "    plt.plot(three_flavor_prob_output[0], three_flavor_prob_output[2], label=r'$P_{\\mu}$')\n",
    "    plt.plot(three_flavor_prob_output[0], three_flavor_prob_output[3], label=r'$P_{\\tau}$')\n",
    "    plt.legend(loc='best')\n",
    "    plt.xlabel('L (km)')\n",
    "    plt.ylabel('Probability')\n",
    "    return\n"
   ],
   "outputs": [],
   "execution_count": 10
  },
  {
   "metadata": {
    "ExecuteTime": {
     "end_time": "2024-11-11T17:08:16.308935Z",
     "start_time": "2024-11-11T17:08:16.307008Z"
    }
   },
   "cell_type": "code",
   "source": [
    "#prints out the final flavor probabilities\n",
    "def show_final_probabilities(three_flavor_prob_output):\n",
    "    print(\"electron probability: \" + str(three_flavor_prob_output[1][-1]))\n",
    "    print(\"muon probability: \" + str(three_flavor_prob_output[2][-1]))\n",
    "    print(\"tau probability: \" + str(three_flavor_prob_output[3][-1]))"
   ],
   "outputs": [],
   "execution_count": 11
  },
  {
   "metadata": {
    "ExecuteTime": {
     "end_time": "2024-11-11T17:08:16.313891Z",
     "start_time": "2024-11-11T17:08:16.309464Z"
    }
   },
   "cell_type": "code",
   "source": [
    "# gives oscillation derivative, but specialized for moon.\n",
    "# x, y, z is location relative to center of moon\n",
    "# density function takes this location and returns a density\n",
    "def moon_deriv_three_flavor(amp,x,E_GeV,del13,y,z, density_function):\n",
    "\n",
    "    # Set mass values\n",
    "    mass1 = 0.0\n",
    "    mass2 = Dmsq21\n",
    "    mass3 = Dmsq31\n",
    "\n",
    "    ## Elements of flavor-basis Hamiltonian\n",
    "\n",
    "    # Mixing matrix (unitary change of basis between mass and flavor)\n",
    "    # Sines and Cosines of Mixing Angles\n",
    "    s12 = np.sin(Th12)\n",
    "    c12 = np.cos(Th12)\n",
    "    s23 = np.sin(Th23)\n",
    "    c23 = np.cos(Th23)\n",
    "    s13 = np.sin(Th13)\n",
    "    c13 = np.cos(Th13)\n",
    "\n",
    "    ## Elements of flavor-basis Hamiltonian\n",
    "\n",
    "    # Mixing matrix\n",
    "    U12 = np.array([(c12,s12,0),(-s12,c12,0),(0,0,1)])\n",
    "    U23 = np.array([(1,0,0),(0,c23,s23),(0,-s23,c23)])\n",
    "    U13 = np.array([(c13,0,s13*np.exp(0.-1.j*del13)),(0,1,0),(-s13*np.exp(0.+1.j*del13),0,c13)],dtype=complex)\n",
    "    Uint = np.dot(U13,U12)\n",
    "    U = np.dot(U23,Uint)\n",
    "\n",
    "    UT = np.transpose(U)\n",
    "    Udagger = np.conjugate(UT)\n",
    "\n",
    "    # Mass basis Hamiltonian\n",
    "    Hmass = np.array([(0,0,0),(0,mass2/(2*E_GeV),0),(0,0,mass3/(2*E_GeV))])\n",
    "\n",
    "    # Flavor-basis Hamiltonian, without matter\n",
    "    Hmid = np.dot(Hmass,Udagger)\n",
    "    Hflav0 = np.dot(U,Hmid)\n",
    "\n",
    "    # Full flavor-basis Hamiltonian. V_int represents the contribution to\n",
    "    # potential due to charged-current neutrino-electron interactions.\n",
    "    # Neutral current factors out of V_int and doesn't affect oscillations.\n",
    "    density = density_function(x, y, z)\n",
    "    vcc = density*0.000193\n",
    "    Vee = 1.0\n",
    "    Vint = vcc*np.array([(Vee,0,0),(0,0,0),(0,0,0)],dtype=complex)\n",
    "    Hflav = 5.1*(Hflav0 + Vint) # factor of 5.1 comes from units... see notes\n",
    "\n",
    "    # Input array \"amp\" is four values: the real and imaginary components of\n",
    "    # each flavor amplitude. Note that \"j\" instead of \"i\" is used.\n",
    "    eAmp = amp[0] + 1.j*amp[1]\n",
    "    muAmp = amp[2] + 1.j*amp[3]\n",
    "    tauAmp = amp[4] + 1.j*amp[5]\n",
    "\n",
    "    # This uses the (flavor-basis) Hamiltonian to define the time-evolution\n",
    "    deAmpdx = -1.j*(Hflav[0,0]*eAmp + Hflav[0,1]*muAmp + Hflav[0,2]*tauAmp)\n",
    "    dmuAmpdx = -1.j*(Hflav[1,0]*eAmp + Hflav[1,1]*muAmp + Hflav[1,2]*tauAmp)\n",
    "    dtauAmpdx = -1.j*(Hflav[2,0]*eAmp + Hflav[2,1]*muAmp + Hflav[2,2]*tauAmp)\n",
    "\n",
    "    # Return an array of \"d(Amplitude)/dx\"\n",
    "    dAmpdx = [np.real(deAmpdx),np.imag(deAmpdx),np.real(dmuAmpdx),np.imag(dmuAmpdx),np.real(dtauAmpdx),np.imag(dtauAmpdx)]\n",
    "    return dAmpdx\n"
   ],
   "outputs": [],
   "execution_count": 12
  },
  {
   "metadata": {
    "ExecuteTime": {
     "end_time": "2024-11-11T17:08:16.316802Z",
     "start_time": "2024-11-11T17:08:16.314394Z"
    }
   },
   "cell_type": "code",
   "source": [
    "#simulates neutrino oscillation, but specialized for moon with variable density\n",
    "#y, z are fixed values, while neutrino travels parallel to x-axis\n",
    "# density function takes x, y, z (location relative to center of moon) and returns moon's density in g/cm^3\n",
    "def three_flavor_prob_any_moon_density(energy, y, z, density_function): #energy in GeVs, y and z in km\n",
    "    r_moon = 1737 #km\n",
    "    x_final = np.sqrt(r_moon**2 - y**2 - z**2)\n",
    "    x0 = -x_final\n",
    "    \n",
    "    x = np.linspace(x0,x_final,1000)\n",
    "    del13 = np.pi/3\n",
    "    solution = odeint(moon_deriv_three_flavor,get_prob_amplitudes(energy),x,args=(energy,del13,y, z, density_function))\n",
    "    ProbNuE = solution[:,0]*solution[:,0] + solution[:,1]*solution[:,1]\n",
    "    ProbNuMu = solution[:,2]*solution[:,2] + solution[:,3]*solution[:,3]\n",
    "    ProbNuTau = solution[:,4]*solution[:,4] + solution[:,5]*solution[:,5]\n",
    "    return x,ProbNuE,ProbNuMu,ProbNuTau,solution "
   ],
   "outputs": [],
   "execution_count": 13
  },
  {
   "metadata": {
    "ExecuteTime": {
     "end_time": "2024-11-11T17:08:16.319420Z",
     "start_time": "2024-11-11T17:08:16.317326Z"
    }
   },
   "cell_type": "code",
   "source": [
    "#this returns a density function that gives density as a function of x, y, z for a given core-mantle density ratio\n",
    "def make_density_function_from_ratio(core_mantle_density_ratio, core_radius): #core radius in km\n",
    "    r_moon = 1737  - 10#km\n",
    "    r_moon_cm = r_moon * 10 ** 5\n",
    "    crust_to_core_distance = 1700 * 10 ** 5 # cm\n",
    "    r_core_cm = core_radius * 10 ** 5 # cm\n",
    "    \n",
    "    \n",
    "    m_moon = 7.342 * 10 ** 25 #grams\n",
    "    m_crust = (4/3) * math.pi * (r_moon_cm ** 3 - crust_to_core_distance ** 3)\n",
    "    m_moon_without_crust = m_moon - m_crust\n",
    "    V_core = (4/3) * math.pi * (r_core_cm ** 3)\n",
    "    V_mantle = (4/3) * math.pi * (crust_to_core_distance ** 3 - r_core_cm)\n",
    "    \n",
    "    mantle_density = m_moon_without_crust / (V_core * core_mantle_density_ratio + V_mantle)\n",
    "    core_density = mantle_density * core_mantle_density_ratio\n",
    "        \n",
    "    \n",
    "    def density_function(x, y, z, d_core=core_density, d_mantle=mantle_density):\n",
    "        r = np.sqrt(x**2 + y**2 + z**2)\n",
    "        if r < core_radius: #core\n",
    "            #print(\"core denstiy\" + str(d_core))\n",
    "            return d_core\n",
    "        if r < 1700: #mantle\n",
    "            #print(\"mantle denstiy\" + str(d_mantle))\n",
    "            return d_mantle\n",
    "        else:\n",
    "            return 2.55 # crust density is known pretty accurately\n",
    "        \n",
    "    return density_function"
   ],
   "outputs": [],
   "execution_count": 14
  },
  {
   "metadata": {
    "ExecuteTime": {
     "end_time": "2024-11-11T17:08:16.321472Z",
     "start_time": "2024-11-11T17:08:16.319936Z"
    }
   },
   "cell_type": "code",
   "source": [
    "#models neutrino travel to earth using approximation form gaisser textbook\n",
    "def decoherence_travel_earth(e_prob,m_prob,t_prob):\n",
    "    p = ([.55, .25, .2],\n",
    "         [0.25, 0.37, 0.38],\n",
    "         [0.2, 0.38, 0.42])\n",
    "    initial_ratios = ([e_prob,m_prob,t_prob])\n",
    "    product = np.matmul(p, initial_ratios)\n",
    "    return product"
   ],
   "outputs": [],
   "execution_count": 15
  },
  {
   "metadata": {
    "ExecuteTime": {
     "end_time": "2024-11-11T17:08:16.323940Z",
     "start_time": "2024-11-11T17:08:16.321903Z"
    }
   },
   "cell_type": "code",
   "source": [
    "#this function simulates many neutrinos of a given energy hitting the moon at different locations and oscillating through it to earth\n",
    "#then it returns the three flavor probabilities\n",
    "def monte_carlo_uniform_core(energy, core_mantle_density_ratio, core_radius): #energy in GeVs\n",
    "    r_moon = 1737 #km\n",
    "    \n",
    "    density_function = make_density_function_from_ratio(core_mantle_density_ratio, core_radius)\n",
    "    \n",
    "    e_prob = 0\n",
    "    m_prob = 0\n",
    "    t_prob = 0\n",
    "    scale_factor = 0\n",
    "\n",
    "    radii = np.linspace(0,r_moon,50)\n",
    "    for radius in radii:\n",
    "        after_moon = three_flavor_prob_any_moon_density(energy, radius, 0, density_function)\n",
    "        e_prob += after_moon[1][-1] * radius \n",
    "        m_prob += after_moon[2][-1] * radius\n",
    "        t_prob += after_moon[3][-1] * radius\n",
    "        scale_factor+=radius\n",
    "    \n",
    "    #normalize probabilities\n",
    "    e_prob /= scale_factor\n",
    "    m_prob /= scale_factor \n",
    "    t_prob /= scale_factor\n",
    "    \n",
    "    #now need to propogate to earth\n",
    "    at_earth_ratios = decoherence_travel_earth(e_prob, m_prob, t_prob)\n",
    "    return at_earth_ratios"
   ],
   "outputs": [],
   "execution_count": 16
  },
  {
   "metadata": {
    "ExecuteTime": {
     "end_time": "2024-11-11T17:08:16.326521Z",
     "start_time": "2024-11-11T17:08:16.324382Z"
    }
   },
   "cell_type": "code",
   "source": [
    "# this visualises the effect of core-mantle density ratio on neutrino flavor probabilities\n",
    "def visualize_density_ratio_vs_probabilities(energy): #energy in GeVs\n",
    "    ratios = [1, 2, 3, 5, 7, 10, 20, 25, 50, 75, 100] #range of density ratios to test\n",
    "    elec_probabilities = []\n",
    "    muon_probabilities = []\n",
    "    tau_probabilities = []\n",
    "    for ratio in ratios:\n",
    "        new_probabilities = monte_carlo_uniform_core(energy, ratio, 330)\n",
    "        elec_probabilities.append(new_probabilities[0])\n",
    "        muon_probabilities.append(new_probabilities[1])\n",
    "        tau_probabilities.append(new_probabilities[2])\n",
    "        \n",
    "    plt.plot(ratios,elec_probabilities,label=r'$P_e$', linestyle=':')\n",
    "    plt.plot(ratios,muon_probabilities,label=r'$P_{\\mu}$', linestyle='-')\n",
    "    plt.plot(ratios,tau_probabilities,label=r'$P_{\\tau}$', linestyle='--')\n",
    "    plt.legend(loc='best')\n",
    "    plt.xlabel('Moon-Mantle Density Ratio')\n",
    "    plt.ylabel('Flavor Probability')\n",
    "    plt.annotate(r'$E_{\\nu} = 1$ GeV', xy=(0.5, 1.03), xycoords='axes fraction', ha='center')#, fontsize=12)\n",
    "    plt.savefig(\"core_density_vs_nu_flavor\",dpi=300,bbox_inches='tight')\n",
    "    return"
   ],
   "outputs": [],
   "execution_count": 17
  },
  {
   "metadata": {
    "ExecuteTime": {
     "end_time": "2024-11-11T17:08:16.328682Z",
     "start_time": "2024-11-11T17:08:16.326996Z"
    }
   },
   "cell_type": "code",
   "source": [
    "def make_density_ratio_vs_energy_heatmap_data():\n",
    "    energies = np.linspace(1, 10, 3)#[1, 2, 3, 5, 7, 10, 20, 50, 75, 100]\n",
    "    ratios = np.linspace(0, 5, 3)\n",
    "    elec_probabilities = []\n",
    "    muon_probabilities = []\n",
    "    tau_probabilities = []\n",
    "    for energy in energies:\n",
    "        for ratio in ratios:\n",
    "            new_probabilities = monte_carlo_uniform_core(energy, ratio, 330)\n",
    "            elec_probabilities.append(new_probabilities[0])\n",
    "            muon_probabilities.append(new_probabilities[1])\n",
    "            tau_probabilities.append(new_probabilities[2])\n",
    "    return elec_probabilities, muon_probabilities, tau_probabilities"
   ],
   "outputs": [],
   "execution_count": 18
  },
  {
   "metadata": {
    "ExecuteTime": {
     "end_time": "2024-11-11T17:08:16.331076Z",
     "start_time": "2024-11-11T17:08:16.329255Z"
    }
   },
   "cell_type": "code",
   "source": [
    "#creates a heatmap to display the muon probabilities for a given energy and core-mantle density ratio\n",
    "#takes data from make_density_ratio_vs_energy_heatmap_data\n",
    "def visualize_density_ratio_and_energy_heatmap(muon_probabilities):\n",
    "    \"\"\"energies = np.linspace(1, 10, 100)#[1, 2, 3, 5, 7, 10, 20, 50, 75, 100]\n",
    "    ratios = np.linspace(1, 100, 100)#[1, 2, 3, 5, 7, 10, 20, 50, 75, 100]\n",
    "    \"\"\"\n",
    "    \n",
    "    energies = np.linspace(1, 10, 3)#[1, 2, 3, 5, 7, 10, 20, 50, 75, 100]\n",
    "    ratios = np.linspace(0, 5, 3)\n",
    "    \n",
    "    # Create a meshgrid\n",
    "    X, Y = np.meshgrid(energies, ratios)     \n",
    "    # Plot the heatmap\n",
    "    plt.figure(figsize=(8, 6))\n",
    "    plt.pcolormesh(X, Y, muon_probabilities, shading='auto', cmap='viridis')\n",
    "    plt.colorbar(label='Muon Flavor Probability')\n",
    "    plt.xlabel('Core-Mantle Density Ratio')\n",
    "    plt.ylabel('Energies (GeV)')\n",
    "    plt.title('Muon Flavor Probability') \n",
    "    plt.savefig(\"Density_Ratio_heatmap_layered_core\",dpi=300,bbox_inches='tight')"
   ],
   "outputs": [],
   "execution_count": 19
  },
  {
   "metadata": {
    "ExecuteTime": {
     "end_time": "2024-11-11T17:08:16.332647Z",
     "start_time": "2024-11-11T17:08:16.331468Z"
    }
   },
   "cell_type": "code",
   "source": "#e_probabilities, m_probabilities, t_probabilities = make_density_ratio_vs_energy_heatmap_data()",
   "outputs": [],
   "execution_count": 20
  },
  {
   "metadata": {
    "ExecuteTime": {
     "end_time": "2024-11-11T17:08:16.334412Z",
     "start_time": "2024-11-11T17:08:16.333153Z"
    }
   },
   "cell_type": "code",
   "source": "#visualize_density_ratio_and_energy_heatmap(np.array(m_probabilities).reshape(3, 3))",
   "outputs": [],
   "execution_count": 21
  },
  {
   "metadata": {
    "ExecuteTime": {
     "end_time": "2024-11-11T17:08:16.337613Z",
     "start_time": "2024-11-11T17:08:16.335057Z"
    }
   },
   "cell_type": "code",
   "source": [
    "#makes density function from ratio like other function\n",
    "#but assumes core has two layers!\n",
    "def make_density_function_from_ratio_layered_core(core_mantle_density_ratio, inner_outer_core_density_ratio):\n",
    "    r_moon = 1737  - 10#km\n",
    "    r_moon_cm = r_moon * 10 ** 5\n",
    "    crust_to_core_distance = 1700 * 10 ** 5 # cm\n",
    "    r_core = 330 * 10 ** 5 # cm\n",
    "    \n",
    "    \n",
    "    m_moon = 7.342 * 10 ** 25 #grams\n",
    "    m_crust = (4/3) * math.pi * (r_moon_cm ** 3 - crust_to_core_distance ** 3)\n",
    "    m_moon_without_crust = m_moon - m_crust\n",
    "    V_core = (4/3) * math.pi * (r_core ** 3)\n",
    "    V_mantle = (4/3) * math.pi * (crust_to_core_distance ** 3 - r_core)\n",
    "    \n",
    "    mantle_density = m_moon_without_crust / (V_core * core_mantle_density_ratio + V_mantle)\n",
    "    overall_core_density = mantle_density * core_mantle_density_ratio\n",
    "    \n",
    "    \n",
    "    m_core = V_core * overall_core_density\n",
    "    r_inner_core = 240 * 10 ** 5 #cm\n",
    "    r_outer_core = r_core + r_inner_core\n",
    "    \n",
    "    V_inner_core = (4/3) * math.pi * (r_core ** 3)\n",
    "    V_outer_core = V_core - V_inner_core\n",
    "    \n",
    "    outer_core_density = m_core / (V_core * inner_outer_core_density_ratio + V_inner_core)\n",
    "    inner_core_density = outer_core_density * inner_outer_core_density_ratio\n",
    "        \n",
    "    \n",
    "    def density_function(x, y, z, d_inner = inner_core_density, d_outer = outer_core_density, d_mantle=mantle_density):\n",
    "        r = np.sqrt(x**2 + y**2 + z**2)\n",
    "        if r < 240:\n",
    "            return d_inner\n",
    "        if r < 330: #core\n",
    "            return d_outer\n",
    "        if r < 1700: #mantle\n",
    "            return d_mantle\n",
    "        else:\n",
    "            return 2.55 # crust density is known pretty accurately\n",
    "        \n",
    "    return density_function"
   ],
   "outputs": [],
   "execution_count": 22
  },
  {
   "metadata": {
    "ExecuteTime": {
     "end_time": "2024-11-11T17:08:16.339884Z",
     "start_time": "2024-11-11T17:08:16.338063Z"
    }
   },
   "cell_type": "code",
   "source": [
    "#same as monte carlo uniform core function\n",
    "#but assumes core has layers\n",
    "#turns out these layers don't seem to matter!\n",
    "def monte_carlo_layered_core(energy, core_mantle_density_ratio, inner_outer_core_density_ratio):\n",
    "    r_moon = 1737 #km\n",
    "    \n",
    "    density_function = make_density_function_from_ratio_layered_core(core_mantle_density_ratio, inner_outer_core_density_ratio)\n",
    "    \n",
    "    e_prob = 0\n",
    "    m_prob = 0\n",
    "    t_prob = 0\n",
    "    scale_factor = 0\n",
    "\n",
    "    radii = np.linspace(0,r_moon,50)\n",
    "    for radius in radii:\n",
    "        after_moon = three_flavor_prob_any_moon_density(energy, radius, 0, density_function)\n",
    "        after_traveling_to_earth = neutrino_travel_to_earth(energy, after_moon)\n",
    "        e_prob += after_traveling_to_earth[1][-1] * radius \n",
    "        m_prob += after_traveling_to_earth[2][-1] * radius\n",
    "        t_prob += after_traveling_to_earth[3][-1] * radius\n",
    "        scale_factor+=radius\n",
    "    \n",
    "    #normalize probabilities\n",
    "    e_prob /= scale_factor\n",
    "    m_prob /= scale_factor \n",
    "    t_prob /= scale_factor\n",
    "    return e_prob,m_prob,t_prob  "
   ],
   "outputs": [],
   "execution_count": 23
  },
  {
   "metadata": {
    "ExecuteTime": {
     "end_time": "2024-11-11T17:08:16.342025Z",
     "start_time": "2024-11-11T17:08:16.340316Z"
    }
   },
   "cell_type": "code",
   "source": [
    "#finds flavor probabilities for a range of energies and ratios\n",
    "#I used this function to make an interesting heatmap\n",
    "def make_density_ratio_vs_energy_heatmap_data_layered_core():\n",
    "    energies = np.linspace(1, 10, 100)#[1, 2, 3, 5, 7, 10, 20, 50, 75, 100]\n",
    "    ratios = np.linspace(1, 100, 100)#[1, 2, 3, 5, 7, 10, 20, 50, 75, 100]\n",
    "    elec_probabilities = []\n",
    "    muon_probabilities = []\n",
    "    tau_probabilities = []\n",
    "    for energy in energies:\n",
    "        for ratio in ratios:\n",
    "            new_probabilities = monte_carlo_layered_core(energy, ratio, 2)\n",
    "            elec_probabilities.append(new_probabilities[0])\n",
    "            muon_probabilities.append(new_probabilities[1])\n",
    "            tau_probabilities.append(new_probabilities[2])\n",
    "    return elec_probabilities, muon_probabilities, tau_probabilities"
   ],
   "outputs": [],
   "execution_count": 24
  },
  {
   "metadata": {
    "ExecuteTime": {
     "end_time": "2024-11-11T17:08:16.344678Z",
     "start_time": "2024-11-11T17:08:16.342452Z"
    }
   },
   "cell_type": "code",
   "source": [
    "#returns final electron flux, muon flux, and electron to muon flavor ration after neutrinos have gone through moon and to eart\n",
    "#for a given lunar model\n",
    "def make_final_flavor_flux(mantle_core_density_ratio, core_radius):\n",
    "    log_energies = np.linspace(0, 1.9, 30) #GeVs\n",
    "    muon_fluxes = []\n",
    "    electron_fluxes = []\n",
    "    e_to_m_ratios = []\n",
    "    for log_energy in log_energies:\n",
    "        total_flux = get_diff_interactions(log_energy)\n",
    "        monte_carlo_results = monte_carlo_uniform_core(10 ** log_energy, mantle_core_density_ratio, core_radius) \n",
    "        electron_flux = total_flux * monte_carlo_results[0] #* energy\n",
    "        electron_fluxes.append(electron_flux)\n",
    "        muon_flux = total_flux * monte_carlo_results[1] #* energy\n",
    "        muon_fluxes.append(muon_flux)\n",
    "        e_to_m_ratios.append(electron_flux / muon_flux)\n",
    "    \n",
    "    electron_flux_interp = interp1d(log_energies, electron_fluxes, kind='linear')\n",
    "    muon_flux_interp = interp1d(log_energies, muon_fluxes, kind='linear')\n",
    "    e_to_m_interp = interp1d(log_energies, e_to_m_ratios, kind='linear')\n",
    "    \n",
    "    return electron_flux_interp, muon_flux_interp, e_to_m_interp"
   ],
   "outputs": [],
   "execution_count": 25
  },
  {
   "metadata": {
    "ExecuteTime": {
     "end_time": "2025-02-05T18:34:57.946101Z",
     "start_time": "2025-02-05T18:34:57.942682Z"
    }
   },
   "cell_type": "code",
   "source": [
    "# for a given core radius and core-mantle density ratio, returns the density of the core\n",
    "def get_core_density(core_radius, core_mantle_density_ratio):\n",
    "    r_moon = 1737  - 10#km\n",
    "    r_moon_cm = r_moon * 10 ** 5\n",
    "    crust_to_core_distance = 1700 * 10 ** 5 # cm\n",
    "    r_core_cm = core_radius * 10 ** 5 # cm\n",
    "    \n",
    "    \n",
    "    m_moon = 7.342 * 10 ** 25 #grams\n",
    "    m_crust = (4/3) * math.pi * (r_moon_cm ** 3 - crust_to_core_distance ** 3)\n",
    "    m_moon_without_crust = m_moon - m_crust\n",
    "    V_core = (4/3) * math.pi * (r_core_cm ** 3)\n",
    "    V_mantle = (4/3) * math.pi * (crust_to_core_distance ** 3 - r_core_cm)\n",
    "    \n",
    "    mantle_density = m_moon_without_crust / (V_core * core_mantle_density_ratio + V_mantle)\n",
    "    core_density = mantle_density * core_mantle_density_ratio\n",
    "    return core_density"
   ],
   "outputs": [],
   "execution_count": 2
  },
  {
   "metadata": {
    "ExecuteTime": {
     "end_time": "2025-02-05T18:37:05.600716Z",
     "start_time": "2025-02-05T18:37:05.597932Z"
    }
   },
   "cell_type": "code",
   "source": "get_core_density(330, 1.77)",
   "outputs": [
    {
     "data": {
      "text/plain": [
       "6.149395559642964"
      ]
     },
     "execution_count": 10,
     "metadata": {},
     "output_type": "execute_result"
    }
   ],
   "execution_count": 10
  },
  {
   "metadata": {},
   "cell_type": "code",
   "outputs": [],
   "execution_count": null,
   "source": ""
  }
 ]
}
