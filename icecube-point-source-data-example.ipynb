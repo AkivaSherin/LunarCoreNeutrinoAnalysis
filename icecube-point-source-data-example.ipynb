{
 "cells": [
  {
   "cell_type": "code",
   "metadata": {
    "ExecuteTime": {
     "end_time": "2024-07-16T17:48:55.906945Z",
     "start_time": "2024-07-16T17:48:55.902009Z"
    }
   },
   "source": [
    "## Imports\n",
    "\n",
    "import numpy as np\n",
    "import scipy as sp\n",
    "import pandas as pd\n",
    "import matplotlib as mpl\n",
    "import matplotlib.pyplot as plt\n",
    "from astropy.io import ascii\n",
    "import pickle\n",
    "import os\n",
    "from scipy import integrate\n",
    "from scipy.integrate import quad\n",
    "from scipy.integrate import odeint\n",
    "from scipy import interpolate\n",
    "from scipy.interpolate import interp1d\n",
    "from scipy.interpolate import interp2d\n",
    "from datetime import datetime\n",
    "\n",
    "\n",
    "import astropy\n",
    "from astropy import units as u\n",
    "from astropy.time import Time\n"
   ],
   "outputs": [],
   "execution_count": 7
  },
  {
   "cell_type": "code",
   "metadata": {
    "ExecuteTime": {
     "end_time": "2024-07-16T17:48:55.933348Z",
     "start_time": "2024-07-16T17:48:55.908555Z"
    }
   },
   "source": [
    "\n",
    "# where I saved the folder w/ data on my laptop\n",
    "data_basepath = '/Users/akivasherin/Desktop/Summer_Reasearch/PhysNotebooks/data/IceCube_data_from_2008_to_2017_related_to_analysis_of_TXS_0506+056'\n",
    "\n",
    "# Paths to event files\n",
    "\n",
    "IC40_events_path = os.path.join(data_basepath ,'events_IC40.txt')\n",
    "IC59_events_path = os.path.join(data_basepath ,'events_IC59.txt')\n",
    "IC79_events_path = os.path.join(data_basepath ,'events_IC79.txt')\n",
    "IC86a_events_path = os.path.join(data_basepath ,'events_IC86a.txt')\n",
    "IC86b_events_path = os.path.join(data_basepath ,'events_IC86b.txt')\n",
    "IC86c_events_path = os.path.join(data_basepath ,'events_IC86c.txt')\n",
    "\n",
    "\n",
    "# Read in event files\n",
    "# Note: using ascii.read and then later convert to pandas dataframe because\n",
    "# ascii.read parses data columns more easily / correctly, but lots of \n",
    "# useful functions already written use pandas dataframes.\n",
    "\n",
    "IC40_events = ascii.read(IC40_events_path)\n",
    "IC59_events = ascii.read(IC59_events_path)\n",
    "IC79_events = ascii.read(IC79_events_path)\n",
    "IC86a_events = ascii.read(IC86a_events_path)\n",
    "IC86b_events = ascii.read(IC86b_events_path)\n",
    "IC86c_events = ascii.read(IC86c_events_path)\n",
    "\n",
    "\n",
    "# Compute & append sin(declination) and log10(angular error), for later \n",
    "# use in signal & background pdfs. Also want column named \"log10(E/GeV)\"\n",
    "# to fit with use in some functions.\n",
    "\n",
    "IC40_events['sin_dec'] = np.sin(np.radians(IC40_events['Dec_deg']))\n",
    "IC59_events['sin_dec'] = np.sin(np.radians(IC59_events['Dec_deg']))\n",
    "IC79_events['sin_dec'] = np.sin(np.radians(IC79_events['Dec_deg']))\n",
    "IC86a_events['sin_dec'] = np.sin(np.radians(IC86a_events['Dec_deg']))\n",
    "IC86b_events['sin_dec'] = np.sin(np.radians(IC86b_events['Dec_deg']))\n",
    "IC86c_events['sin_dec'] = np.sin(np.radians(IC86c_events['Dec_deg']))\n",
    "\n",
    "IC40_events['log10(ang_err)'] = np.log10(np.radians(IC40_events['Unc_deg']))\n",
    "IC59_events['log10(ang_err)'] = np.log10(np.radians(IC59_events['Unc_deg']))\n",
    "IC79_events['log10(ang_err)'] = np.log10(np.radians(IC79_events['Unc_deg']))\n",
    "IC86a_events['log10(ang_err)'] = np.log10(np.radians(IC86a_events['Unc_deg']))\n",
    "IC86b_events['log10(ang_err)'] = np.log10(np.radians(IC86b_events['Unc_deg']))\n",
    "IC86c_events['log10(ang_err)'] = np.log10(np.radians(IC86c_events['Unc_deg']))\n",
    "\n",
    "IC40_events['log10(E/GeV)'] = IC40_events['log10(Ereco)']\n",
    "IC59_events['log10(E/GeV)'] = IC59_events['log10(Ereco)']\n",
    "IC79_events['log10(E/GeV)'] = IC79_events['log10(Ereco)']\n",
    "IC86a_events['log10(E/GeV)'] = IC86a_events['log10(Ereco)']\n",
    "IC86b_events['log10(E/GeV)'] = IC86b_events['log10(Ereco)']\n",
    "IC86c_events['log10(E/GeV)'] = IC86c_events['log10(Ereco)']\n",
    "\n",
    "\n",
    "\n",
    "\n",
    "\n",
    "# Now put all event lists together into one dict\n",
    "# for easier reference later\n",
    "\n",
    "full_events = dict()\n",
    "\n",
    "full_events['IC40'] = IC40_events\n",
    "full_events['IC59'] = IC59_events\n",
    "full_events['IC79'] = IC79_events\n",
    "full_events['IC86a'] = IC86a_events\n",
    "full_events['IC86b'] = IC86b_events\n",
    "full_events['IC86c'] = IC86c_events\n",
    "\n",
    "\n",
    "# Paths to effective area files\n",
    "\n",
    "IC40_aeff_path = os.path.join(data_basepath ,'Aeff_IC40.txt')\n",
    "IC59_aeff_path = os.path.join(data_basepath ,'Aeff_IC59.txt')\n",
    "IC79_aeff_path = os.path.join(data_basepath ,'Aeff_IC79.txt')\n",
    "IC86a_aeff_path = os.path.join(data_basepath ,'Aeff_IC86a.txt')\n",
    "IC86b_aeff_path = os.path.join(data_basepath ,'Aeff_IC86b.txt')\n",
    "IC86c_aeff_path = os.path.join(data_basepath ,'Aeff_IC86c.txt')\n",
    "\n",
    "# Read in files\n",
    "\n",
    "IC40_aeff = ascii.read(IC40_aeff_path)\n",
    "IC59_aeff = ascii.read(IC59_aeff_path)\n",
    "IC79_aeff = ascii.read(IC79_aeff_path)\n",
    "IC86a_aeff = ascii.read(IC86a_aeff_path)\n",
    "IC86b_aeff = ascii.read(IC86b_aeff_path)\n",
    "IC86c_aeff = ascii.read(IC86c_aeff_path)\n",
    "\n",
    "\n",
    "full_aeff = dict()\n",
    "\n",
    "full_aeff['IC40'] = IC40_aeff\n",
    "full_aeff['IC59'] = IC59_aeff\n",
    "full_aeff['IC79'] = IC79_aeff\n",
    "full_aeff['IC86a'] = IC86a_aeff\n",
    "full_aeff['IC86b'] = IC86b_aeff\n",
    "full_aeff['IC86c'] = IC86c_aeff\n",
    "\n",
    "\n",
    "# Load Pprop spline from file\n",
    "# This is Prob(est E_mu | orig E_nu)\n",
    "with open('data/P-EmuHat-Enu-IC.pkl', 'rb') as ifile:\n",
    "    PpropIC = pickle.load(ifile)\n",
    "\n"
   ],
   "outputs": [
    {
     "name": "stderr",
     "output_type": "stream",
     "text": [
      "/var/folders/dr/tnb6gyns3kl9xhswdbqkpm_00000gn/T/ipykernel_33604/401936169.py:101: DeprecationWarning: Please import `interp2d` from the `scipy.interpolate` namespace; the `scipy.interpolate.interpolate` namespace is deprecated and will be removed in SciPy 2.0.0.\n",
      "  PpropIC = pickle.load(ifile)\n"
     ]
    }
   ],
   "execution_count": 8
  },
  {
   "cell_type": "code",
   "metadata": {
    "ExecuteTime": {
     "end_time": "2024-07-16T17:48:55.953086Z",
     "start_time": "2024-07-16T17:48:55.934501Z"
    }
   },
   "source": [
    "# return effective area spline for given data set & declination.\n",
    "# aeff in cm^2 as function of log10(energy/GeV) between 2 and 6\n",
    "def aeff_spline(this_data,dec):\n",
    "    aeff_raw = full_aeff[this_data]\n",
    "    L = len(aeff_raw)\n",
    "    emin_list = []\n",
    "    emax_list = []\n",
    "    aeff_list = []\n",
    "    for i in range(0,L):\n",
    "        emin_list.append(aeff_raw['log10(Emin/GeV)'][i])\n",
    "        emax_list.append(aeff_raw['log10(Emax/GeV)'][i])\n",
    "        aeff_list.append(aeff_raw['Aeff[m2]'][i])\n",
    "    \n",
    "    # make sure that spline definitely covers log(E):2-->6 w/o messing up too much\n",
    "    L2 = len(emin_list)\n",
    "    energy_list = []\n",
    "    energy_list.append(1.999)\n",
    "    aeff_list_2 = []\n",
    "    aeff_list_2.append(0.0)\n",
    "    energy_list.append(emin_list[0])\n",
    "    aeff_list_2.append(aeff_list[0])\n",
    "    for i in range(0,L2):\n",
    "        energy_list.append(0.5*(emin_list[i]+emax_list[i]))\n",
    "        aeff_list_2.append(aeff_list[i])\n",
    "    energy_list.append(emax_list[L2-1])\n",
    "    aeff_list_2.append(aeff_list[L2-1])\n",
    "    \n",
    "    spline = interp1d(energy_list,aeff_list_2,kind='linear')\n",
    "    return spline\n",
    "\n",
    "\n",
    "# Define source and select appropriate data\n",
    "\n",
    "# source coordinates\n",
    "# TXS 0506+056\n",
    "\n",
    "src_ra = 77.3581667\n",
    "src_dec = 5.6931472\n",
    "sin_src_dec = np.sin(np.radians(src_dec))\n",
    "\n",
    "\n",
    "data_set_list = ['IC40','IC59','IC79','IC86a','IC86b','IC86c']\n",
    "\n",
    "# number of events in all-sky sample\n",
    "N = 0\n",
    "for data_set in data_set_list:\n",
    "    N += len(full_events[data_set]['log10(Ereco)'])\n",
    "print('Total all-sky events, N =',N)\n",
    "\n",
    "# Function to compute angular distance (used for psi b/w source and event).\n",
    "# Coordinates given in degrees\n",
    "def angular_distance(ra_1, dec_1, ra_2, dec_2):\n",
    "        delta_dec = np.radians(dec_1 - dec_2)\n",
    "        delta_ra = np.radians(ra_1 - ra_2)\n",
    "        x = (np.sin(delta_dec / 2.))**2. + np.cos(dec_1) *\\\n",
    "            np.cos(dec_2) * (np.sin(delta_ra / 2.))**2.\n",
    "        return np.degrees(2. * np.arcsin(np.sqrt(np.abs(x))))\n",
    "\n",
    "\n",
    "# define function to select & return appropriate events based on location.\n",
    "# Also elminate events outside of interpolation range, log10(E):2-->6.\n",
    "# For the TXS-specific data release, this \n",
    "def select_data_radius(data_set,sra_deg,sdec_deg,rad_deg): # rad = right ascencsion\n",
    "    # ascii.read better for importing, but pandas better for working w/ data\n",
    "    data = data_set.to_pandas()\n",
    "    # Rough cut at first, elminates some weird results:\n",
    "    # (Possible issues w/ quadrant, look into this later. Works for TXS...)\n",
    "    # Not elegant but fine for now.\n",
    "    data2 = data.loc[data['Ra_deg'] < sra_deg+rad_deg].copy()\n",
    "    data3 = data2.loc[data2['Ra_deg'] > sra_deg-rad_deg].copy()\n",
    "    data4 = data3.loc[data3['Dec_deg'] < sdec_deg+rad_deg].copy()\n",
    "    data5 = data4.loc[data4['Dec_deg'] > sdec_deg-rad_deg].copy()\n",
    "    data6 = data5.loc[data5['log10(Ereco)'] >= 2.0].copy()\n",
    "    data7 = data6.loc[data6['log10(Ereco)'] <= 6.0].copy()\n",
    "    data7['psi'] = angular_distance(sra_deg,sdec_deg,data7['Ra_deg'],data7['Dec_deg'])\n",
    "    return_data = data7.loc[data7['psi'] < rad_deg].copy()\n",
    "    return return_data\n",
    "\n",
    "selected_events = dict()\n",
    "for data_set in data_set_list:\n",
    "    # select data w/in 15 degrees of source to reduce compute time\n",
    "    selected_events[data_set] = select_data_radius(full_events[data_set],src_ra,src_dec,5)\n",
    "\n",
    "# Putting selected data into the format which will be used below.\n",
    "src_data = dict()\n",
    "src_data['IC40'] = [selected_events['IC40'],aeff_spline('IC40',src_dec)]\n",
    "src_data['IC59'] = [selected_events['IC59'],aeff_spline('IC59',src_dec)]\n",
    "src_data['IC79'] = [selected_events['IC79'],aeff_spline('IC79',src_dec)]\n",
    "src_data['IC86a'] = [selected_events['IC86a'],aeff_spline('IC86a',src_dec)]\n",
    "src_data['IC86b'] = [selected_events['IC86b'],aeff_spline('IC86b',src_dec)]\n",
    "src_data['IC86c'] = [selected_events['IC86c'],aeff_spline('IC86c',src_dec)]\n",
    "\n",
    "\n",
    "# Length of selected data\n",
    "Np = 0.\n",
    "for data_set in data_set_list:\n",
    "    Np += len(src_data[data_set][0])\n",
    "print('Np =',Np)\n",
    "DeltaN = N - Np\n",
    "print('Delta N =',DeltaN)"
   ],
   "outputs": [
    {
     "name": "stdout",
     "output_type": "stream",
     "text": [
      "Total all-sky events, N = 1257\n",
      "Np = 1254.0\n",
      "Delta N = 3.0\n"
     ]
    }
   ],
   "execution_count": 9
  },
  {
   "cell_type": "code",
   "metadata": {
    "ExecuteTime": {
     "end_time": "2024-07-16T17:48:55.956388Z",
     "start_time": "2024-07-16T17:48:55.953698Z"
    }
   },
   "source": [
    "# Use the different A_eff for each data set to produce a\n",
    "# signal pdf corresponding to each data set\n",
    "\n",
    "# energy_pdf takes gamma value, name of dataset (string), source declination (degrees);\n",
    "# returns a normalized spline over the range log_10(E/GeV): 2-->6.\n",
    "\n",
    "def energy_pdf(gamma,dataset_name,dec):\n",
    "    \n",
    "    l10_energies = np.linspace(2,6,100)\n",
    "    epdf_values = []\n",
    "    \n",
    "    # get effective area spline for this data set and declination\n",
    "    aeff = aeff_spline(dataset_name,dec)\n",
    "    # note aeff(log10(E)), not aeff(E)\n",
    "    \n",
    "    # Iterate over observed muon energies.\n",
    "    # For each muon energy, integrate over possible neutrino energies\n",
    "    \n",
    "    for i in range(0,len(l10_energies)):\n",
    "        eps_mu = l10_energies[i]\n",
    "        # integration variable x is log10(neutrino energy)\n",
    "        integral = integrate.quad(lambda x: (10**x) * aeff(x) * (10**x)**(-gamma) * PpropIC(x,eps_mu),2,6)[0]\n",
    "        epdf_values.append(integral)\n",
    "    \n",
    "    # spline interpolation of unnormalized epdf values:\n",
    "    epdf_spline = interp1d(l10_energies,epdf_values,kind='cubic')\n",
    "    \n",
    "    # normalization factor:\n",
    "    norm = integrate.quad(lambda x: epdf_spline(x),2,6)[0]\n",
    "    \n",
    "    # Now make normalized spline to return\n",
    "    norm_pdf = epdf_spline(l10_energies)/norm\n",
    "    norm_pdf_spline = interp1d(l10_energies,norm_pdf,kind='cubic')\n",
    "    \n",
    "    return norm_pdf_spline\n",
    "\n"
   ],
   "outputs": [],
   "execution_count": 10
  },
  {
   "cell_type": "code",
   "metadata": {
    "ExecuteTime": {
     "end_time": "2024-07-16T17:59:29.779324Z",
     "start_time": "2024-07-16T17:59:29.480182Z"
    }
   },
   "source": [
    "# Example of an IC40 pdf\n",
    "\n",
    "test_pdf = energy_pdf(3.0,'IC86a',src_dec)\n",
    "\n",
    "test_log_energies = np.linspace(2,6,100)\n",
    "\n",
    "plt.plot(test_log_energies, test_pdf(test_log_energies),'k')"
   ],
   "outputs": [
    {
     "name": "stderr",
     "output_type": "stream",
     "text": [
      "/var/folders/dr/tnb6gyns3kl9xhswdbqkpm_00000gn/T/ipykernel_33604/1965502425.py:22: DeprecationWarning: `interp2d` is deprecated in SciPy 1.10 and will be removed in SciPy 1.14.0.\n",
      "\n",
      "For legacy code, nearly bug-for-bug compatible replacements are\n",
      "`RectBivariateSpline` on regular grids, and `bisplrep`/`bisplev` for\n",
      "scattered 2D data.\n",
      "\n",
      "In new code, for regular grids use `RegularGridInterpolator` instead.\n",
      "For scattered data, prefer `LinearNDInterpolator` or\n",
      "`CloughTocher2DInterpolator`.\n",
      "\n",
      "For more details see\n",
      "`https://scipy.github.io/devdocs/notebooks/interp_transition_guide.html`\n",
      "\n",
      "  integral = integrate.quad(lambda x: (10**x) * aeff(x) * (10**x)**(-gamma) * PpropIC(x,eps_mu),2,6)[0]\n"
     ]
    },
    {
     "data": {
      "text/plain": [
       "[<matplotlib.lines.Line2D at 0x31bf4d7c0>]"
      ]
     },
     "execution_count": 12,
     "metadata": {},
     "output_type": "execute_result"
    },
    {
     "data": {
      "text/plain": [
       "<Figure size 640x480 with 1 Axes>"
      ],
      "image/png": "[encoded data removed]"
     },
     "metadata": {},
     "output_type": "display_data"
    }
   ],
   "execution_count": 12
  },
  {
   "cell_type": "code",
   "metadata": {
    "ExecuteTime": {
     "end_time": "2024-07-16T17:48:56.330964Z",
     "start_time": "2024-07-16T17:48:56.329580Z"
    }
   },
   "source": [],
   "outputs": [],
   "execution_count": 11
  }
 ],
 "metadata": {
  "kernelspec": {
   "display_name": "Python 3",
   "language": "python",
   "name": "python3"
  },
  "language_info": {
   "codemirror_mode": {
    "name": "ipython",
    "version": 3
   },
   "file_extension": ".py",
   "mimetype": "text/x-python",
   "name": "python",
   "nbconvert_exporter": "python",
   "pygments_lexer": "ipython3",
   "version": "3.7.3"
  }
 },
 "nbformat": 4,
 "nbformat_minor": 2
}
