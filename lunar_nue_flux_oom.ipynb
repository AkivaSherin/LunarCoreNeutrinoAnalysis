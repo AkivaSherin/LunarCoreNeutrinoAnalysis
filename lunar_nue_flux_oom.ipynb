{
 "cells": [
  {
   "metadata": {},
   "cell_type": "markdown",
   "source": [
    "This was my initial attempt at produce an order of magnitude estimate of the number of neutrinos we could detect that were produced by cosmic rays hitting the moon\n",
    "\n",
    "However, we ultimately decided these results were flawed so I tried again, more carefully "
   ],
   "id": "1a96efb6b2d548c1"
  },
  {
   "cell_type": "code",
   "id": "initial_id",
   "metadata": {
    "collapsed": true,
    "ExecuteTime": {
     "end_time": "2024-07-29T19:15:50.439564Z",
     "start_time": "2024-07-29T19:15:47.987057Z"
    }
   },
   "source": [
    "import numpy as np\n",
    "import scipy as sp\n",
    "import matplotlib as mpl\n",
    "import matplotlib.pyplot as plt\n",
    "from scipy.integrate import odeint, quad\n",
    "import math\n",
    "from scipy.interpolate import interp1d\n",
    "%run /Users/akivasherin/Desktop/Summer_Reasearch/PhysNotebooks/neutrino_oscillations_through_moon.ipynb\n",
    "import pandas as pd"
   ],
   "outputs": [],
   "execution_count": 24
  },
  {
   "metadata": {
    "ExecuteTime": {
     "end_time": "2024-07-29T19:10:08.307239Z",
     "start_time": "2024-07-29T19:10:08.304363Z"
    }
   },
   "cell_type": "code",
   "source": [
    "def get_deepcore_aeff():\n",
    "    muon_energies = [\n",
    "        11.619577203870600,\n",
    "        15.386969895456000,\n",
    "        20.766968750606900,\n",
    "        28.039471640494000,\n",
    "        37.11554934589390,\n",
    "        48.68802823625820,\n",
    "        65.73107111319280,\n",
    "        86.2353235660652,\n",
    "        117.59456183692200,\n",
    "        157.26760623242400,\n",
    "        210.31742215028200,\n",
    "        289.4525549775690,\n",
    "        372.34496424347900,\n",
    "        488.33223225073700,\n",
    "        665.5681432747510,\n",
    "        881.2987936753920,\n",
    "        1248.3595007072500,\n",
    "        1515.0327404078400,\n",
    "        2167.103130150640,\n",
    "        2814.1300318323800,\n",
    "        3909.8387559125200,\n",
    "        5126.444981904390,\n",
    "        6785.569503835040,\n",
    "        9069.457440806710,\n",
    "        12121.608311358900\n",
    "    ]\n",
    "    muon_aeffs = [\n",
    "        0.0000428730033665452,\n",
    "        0.00007880462815669940,\n",
    "        0.00011721022975334800,\n",
    "        0.00023324701361610800,\n",
    "        0.00032044029762451700,\n",
    "        0.0006903676932864000,\n",
    "        0.0012689610031679200,\n",
    "        0.002959813643842190,\n",
    "        0.007088832467204200,\n",
    "        0.015272426579169000,\n",
    "        0.03204402976245170,\n",
    "        0.055863280664316200,\n",
    "        0.1000000000000000,\n",
    "        0.18380944176677900,\n",
    "        0.3039195382313200,\n",
    "        0.5298316906283700,\n",
    "        0.8308836821639960,\n",
    "        1.2035378976219000,\n",
    "        2.0433597178569400,\n",
    "        3.1207061265801600,\n",
    "        4.766075519335840,\n",
    "        7.2789538439831400,\n",
    "        9.73880672847496,\n",
    "        13.73823795883260,\n",
    "        18.873918221350900\n",
    "    ]\n",
    "    \n",
    "    elec_energies = [\n",
    "        11.547819846894600,\n",
    "        15.25222956539020,\n",
    "        20.14497193406780,\n",
    "        27.384196342643600,\n",
    "        36.16873614408160,\n",
    "        48.696752516586300,\n",
    "        64.31811877215080,\n",
    "        86.59643233600650,\n",
    "        115.47819846894600,\n",
    "        153.9926526059490,\n",
    "        205.3525026457150,\n",
    "        271.22725793320300,\n",
    "        368.69450645195700,\n",
    "        477.71256745740400,\n",
    "        649.3816315762110,\n",
    "        865.9643233600650,\n",
    "        1122.018454301960,\n",
    "        1525.2229565390200,\n",
    "        2113.4890398366500,\n",
    "        2712.272579332030,\n",
    "        3616.873614408160,\n",
    "        5207.948328595470,\n",
    "        6556.418494179790,\n",
    "        8743.124580220730,\n",
    "        11437.558630495400\n",
    "    ]\n",
    "    \n",
    "    elec_aeffs = [\n",
    "        0.00002850767716980960,\n",
    "        0.00005384614051094240,\n",
    "        0.00009648205940395280,\n",
    "        0.00016843459541787200,\n",
    "        0.0002788509557809870,\n",
    "        0.00047408779905757700,\n",
    "        0.0007848734137030020,\n",
    "        0.0014442334668857400,\n",
    "        0.0029527658378867800,\n",
    "        0.007071684893688900,\n",
    "        0.018330231037901300,\n",
    "        0.03847354581142570,\n",
    "        0.07269392048571480,\n",
    "        0.12683650743645000,\n",
    "        0.19926337456868600,\n",
    "        0.30483503924965700,\n",
    "        0.4307328704432820,\n",
    "        0.625230385857012,\n",
    "        0.9320043490639320,\n",
    "        1.3167804159015400,\n",
    "        1.8612281755282000,\n",
    "        2.49785252589154,\n",
    "        3.2599853533943500,\n",
    "        4.146678659460920,\n",
    "        5.707433232862690\n",
    "    ]\n",
    "    \n",
    "    elec_aeff_interp = interp1d(elec_energies, elec_aeffs, kind=\"linear\")\n",
    "    muon_aeff_interp = interp1d(muon_energies, muon_aeffs, kind=\"linear\")\n",
    "    \n",
    "    return elec_aeff_interp, muon_aeff_interp"
   ],
   "id": "1eedc7113c9586db",
   "outputs": [],
   "execution_count": 5
  },
  {
   "metadata": {
    "ExecuteTime": {
     "end_time": "2024-07-29T19:10:08.309340Z",
     "start_time": "2024-07-29T19:10:08.307883Z"
    }
   },
   "cell_type": "code",
   "source": "a_eff_elec, a_eff_muon = get_deepcore_aeff()",
   "id": "b566a3b6724cf5da",
   "outputs": [],
   "execution_count": 6
  },
  {
   "metadata": {
    "ExecuteTime": {
     "end_time": "2024-07-29T19:10:08.498983Z",
     "start_time": "2024-07-29T19:10:08.310577Z"
    }
   },
   "cell_type": "code",
   "source": [
    "deepcore_energies = np.linspace(13, 1000)\n",
    "plt.plot(deepcore_energies, a_eff_elec(deepcore_energies))\n",
    "plt.xscale('log')\n",
    "plt.yscale('log')"
   ],
   "id": "44709f1a4f6dc19c",
   "outputs": [
    {
     "data": {
      "text/plain": [
       "<Figure size 640x480 with 1 Axes>"
      ],
      "image/png": "[encoded data removed]"
     },
     "metadata": {},
     "output_type": "display_data"
    }
   ],
   "execution_count": 7
  },
  {
   "metadata": {
    "ExecuteTime": {
     "end_time": "2024-07-29T19:10:08.500911Z",
     "start_time": "2024-07-29T19:10:08.499717Z"
    }
   },
   "cell_type": "code",
   "source": "",
   "id": "7b2a0699b1272f41",
   "outputs": [],
   "execution_count": 7
  },
  {
   "metadata": {
    "ExecuteTime": {
     "end_time": "2024-07-29T19:10:08.504083Z",
     "start_time": "2024-07-29T19:10:08.501544Z"
    }
   },
   "cell_type": "code",
   "source": [
    "def get_icecube_upgrade_aeff_interp():\n",
    "    energies = [\n",
    "        1,\n",
    "        1.1084814620992400,\n",
    "        1.2841808758833600,\n",
    "        1.476825128917860,\n",
    "        1.6735634117049000,\n",
    "        1.9246202366494300,\n",
    "        2.399891973865270,\n",
    "        3.0818953770237500,\n",
    "        3.8147813307403400,\n",
    "        4.791937909144930,\n",
    "        5.844847212340260,\n",
    "        7.342005347535290,\n",
    "        8.88959118635194,\n",
    "        11.084814620992400,\n",
    "        13.322957391827200,\n",
    "        16.370332781677700,\n",
    "        19.820956145517300,\n",
    "        26.602357640704200,\n",
    "        36.50062655876910,\n",
    "        50.824169128591500,\n",
    "        63.37484831938590,\n",
    "        73.42005347535290,\n",
    "        88.24434847158740,\n",
    "        106.06182736967200,\n",
    "        134.2132914547650,\n",
    "        167.3563411704900,\n",
    "        201.14737854469500,\n",
    "        258.30961676116700,\n",
    "        310.46509442664400,\n",
    "        378.6820856391960,\n",
    "        472.19502355134300,\n",
    "        555.1482123742930,\n",
    "        643.141759233203,\n",
    "        756.1261346134230,\n",
    "        888.9591186351930,\n",
    "        1007.3836274301600,\n",
    "    ]\n",
    "    \n",
    "    aeffs = [\n",
    "        0.0007742636826811290,\n",
    "        0.001264304989484070,\n",
    "        0.0024484367468222300,\n",
    "        0.003998083423884910,\n",
    "        0.006390804841860320,\n",
    "        0.010215491323354900,\n",
    "        0.017407673833302400,\n",
    "        0.031622776601683800,\n",
    "        0.04741611045635240,\n",
    "        0.06812920690579620,\n",
    "        0.0918254283565629,\n",
    "        0.1291549665014880,\n",
    "        0.17407673833302400,\n",
    "        0.22967361763386400,\n",
    "        0.27238625281248800,\n",
    "        0.3443792984976990,\n",
    "        0.3913745601980380,\n",
    "        0.48437886495410400,\n",
    "        0.5868383921470200,\n",
    "        0.6812920690579620,\n",
    "        0.6959733220132110,\n",
    "        0.7909483932417860,\n",
    "        0.9582558549602660,\n",
    "        1.2376350284724800,\n",
    "        1.436836683778830,\n",
    "        1.668100537200060,\n",
    "        1.8557459376156500,\n",
    "        2.108987832143100,\n",
    "        2.108987832143100,\n",
    "        2.3462288481422600,\n",
    "        2.5011984342945800,\n",
    "        3.0302710828664000,\n",
    "        3.095570795443490,\n",
    "        2.9037750072735100,\n",
    "        2.7238625281248800,\n",
    "        3.230421999948910\n",
    "    ]\n",
    "    \n",
    "    for i in range(len(aeffs)):\n",
    "        aeffs[i] /= 10000 #converting cm^2 to m^2\n",
    "    \n",
    "    interpolation = interp1d(energies, aeffs, kind='linear')\n",
    "    \n",
    "    return interpolation"
   ],
   "id": "6d49858d88bae93a",
   "outputs": [],
   "execution_count": 8
  },
  {
   "metadata": {
    "ExecuteTime": {
     "end_time": "2024-07-29T19:10:08.506056Z",
     "start_time": "2024-07-29T19:10:08.504620Z"
    }
   },
   "cell_type": "code",
   "source": [
    "def get_total_interactions_upgrade(e_min, e_max):\n",
    "    return quad(upgrade_integrand, e_min, e_max)[0]"
   ],
   "id": "93d5e0038c840b09",
   "outputs": [],
   "execution_count": 9
  },
  {
   "metadata": {
    "ExecuteTime": {
     "end_time": "2024-07-29T19:10:08.507884Z",
     "start_time": "2024-07-29T19:10:08.506526Z"
    }
   },
   "cell_type": "code",
   "source": "ice_cube_upgrade_aeff_interp = get_icecube_upgrade_aeff_interp()",
   "id": "c41982454491ef5c",
   "outputs": [],
   "execution_count": 10
  },
  {
   "metadata": {
    "ExecuteTime": {
     "end_time": "2024-07-29T19:11:13.126251Z",
     "start_time": "2024-07-29T19:11:13.123269Z"
    }
   },
   "cell_type": "code",
   "source": "ice_cube_upgrade_aeff_interp(1)",
   "id": "5cce86af16c8042e",
   "outputs": [
    {
     "data": {
      "text/plain": [
       "array(7.74263683e-08)"
      ]
     },
     "execution_count": 21,
     "metadata": {},
     "output_type": "execute_result"
    }
   ],
   "execution_count": 21
  },
  {
   "metadata": {
    "ExecuteTime": {
     "end_time": "2024-07-29T19:10:08.509894Z",
     "start_time": "2024-07-29T19:10:08.508392Z"
    }
   },
   "cell_type": "code",
   "source": [
    "def get_ibd_xs(energy): #GeVs\n",
    "    energy *= 10 ** 3 # coverting to MeV\n",
    "    xs = 10 ** -4 * (5 * 10 ** -44) * (energy ** 2) #m^2\n",
    "    return xs"
   ],
   "id": "f52a4d76505927a0",
   "outputs": [],
   "execution_count": 11
  },
  {
   "metadata": {
    "ExecuteTime": {
     "end_time": "2024-07-29T19:10:08.512876Z",
     "start_time": "2024-07-29T19:10:08.511431Z"
    }
   },
   "cell_type": "code",
   "source": [
    "def make_super_k_integrand(energy):\n",
    "    moon_solid_angle = 0.0000648\n",
    "    nt = 1.5 * 10 ** 33\n",
    "    flux = e_nue_flux(energy)\n",
    "    return get_ibd_xs(energy) * flux * nt * moon_solid_angle"
   ],
   "id": "1394713ee4561b4a",
   "outputs": [],
   "execution_count": 12
  },
  {
   "metadata": {
    "ExecuteTime": {
     "end_time": "2024-07-29T19:10:08.514637Z",
     "start_time": "2024-07-29T19:10:08.513357Z"
    }
   },
   "cell_type": "code",
   "source": [
    "def make_eclipse_integrand(energy):\n",
    "    nt = 1.5 * 10 ** 33\n",
    "    flux = 10 ** 2 * 10 ** -4\n",
    "    return get_ibd_xs(energy) * flux * nt"
   ],
   "id": "97a60a0656c22018",
   "outputs": [],
   "execution_count": 13
  },
  {
   "metadata": {
    "ExecuteTime": {
     "end_time": "2024-07-29T19:10:08.516412Z",
     "start_time": "2024-07-29T19:10:08.515115Z"
    }
   },
   "cell_type": "code",
   "source": [
    "#returns differential cosmic ray flux\n",
    "# units are\n",
    "def cosmic_ray_flux(energy): #GeVs\n",
    "    return 1.7 * 10 ** 4 * (energy ** -2.7) #/m^2/s/sr/GeV"
   ],
   "id": "eaf7f4d96a4b2603",
   "outputs": [],
   "execution_count": 14
  },
  {
   "metadata": {
    "ExecuteTime": {
     "end_time": "2024-07-29T19:10:08.518813Z",
     "start_time": "2024-07-29T19:10:08.516972Z"
    }
   },
   "cell_type": "code",
   "source": [
    "def get_lunar_nue_flux(energy): #GeVs\n",
    "    energy *= 10 # because then the cosmic ray will lose 90% of energy\n",
    "    cosmic_rays_per_m2 = cosmic_ray_flux(energy) * 2 * np.pi\n",
    "    r_moon = 1737 * 10 ** 3 # m\n",
    "    sa_moon = 4 * np.pi * r_moon ** 2\n",
    "    total_neutrinos = sa_moon * cosmic_rays_per_m2\n",
    "    \n",
    "    dist_moon_to_earth = 384400 * 10 ** 3 # m\n",
    "    flux_at_earth = total_neutrinos / (4 * np.pi * dist_moon_to_earth ** 2)\n",
    "    return flux_at_earth #/m^2/GeV/s"
   ],
   "id": "c24bcf473aabaed0",
   "outputs": [],
   "execution_count": 15
  },
  {
   "metadata": {
    "ExecuteTime": {
     "end_time": "2024-07-29T19:10:08.520725Z",
     "start_time": "2024-07-29T19:10:08.519203Z"
    }
   },
   "cell_type": "code",
   "source": [
    " def upgrade_integrand(energy): #GeVs\n",
    "    return ice_cube_upgrade_aeff_interp(energy) * get_lunar_nue_flux(energy)"
   ],
   "id": "78bd7a7dccb73fe1",
   "outputs": [],
   "execution_count": 16
  },
  {
   "metadata": {
    "ExecuteTime": {
     "end_time": "2024-07-29T19:10:08.523277Z",
     "start_time": "2024-07-29T19:10:08.521300Z"
    }
   },
   "cell_type": "code",
   "source": "int = quad(upgrade_integrand, 1, 10)[0]",
   "id": "2964014480bbcf24",
   "outputs": [],
   "execution_count": 17
  },
  {
   "metadata": {
    "ExecuteTime": {
     "end_time": "2024-07-29T19:10:08.525612Z",
     "start_time": "2024-07-29T19:10:08.523780Z"
    }
   },
   "cell_type": "code",
   "source": "",
   "id": "5cfc26dfbc602972",
   "outputs": [
    {
     "data": {
      "text/plain": [
       "3.725647643557766e-09"
      ]
     },
     "execution_count": 18,
     "metadata": {},
     "output_type": "execute_result"
    }
   ],
   "execution_count": 18
  },
  {
   "metadata": {
    "ExecuteTime": {
     "end_time": "2024-07-29T19:16:39.721837Z",
     "start_time": "2024-07-29T19:16:39.378418Z"
    }
   },
   "cell_type": "code",
   "source": [
    "# Define path to file (you may need to change this to match your system)\n",
    "input_file = \"neutrino_mc.csv\"\n",
    "\n",
    "# Load the file using pandas\n",
    "input_data = pd.read_csv(input_file)\n",
    "# Defining a few useful thing sbefore we get started...\n",
    "\n",
    "# Define some energy bins (used throughout this notebook)\n",
    "energy_bins_fine = np.logspace(0., 2., num=21)\n",
    "energy_bins_course = np.logspace(0., 2., num=11)\n",
    "\n",
    "# Define masks to identify different neutrino flavors\n",
    "nue_mask = (np.abs(input_data[\"pdg\"]) == 12)\n",
    "numu_mask = (np.abs(input_data[\"pdg\"]) == 14)\n",
    "nutau_mask = (np.abs(input_data[\"pdg\"]) == 16)\n",
    "\n",
    "# It is often desirable to seperate the neutrinos by flavor and interaction.\n",
    "# It is common to consider all Neutral Current (NC) interactions together, as \n",
    "# there is no final state charged lepton with which to discriminate the different \n",
    "# neutrino flavors.\n",
    "# Define masks to identify different flavor/interaction combinations.\n",
    "nc_mask = input_data[\"current_type\"] == 0\n",
    "cc_mask = input_data[\"current_type\"] == 1\n",
    "nue_cc_mask = nue_mask & cc_mask\n",
    "numu_cc_mask = numu_mask & cc_mask\n",
    "nutau_cc_mask = nutau_mask & cc_mask\n",
    "# Choosing nue CC events as an example\n",
    "chosen_mask = nue_cc_mask\n",
    "\n",
    "# Calc effective area\n",
    "effective_area_hist, bin_edges = np.histogram(input_data[\"true_energy\"][chosen_mask], weights=input_data[\"weight\"][chosen_mask], bins=energy_bins_fine )\n",
    "effective_area_hist /= 4. * np.pi # Normalise by solid angle (using the fully sky)\n",
    "effective_area_hist /= np.diff(bin_edges) # Bin widths\n",
    "\n",
    "# Plot\n",
    "fig, ax = plt.subplots(figsize=(7,5))\n",
    "ax.step( bin_edges, effective_area_hist.tolist()+[effective_area_hist[-1]], where=\"post\", color=\"blue\", label=r\"$\\nu_{e,CC}$\" )\n",
    "ax.set_xscale(\"log\")\n",
    "ax.set_yscale(\"log\")\n",
    "ax.set_xlabel(r\"$E_{\\nu,\\rm{true}}$ [GeV]\")\n",
    "ax.set_ylabel(r\"$A_{\\rm{eff}}$ [$\\rm{m^2}$]\")\n",
    "ax.grid(True)\n",
    "_ = ax.legend()"
   ],
   "id": "608d77832e7dccc",
   "outputs": [
    {
     "data": {
      "text/plain": [
       "<Figure size 700x500 with 1 Axes>"
      ],
      "image/png": "[encoded data removed]"
     },
     "metadata": {},
     "output_type": "display_data"
    }
   ],
   "execution_count": 27
  },
  {
   "metadata": {
    "ExecuteTime": {
     "end_time": "2024-07-29T19:17:24.653202Z",
     "start_time": "2024-07-29T19:17:24.650405Z"
    }
   },
   "cell_type": "code",
   "source": "effective_area_hist[1]",
   "id": "20c77c6cc8470bb7",
   "outputs": [
    {
     "data": {
      "text/plain": [
       "5.192091246414269e-07"
      ]
     },
     "execution_count": 30,
     "metadata": {},
     "output_type": "execute_result"
    }
   ],
   "execution_count": 30
  },
  {
   "metadata": {},
   "cell_type": "code",
   "outputs": [],
   "execution_count": null,
   "source": "",
   "id": "41633099e1c4e917"
  }
 ],
 "metadata": {
  "kernelspec": {
   "display_name": "Python 3",
   "language": "python",
   "name": "python3"
  },
  "language_info": {
   "codemirror_mode": {
    "name": "ipython",
    "version": 2
   },
   "file_extension": ".py",
   "mimetype": "text/x-python",
   "name": "python",
   "nbconvert_exporter": "python",
   "pygments_lexer": "ipython2",
   "version": "2.7.6"
  }
 },
 "nbformat": 4,
 "nbformat_minor": 5
}
