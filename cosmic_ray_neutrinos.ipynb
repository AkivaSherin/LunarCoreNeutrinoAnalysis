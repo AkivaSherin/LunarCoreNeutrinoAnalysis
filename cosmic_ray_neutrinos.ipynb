{
 "cells": [
  {
   "metadata": {
    "ExecuteTime": {
     "end_time": "2024-06-20T20:23:11.917711Z",
     "start_time": "2024-06-20T20:23:11.915240Z"
    }
   },
   "cell_type": "code",
   "source": "import math",
   "id": "a133855197488004",
   "outputs": [],
   "execution_count": 7
  },
  {
   "metadata": {
    "ExecuteTime": {
     "end_time": "2024-06-20T20:23:01.713785Z",
     "start_time": "2024-06-20T20:23:01.712162Z"
    }
   },
   "cell_type": "code",
   "source": [
    "def diff_proton_flux(energy): #energy in GeVs\n",
    "    return 1.7 * 10 ** 4 * (energy ** -2.7) # /m^2 /s /sr /GeV"
   ],
   "id": "initial_id",
   "outputs": [],
   "execution_count": 4
  },
  {
   "metadata": {
    "ExecuteTime": {
     "end_time": "2024-06-20T20:23:02.543588Z",
     "start_time": "2024-06-20T20:23:02.540247Z"
    }
   },
   "cell_type": "code",
   "source": [
    "def find_neutrino_flux():\n",
    "    quad(diff_proton_flux, 1, 10 ** 9)\n",
    "    return diff_proton_flux(en"
   ],
   "id": "dbebcc408e794501",
   "outputs": [
    {
     "ename": "SyntaxError",
     "evalue": "incomplete input (3486515553.py, line 3)",
     "output_type": "error",
     "traceback": [
      "\u001B[0;36m  Cell \u001B[0;32mIn[5], line 3\u001B[0;36m\u001B[0m\n\u001B[0;31m    return diff_proton_flux(en\u001B[0m\n\u001B[0m                              ^\u001B[0m\n\u001B[0;31mSyntaxError\u001B[0m\u001B[0;31m:\u001B[0m incomplete input\n"
     ]
    }
   ],
   "execution_count": 5
  },
  {
   "metadata": {
    "ExecuteTime": {
     "end_time": "2024-06-24T17:53:01.767366Z",
     "start_time": "2024-06-24T17:53:01.756590Z"
    }
   },
   "cell_type": "code",
   "source": [
    "density = 0.91\n",
    "nucleon_mass = 1.66 * 10 ** -24\n",
    "nucleon_density = density / nucleon_mass  #nucleons per cm^3\n",
    "v_ice_cube = 8 * 10 ** 15 # cm^3\n",
    "total_nucleons = nucleon_density * v_ice_cube\n",
    "    \n",
    "print(total_nucleons)"
   ],
   "id": "c62a23e1d4d368d4",
   "outputs": [
    {
     "name": "stdout",
     "output_type": "stream",
     "text": [
      "4.3855421686746997e+39\n"
     ]
    }
   ],
   "execution_count": 9
  },
  {
   "metadata": {},
   "cell_type": "code",
   "outputs": [],
   "execution_count": null,
   "source": "",
   "id": "5849e7ec163f6f23"
  }
 ],
 "metadata": {
  "kernelspec": {
   "display_name": "Python 3",
   "language": "python",
   "name": "python3"
  },
  "language_info": {
   "codemirror_mode": {
    "name": "ipython",
    "version": 2
   },
   "file_extension": ".py",
   "mimetype": "text/x-python",
   "name": "python",
   "nbconvert_exporter": "python",
   "pygments_lexer": "ipython2",
   "version": "2.7.6"
  }
 },
 "nbformat": 4,
 "nbformat_minor": 5
}
